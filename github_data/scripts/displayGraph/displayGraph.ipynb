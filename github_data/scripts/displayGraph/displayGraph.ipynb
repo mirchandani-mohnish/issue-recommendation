{
 "cells": [
  {
   "cell_type": "code",
   "execution_count": 1,
   "metadata": {},
   "outputs": [],
   "source": [
    "\n",
    "import networkx as nx\n",
    "from itertools import combinations\n",
    "from sklearn.metrics.pairwise import cosine_similarity\n",
    "import numpy as np\n",
    "import fileDefinitions as fd\n",
    "import utils.helper_methods as helper_methods\n",
    "from networkx.algorithms import bipartite\n",
    "import time\n",
    "import matplotlib.pyplot as plt"
   ]
  },
  {
   "cell_type": "code",
   "execution_count": 2,
   "metadata": {},
   "outputs": [
    {
     "name": "stdout",
     "output_type": "stream",
     "text": [
      "graph file found at \n"
     ]
    }
   ],
   "source": [
    "\n",
    "try:\n",
    "    gph = nx.read_gexf(fd.fullyConnGraphFile)\n",
    "    helper_methods.logData(\"graph file found at \" + str())\n",
    "except Exception as e:\n",
    "    helper_methods.logData(e)\n",
    "    gph = nx.Graph()\n",
    "    helper_methods.logData(\"new graph file generated\")\n",
    "\n",
    "\n"
   ]
  },
  {
   "cell_type": "code",
   "execution_count": 24,
   "metadata": {},
   "outputs": [
    {
     "ename": "AttributeError",
     "evalue": "'Graph' object has no attribute 'node'",
     "output_type": "error",
     "traceback": [
      "\u001b[0;31m---------------------------------------------------------------------------\u001b[0m",
      "\u001b[0;31mAttributeError\u001b[0m                            Traceback (most recent call last)",
      "Cell \u001b[0;32mIn[24], line 8\u001b[0m\n\u001b[1;32m      6\u001b[0m \u001b[38;5;28;01mfor\u001b[39;00m n \u001b[38;5;129;01min\u001b[39;00m gph:\n\u001b[1;32m      7\u001b[0m     sampleNodeList\u001b[38;5;241m.\u001b[39mappend(n)\n\u001b[0;32m----> 8\u001b[0m     \u001b[38;5;28;01mif\u001b[39;00m (\u001b[43mgph\u001b[49m\u001b[38;5;241;43m.\u001b[39;49m\u001b[43mnode\u001b[49m[n][\u001b[38;5;124m'\u001b[39m\u001b[38;5;124mbipartite\u001b[39m\u001b[38;5;124m'\u001b[39m] \u001b[38;5;241m==\u001b[39m \u001b[38;5;241m0\u001b[39m):\n\u001b[1;32m      9\u001b[0m         userList\u001b[38;5;241m.\u001b[39mappend(n)\n\u001b[1;32m     10\u001b[0m     count \u001b[38;5;241m-\u001b[39m\u001b[38;5;241m=\u001b[39m \u001b[38;5;241m1\u001b[39m\n",
      "\u001b[0;31mAttributeError\u001b[0m: 'Graph' object has no attribute 'node'"
     ]
    }
   ],
   "source": [
    "count = 40\n",
    "sampleNodeList = []\n",
    "sampleEdgeList = []\n",
    "\n",
    "userList = []\n",
    "for n in gph:\n",
    "    sampleNodeList.append(n)\n",
    "    \n",
    "    count -= 1\n",
    "    if(count == 0):\n",
    "        break"
   ]
  },
  {
   "cell_type": "code",
   "execution_count": 22,
   "metadata": {},
   "outputs": [
    {
     "ename": "NetworkXError",
     "evalue": "Node ('lapce', {'attr': \"{'login': 'lapce', 'id': 43668847, 'node_id': 'MDEyOk9yZ2FuaXphdGlvbjQzNjY4ODQ3', 'url': 'https://api.github.com/users/lapce', 'followers_url': 'https://api.github.com/users/lapce/followers', 'following_url': 'https://api.github.com/users/lapce/following{/other_user}', 'starred_url': 'https://api.github.com/users/lapce/starred{/owner}{/repo}', 'repos_url': 'https://api.github.com/users/lapce/repos'}\", 'bipartite': 0, 'label': 'lapce'}) in sequence nbunch is not a valid node.",
     "output_type": "error",
     "traceback": [
      "\u001b[0;31m---------------------------------------------------------------------------\u001b[0m",
      "\u001b[0;31mTypeError\u001b[0m                                 Traceback (most recent call last)",
      "File \u001b[0;32m~/.local/lib/python3.10/site-packages/networkx/classes/graph.py:2011\u001b[0m, in \u001b[0;36mGraph.nbunch_iter.<locals>.bunch_iter\u001b[0;34m(nlist, adj)\u001b[0m\n\u001b[1;32m   2010\u001b[0m \u001b[39mfor\u001b[39;00m n \u001b[39min\u001b[39;00m nlist:\n\u001b[0;32m-> 2011\u001b[0m     \u001b[39mif\u001b[39;00m n \u001b[39min\u001b[39;49;00m adj:\n\u001b[1;32m   2012\u001b[0m         \u001b[39myield\u001b[39;00m n\n",
      "\u001b[0;31mTypeError\u001b[0m: unhashable type: 'dict'",
      "\nDuring handling of the above exception, another exception occurred:\n",
      "\u001b[0;31mNetworkXError\u001b[0m                             Traceback (most recent call last)",
      "Cell \u001b[0;32mIn[22], line 2\u001b[0m\n\u001b[1;32m      1\u001b[0m \u001b[38;5;66;03m# subgraph_nodes = [1, 2, 'a', 'b', 'c', 'd', 'e', 'f']\u001b[39;00m\n\u001b[0;32m----> 2\u001b[0m subgraph \u001b[38;5;241m=\u001b[39m \u001b[43mgph\u001b[49m\u001b[38;5;241;43m.\u001b[39;49m\u001b[43msubgraph\u001b[49m\u001b[43m(\u001b[49m\u001b[43msampleNodeList\u001b[49m\u001b[43m)\u001b[49m\n\u001b[1;32m      6\u001b[0m pos \u001b[38;5;241m=\u001b[39m nx\u001b[38;5;241m.\u001b[39mbipartite_layout(subgraph, userList)\n\u001b[1;32m      7\u001b[0m nx\u001b[38;5;241m.\u001b[39mdraw(subgraph, pos, with_labels\u001b[38;5;241m=\u001b[39m\u001b[38;5;28;01mTrue\u001b[39;00m)\n",
      "File \u001b[0;32m~/.local/lib/python3.10/site-packages/networkx/classes/graph.py:1820\u001b[0m, in \u001b[0;36mGraph.subgraph\u001b[0;34m(self, nodes)\u001b[0m\n\u001b[1;32m   1763\u001b[0m \u001b[39mdef\u001b[39;00m \u001b[39msubgraph\u001b[39m(\u001b[39mself\u001b[39m, nodes):\n\u001b[1;32m   1764\u001b[0m \u001b[39m    \u001b[39m\u001b[39m\"\"\"Returns a SubGraph view of the subgraph induced on `nodes`.\u001b[39;00m\n\u001b[1;32m   1765\u001b[0m \n\u001b[1;32m   1766\u001b[0m \u001b[39m    The induced subgraph of the graph contains the nodes in `nodes`\u001b[39;00m\n\u001b[0;32m   (...)\u001b[0m\n\u001b[1;32m   1818\u001b[0m \u001b[39m    [(0, 1), (1, 2)]\u001b[39;00m\n\u001b[1;32m   1819\u001b[0m \u001b[39m    \"\"\"\u001b[39;00m\n\u001b[0;32m-> 1820\u001b[0m     induced_nodes \u001b[39m=\u001b[39m nx\u001b[39m.\u001b[39;49mfilters\u001b[39m.\u001b[39;49mshow_nodes(\u001b[39mself\u001b[39;49m\u001b[39m.\u001b[39;49mnbunch_iter(nodes))\n\u001b[1;32m   1821\u001b[0m     \u001b[39m# if already a subgraph, don't make a chain\u001b[39;00m\n\u001b[1;32m   1822\u001b[0m     subgraph \u001b[39m=\u001b[39m nx\u001b[39m.\u001b[39mgraphviews\u001b[39m.\u001b[39msubgraph_view\n",
      "File \u001b[0;32m~/.local/lib/python3.10/site-packages/networkx/classes/filters.py:52\u001b[0m, in \u001b[0;36mshow_nodes.__init__\u001b[0;34m(self, nodes)\u001b[0m\n\u001b[1;32m     51\u001b[0m \u001b[39mdef\u001b[39;00m \u001b[39m__init__\u001b[39m(\u001b[39mself\u001b[39m, nodes):\n\u001b[0;32m---> 52\u001b[0m     \u001b[39mself\u001b[39m\u001b[39m.\u001b[39mnodes \u001b[39m=\u001b[39m \u001b[39mset\u001b[39;49m(nodes)\n",
      "File \u001b[0;32m~/.local/lib/python3.10/site-packages/networkx/classes/graph.py:2025\u001b[0m, in \u001b[0;36mGraph.nbunch_iter.<locals>.bunch_iter\u001b[0;34m(nlist, adj)\u001b[0m\n\u001b[1;32m   2021\u001b[0m \u001b[39mif\u001b[39;00m \u001b[39m\"\u001b[39m\u001b[39mhashable\u001b[39m\u001b[39m\"\u001b[39m \u001b[39min\u001b[39;00m message:\n\u001b[1;32m   2022\u001b[0m     exc \u001b[39m=\u001b[39m NetworkXError(\n\u001b[1;32m   2023\u001b[0m         \u001b[39mf\u001b[39m\u001b[39m\"\u001b[39m\u001b[39mNode \u001b[39m\u001b[39m{\u001b[39;00mn\u001b[39m}\u001b[39;00m\u001b[39m in sequence nbunch is not a valid node.\u001b[39m\u001b[39m\"\u001b[39m\n\u001b[1;32m   2024\u001b[0m     )\n\u001b[0;32m-> 2025\u001b[0m \u001b[39mraise\u001b[39;00m exc\n",
      "\u001b[0;31mNetworkXError\u001b[0m: Node ('lapce', {'attr': \"{'login': 'lapce', 'id': 43668847, 'node_id': 'MDEyOk9yZ2FuaXphdGlvbjQzNjY4ODQ3', 'url': 'https://api.github.com/users/lapce', 'followers_url': 'https://api.github.com/users/lapce/followers', 'following_url': 'https://api.github.com/users/lapce/following{/other_user}', 'starred_url': 'https://api.github.com/users/lapce/starred{/owner}{/repo}', 'repos_url': 'https://api.github.com/users/lapce/repos'}\", 'bipartite': 0, 'label': 'lapce'}) in sequence nbunch is not a valid node."
     ]
    }
   ],
   "source": [
    "\n",
    "\n",
    "# subgraph_nodes = [1, 2, 'a', 'b', 'c', 'd', 'e', 'f']\n",
    "subgraph = gph.subgraph(sampleNodeList)\n",
    "\n",
    "\n",
    "        \n",
    "pos = nx.bipartite_layout(subgraph, userList)\n",
    "nx.draw(subgraph, pos, with_labels=True)\n",
    "plt.show()"
   ]
  },
  {
   "cell_type": "code",
   "execution_count": 5,
   "metadata": {},
   "outputs": [
    {
     "ename": "KeyboardInterrupt",
     "evalue": "",
     "output_type": "error",
     "traceback": [
      "\u001b[0;31m---------------------------------------------------------------------------\u001b[0m",
      "\u001b[0;31mKeyboardInterrupt\u001b[0m                         Traceback (most recent call last)",
      "Cell \u001b[0;32mIn[5], line 1\u001b[0m\n\u001b[0;32m----> 1\u001b[0m \u001b[43mnx\u001b[49m\u001b[38;5;241;43m.\u001b[39;49m\u001b[43mdraw_networkx\u001b[49m\u001b[43m(\u001b[49m\u001b[43mgph\u001b[49m\u001b[43m,\u001b[49m\u001b[43m \u001b[49m\u001b[43mwith_labels\u001b[49m\u001b[38;5;241;43m=\u001b[39;49m\u001b[38;5;28;43;01mTrue\u001b[39;49;00m\u001b[43m,\u001b[49m\u001b[43mnodelist\u001b[49m\u001b[38;5;241;43m=\u001b[39;49m\u001b[43msampleNodeList\u001b[49m\u001b[43m,\u001b[49m\u001b[43m \u001b[49m\u001b[43mnode_size\u001b[49m\u001b[38;5;241;43m=\u001b[39;49m\u001b[38;5;241;43m20\u001b[39;49m\u001b[43m,\u001b[49m\u001b[43mwidth\u001b[49m\u001b[38;5;241;43m=\u001b[39;49m\u001b[38;5;241;43m0.2\u001b[39;49m\u001b[43m)\u001b[49m\n\u001b[1;32m      2\u001b[0m plt\u001b[38;5;241m.\u001b[39mshow()\n",
      "File \u001b[0;32m~/.local/lib/python3.10/site-packages/networkx/drawing/nx_pylab.py:301\u001b[0m, in \u001b[0;36mdraw_networkx\u001b[0;34m(G, pos, arrows, with_labels, **kwds)\u001b[0m\n\u001b[1;32m    298\u001b[0m label_kwds \u001b[39m=\u001b[39m {k: v \u001b[39mfor\u001b[39;00m k, v \u001b[39min\u001b[39;00m kwds\u001b[39m.\u001b[39mitems() \u001b[39mif\u001b[39;00m k \u001b[39min\u001b[39;00m valid_label_kwds}\n\u001b[1;32m    300\u001b[0m \u001b[39mif\u001b[39;00m pos \u001b[39mis\u001b[39;00m \u001b[39mNone\u001b[39;00m:\n\u001b[0;32m--> 301\u001b[0m     pos \u001b[39m=\u001b[39m nx\u001b[39m.\u001b[39;49mdrawing\u001b[39m.\u001b[39;49mspring_layout(G)  \u001b[39m# default to spring layout\u001b[39;00m\n\u001b[1;32m    303\u001b[0m draw_networkx_nodes(G, pos, \u001b[39m*\u001b[39m\u001b[39m*\u001b[39mnode_kwds)\n\u001b[1;32m    304\u001b[0m draw_networkx_edges(G, pos, arrows\u001b[39m=\u001b[39marrows, \u001b[39m*\u001b[39m\u001b[39m*\u001b[39medge_kwds)\n",
      "File \u001b[0;32m~/.local/lib/python3.10/site-packages/networkx/utils/decorators.py:766\u001b[0m, in \u001b[0;36margmap.__call__.<locals>.func\u001b[0;34m(_argmap__wrapper, *args, **kwargs)\u001b[0m\n\u001b[1;32m    765\u001b[0m \u001b[39mdef\u001b[39;00m \u001b[39mfunc\u001b[39m(\u001b[39m*\u001b[39margs, __wrapper\u001b[39m=\u001b[39m\u001b[39mNone\u001b[39;00m, \u001b[39m*\u001b[39m\u001b[39m*\u001b[39mkwargs):\n\u001b[0;32m--> 766\u001b[0m     \u001b[39mreturn\u001b[39;00m argmap\u001b[39m.\u001b[39;49m_lazy_compile(__wrapper)(\u001b[39m*\u001b[39;49margs, \u001b[39m*\u001b[39;49m\u001b[39m*\u001b[39;49mkwargs)\n",
      "File \u001b[0;32m<class 'networkx.utils.decorators.argmap'> compilation 13:4\u001b[0m, in \u001b[0;36margmap_spring_layout_10\u001b[0;34m(G, k, pos, fixed, iterations, threshold, weight, scale, center, dim, seed)\u001b[0m\n\u001b[1;32m      2\u001b[0m \u001b[39mimport\u001b[39;00m \u001b[39mcollections\u001b[39;00m\n\u001b[1;32m      3\u001b[0m \u001b[39mimport\u001b[39;00m \u001b[39mgzip\u001b[39;00m\n\u001b[0;32m----> 4\u001b[0m \u001b[39mimport\u001b[39;00m \u001b[39minspect\u001b[39;00m\n\u001b[1;32m      5\u001b[0m \u001b[39mimport\u001b[39;00m \u001b[39mitertools\u001b[39;00m\n\u001b[1;32m      6\u001b[0m \u001b[39mimport\u001b[39;00m \u001b[39mre\u001b[39;00m\n",
      "File \u001b[0;32m~/.local/lib/python3.10/site-packages/networkx/drawing/layout.py:482\u001b[0m, in \u001b[0;36mspring_layout\u001b[0;34m(G, k, pos, fixed, iterations, threshold, weight, scale, center, dim, seed)\u001b[0m\n\u001b[1;32m    480\u001b[0m         nnodes, _ \u001b[39m=\u001b[39m A\u001b[39m.\u001b[39mshape\n\u001b[1;32m    481\u001b[0m         k \u001b[39m=\u001b[39m dom_size \u001b[39m/\u001b[39m np\u001b[39m.\u001b[39msqrt(nnodes)\n\u001b[0;32m--> 482\u001b[0m     pos \u001b[39m=\u001b[39m _sparse_fruchterman_reingold(\n\u001b[1;32m    483\u001b[0m         A, k, pos_arr, fixed, iterations, threshold, dim, seed\n\u001b[1;32m    484\u001b[0m     )\n\u001b[1;32m    485\u001b[0m \u001b[39mexcept\u001b[39;00m \u001b[39mValueError\u001b[39;00m:\n\u001b[1;32m    486\u001b[0m     A \u001b[39m=\u001b[39m nx\u001b[39m.\u001b[39mto_numpy_array(G, weight\u001b[39m=\u001b[39mweight)\n",
      "File \u001b[0;32m~/.local/lib/python3.10/site-packages/networkx/utils/decorators.py:766\u001b[0m, in \u001b[0;36margmap.__call__.<locals>.func\u001b[0;34m(_argmap__wrapper, *args, **kwargs)\u001b[0m\n\u001b[1;32m    765\u001b[0m \u001b[39mdef\u001b[39;00m \u001b[39mfunc\u001b[39m(\u001b[39m*\u001b[39margs, __wrapper\u001b[39m=\u001b[39m\u001b[39mNone\u001b[39;00m, \u001b[39m*\u001b[39m\u001b[39m*\u001b[39mkwargs):\n\u001b[0;32m--> 766\u001b[0m     \u001b[39mreturn\u001b[39;00m argmap\u001b[39m.\u001b[39;49m_lazy_compile(__wrapper)(\u001b[39m*\u001b[39;49margs, \u001b[39m*\u001b[39;49m\u001b[39m*\u001b[39;49mkwargs)\n",
      "File \u001b[0;32m<class 'networkx.utils.decorators.argmap'> compilation 17:4\u001b[0m, in \u001b[0;36margmap__sparse_fruchterman_reingold_14\u001b[0;34m(A, k, pos, fixed, iterations, threshold, dim, seed)\u001b[0m\n\u001b[1;32m      2\u001b[0m \u001b[39mimport\u001b[39;00m \u001b[39mcollections\u001b[39;00m\n\u001b[1;32m      3\u001b[0m \u001b[39mimport\u001b[39;00m \u001b[39mgzip\u001b[39;00m\n\u001b[0;32m----> 4\u001b[0m \u001b[39mimport\u001b[39;00m \u001b[39minspect\u001b[39;00m\n\u001b[1;32m      5\u001b[0m \u001b[39mimport\u001b[39;00m \u001b[39mitertools\u001b[39;00m\n\u001b[1;32m      6\u001b[0m \u001b[39mimport\u001b[39;00m \u001b[39mre\u001b[39;00m\n",
      "File \u001b[0;32m~/.local/lib/python3.10/site-packages/networkx/drawing/layout.py:624\u001b[0m, in \u001b[0;36m_sparse_fruchterman_reingold\u001b[0;34m(A, k, pos, fixed, iterations, threshold, dim, seed)\u001b[0m\n\u001b[1;32m    622\u001b[0m     Ai \u001b[39m=\u001b[39m A\u001b[39m.\u001b[39mgetrowview(i)\u001b[39m.\u001b[39mtoarray()  \u001b[39m# TODO: revisit w/ sparse 1D container\u001b[39;00m\n\u001b[1;32m    623\u001b[0m     \u001b[39m# displacement \"force\"\u001b[39;00m\n\u001b[0;32m--> 624\u001b[0m     displacement[:, i] \u001b[39m+\u001b[39m\u001b[39m=\u001b[39m (\n\u001b[1;32m    625\u001b[0m         delta \u001b[39m*\u001b[39;49m (k \u001b[39m*\u001b[39;49m k \u001b[39m/\u001b[39;49m distance\u001b[39m*\u001b[39;49m\u001b[39m*\u001b[39;49m\u001b[39m2\u001b[39;49m \u001b[39m-\u001b[39;49m Ai \u001b[39m*\u001b[39;49m distance \u001b[39m/\u001b[39;49m k)\n\u001b[1;32m    626\u001b[0m     )\u001b[39m.\u001b[39;49msum(axis\u001b[39m=\u001b[39;49m\u001b[39m1\u001b[39;49m)\n\u001b[1;32m    627\u001b[0m \u001b[39m# update positions\u001b[39;00m\n\u001b[1;32m    628\u001b[0m length \u001b[39m=\u001b[39m np\u001b[39m.\u001b[39msqrt((displacement\u001b[39m*\u001b[39m\u001b[39m*\u001b[39m\u001b[39m2\u001b[39m)\u001b[39m.\u001b[39msum(axis\u001b[39m=\u001b[39m\u001b[39m0\u001b[39m))\n",
      "File \u001b[0;32m~/.local/lib/python3.10/site-packages/numpy/core/_methods.py:48\u001b[0m, in \u001b[0;36m_sum\u001b[0;34m(a, axis, dtype, out, keepdims, initial, where)\u001b[0m\n\u001b[1;32m     46\u001b[0m \u001b[39mdef\u001b[39;00m \u001b[39m_sum\u001b[39m(a, axis\u001b[39m=\u001b[39m\u001b[39mNone\u001b[39;00m, dtype\u001b[39m=\u001b[39m\u001b[39mNone\u001b[39;00m, out\u001b[39m=\u001b[39m\u001b[39mNone\u001b[39;00m, keepdims\u001b[39m=\u001b[39m\u001b[39mFalse\u001b[39;00m,\n\u001b[1;32m     47\u001b[0m          initial\u001b[39m=\u001b[39m_NoValue, where\u001b[39m=\u001b[39m\u001b[39mTrue\u001b[39;00m):\n\u001b[0;32m---> 48\u001b[0m     \u001b[39mreturn\u001b[39;00m umr_sum(a, axis, dtype, out, keepdims, initial, where)\n",
      "\u001b[0;31mKeyboardInterrupt\u001b[0m: "
     ]
    }
   ],
   "source": [
    "nx.draw_networkx(gph, with_labels=True,nodelist=sampleNodeList, node_size=20,width=0.2)\n",
    "plt.show()"
   ]
  },
  {
   "cell_type": "code",
   "execution_count": null,
   "metadata": {},
   "outputs": [],
   "source": []
  }
 ],
 "metadata": {
  "kernelspec": {
   "display_name": "Python 3.10.6 64-bit",
   "language": "python",
   "name": "python3"
  },
  "language_info": {
   "codemirror_mode": {
    "name": "ipython",
    "version": 3
   },
   "file_extension": ".py",
   "mimetype": "text/x-python",
   "name": "python",
   "nbconvert_exporter": "python",
   "pygments_lexer": "ipython3",
   "version": "3.10.6"
  },
  "orig_nbformat": 4,
  "vscode": {
   "interpreter": {
    "hash": "e7370f93d1d0cde622a1f8e1c04877d8463912d04d973331ad4851f04de6915a"
   }
  }
 },
 "nbformat": 4,
 "nbformat_minor": 2
}
