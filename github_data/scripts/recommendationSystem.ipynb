{
 "cells": [
  {
   "cell_type": "code",
   "execution_count": 4,
   "metadata": {},
   "outputs": [],
   "source": [
    "import networkx as nx\n",
    "from itertools import combinations\n",
    "from sklearn.metrics.pairwise import cosine_similarity\n",
    "import numpy as np\n",
    "import fileDefinitions as fd\n",
    "import utils.helper_methods as helper_methods\n",
    "from networkx.algorithms import bipartite\n",
    "import time\n"
   ]
  },
  {
   "cell_type": "code",
   "execution_count": 5,
   "metadata": {},
   "outputs": [
    {
     "name": "stdout",
     "output_type": "stream",
     "text": [
      "graph file found at \n",
      "Graph with 11406 nodes and 1391375 edges\n"
     ]
    }
   ],
   "source": [
    "\n",
    "\n",
    "try:\n",
    "    gph = nx.read_gexf(fd.fullyConnGraphFile)\n",
    "    helper_methods.logData(\"graph file found at \" + str())\n",
    "    print(gph)\n",
    "except Exception as e:\n",
    "    helper_methods.logData(e)\n",
    "    gph = nx.Graph()\n",
    "    helper_methods.logData(\"new graph file generated\")\n"
   ]
  },
  {
   "cell_type": "code",
   "execution_count": 6,
   "metadata": {},
   "outputs": [],
   "source": [
    "\n",
    "B = gph\n",
    "# users = []\n",
    "# issues = []\n",
    "# for n in B:\n",
    "#     if(n == 0):\n",
    "#         users.append(n)\n",
    "#     else:\n",
    "#         issues.append(n)\n",
    "users = [n for n, d in B.nodes(data=True) if d[\"bipartite\"] == 0]\n",
    "issues = [n for n, d in B.nodes(data=True) if d[\"bipartite\"] == 1]\n"
   ]
  },
  {
   "cell_type": "code",
   "execution_count": 7,
   "metadata": {},
   "outputs": [],
   "source": [
    "\n",
    "\n",
    "# create adjacency matrices for the users and issues\n",
    "users_matrix = nx.bipartite.biadjacency_matrix(B, row_order=users)\n",
    "issues_matrix = nx.bipartite.biadjacency_matrix(B, row_order=issues)\n",
    "\n",
    "\n"
   ]
  },
  {
   "cell_type": "code",
   "execution_count": 8,
   "metadata": {},
   "outputs": [
    {
     "name": "stdout",
     "output_type": "stream",
     "text": [
      "  (4731, 0)\t1\n"
     ]
    }
   ],
   "source": [
    "print(issues_matrix[:,[1]])"
   ]
  },
  {
   "cell_type": "code",
   "execution_count": 9,
   "metadata": {},
   "outputs": [],
   "source": [
    "\n",
    "\n",
    "def jaccard_coefficient(graph, node1, node2):\n",
    "    neighbors1 = set(graph.neighbors(node1))\n",
    "    neighbors2 = set(graph.neighbors(node2))\n",
    "    intersection = neighbors1.intersection(neighbors2)\n",
    "    union = neighbors1.union(neighbors2)\n",
    "    if len(union) == 0:\n",
    "        return 0\n",
    "    return len(intersection) / len(union)"
   ]
  },
  {
   "cell_type": "code",
   "execution_count": 10,
   "metadata": {},
   "outputs": [],
   "source": [
    "\n",
    "\n",
    "def jaccard_link_prediction(graph):\n",
    "    predicted_edges = []\n",
    "    count = 10000\n",
    "    userCount = 0\n",
    "    for node1 in users:\n",
    "        \n",
    "        userCount += 1\n",
    "        if(userCount%100 == 0):\n",
    "            print(userCount)\n",
    "        for node2 in issues:\n",
    "            \n",
    "            if node1 == node2 or graph.has_edge(node1, node2):\n",
    "                continue\n",
    "            \n",
    "            jaccard = jaccard_coefficient(graph, node1, node2)\n",
    "            if(jaccard != 0):\n",
    "                predicted_edges.append((node1, node2, jaccard))\n",
    "                count -= 1\n",
    "                if(count == 0):\n",
    "                    print(node1,end=\"-------\")\n",
    "                    print(node2, end=\"-------\")\n",
    "                    print(jaccard)\n",
    "                    count = 10000\n",
    "                    \n",
    "    return sorted(predicted_edges, key=lambda x: x[2], reverse=True)\n"
   ]
  },
  {
   "cell_type": "code",
   "execution_count": 11,
   "metadata": {},
   "outputs": [
    {
     "name": "stdout",
     "output_type": "stream",
     "text": [
      "Graph with 11406 nodes and 1391375 edges\n",
      "3126\n",
      "8280\n"
     ]
    }
   ],
   "source": [
    "print(B)\n",
    "print(len(users))\n",
    "print(len(issues))\n"
   ]
  },
  {
   "cell_type": "code",
   "execution_count": 22,
   "metadata": {},
   "outputs": [
    {
     "name": "stdout",
     "output_type": "stream",
     "text": [
      "Graph with 3000 nodes and 763857 edges\n"
     ]
    }
   ],
   "source": [
    "def createMiniGraph(gph):\n",
    "    count = 3000\n",
    "    sampleNodeList = []\n",
    "    sampleEdgeList = []\n",
    "\n",
    "    userList = []\n",
    "    for n in gph:\n",
    "        sampleNodeList.append(n)\n",
    "        \n",
    "        count -= 1\n",
    "        if(count == 0):\n",
    "            break\n",
    "    subgraph = gph.subgraph(sampleNodeList)\n",
    "    print(subgraph)\n",
    "    return subgraph\n",
    "\n",
    "miniGraph = createMiniGraph(gph)\n",
    "\n"
   ]
  },
  {
   "cell_type": "code",
   "execution_count": 24,
   "metadata": {},
   "outputs": [
    {
     "name": "stdout",
     "output_type": "stream",
     "text": [
      "1388737\n",
      "1388053\n",
      "beesaferoot-------MDExOlB1bGxSZXF1ZXN0NTcwMTYzODEw-------0.0006591957811470006\n",
      "comerc-------PR_kwDOAqixHc44ChwF-------0.0006583278472679394\n",
      "topiaruss-------PR_kwDOAiEj5s5I8Uyb-------0.0006954102920723226\n",
      "Wanchen7-------PR_kwDOCamu-c4_JXD4-------0.002036659877800407\n",
      "Jemair-------MDExOlB1bGxSZXF1ZXN0Mjc0OTMzMTYz-------0.0019907100199071004\n",
      "TheClerici-------MDExOlB1bGxSZXF1ZXN0MTAzNjQzMDkz-------0.001221001221001221\n",
      "RafaRuiz-------MDExOlB1bGxSZXF1ZXN0MjA1MDQwMDgx-------0.0007012622720897616\n",
      "jw-koo-------PR_kwDOAf6tO85KxuhP-------0.0006939625260235947\n",
      "TheGuyDangerous-------PR_kwDOD0USHc5KwDAx-------0.0006802721088435374\n",
      "100\n",
      "Sriraj-dev-------PR_kwDOBFHeo85JC-4Q-------0.0007022471910112359\n",
      "hkhere-------MDExOlB1bGxSZXF1ZXN0MzE3MDQzNDE=-------0.001040582726326743\n",
      "0xZOne-------PR_kwDOA7lyys5HX11j-------0.005427408412483039\n",
      "metinn-------MDExOlB1bGxSZXF1ZXN0NDY5NDg2MTQy-------0.0006414368184733803\n",
      "cuixingrui-------MDExOlB1bGxSZXF1ZXN0Mzg2MzE2NTAz-------0.001402524544179523\n",
      "raza4399-------MDExOlB1bGxSZXF1ZXN0NzE3MzYyNzk1-------0.0007002801120448179\n",
      "tm-sanjay-------PR_kwDOB2vfUM42A02j-------0.0007017543859649122\n",
      "gisdinhoo-------MDExOlB1bGxSZXF1ZXN0NDMxNDk1OTU5-------0.0007017543859649122\n",
      "200\n",
      "dhiyaaulauliyaa-------MDExOlB1bGxSZXF1ZXN0NjA3OTEzNzYy-------0.0006939625260235947\n",
      "JAICHANGPARK-------MDExOlB1bGxSZXF1ZXN0MjQ2MDM4MTMx-------0.0011750881316098707\n",
      "Sky24n-------MDExOlB1bGxSZXF1ZXN0NDA0MjEyMjU5-------0.0006648936170212766\n",
      "liudonghua123-------MDExOlB1bGxSZXF1ZXN0MjUwNjAxNTIy-------0.0006697923643670462\n",
      "sumitmattawynk-------MDExOlB1bGxSZXF1ZXN0MzE3NjUyNjY4-------0.0012195121951219512\n",
      "pq-------MDExOlB1bGxSZXF1ZXN0NjE3ODIxNTA5-------0.0006858710562414266\n",
      "jogboms-------PR_kwDOBfYDC84slsWT-------0.006036217303822937\n",
      "SahSantoshh-------MDExOlB1bGxSZXF1ZXN0MzE2ODA4Nzg0-------0.0012048192771084338\n",
      "300\n",
      "Stitch-Taotao-------MDExOlB1bGxSZXF1ZXN0MzQ0NDY3Nzk3-------0.0006798096532970768\n",
      "WeiCongcong-------PR_kwDOBfYDC85AXGSC-------0.000663129973474801\n",
      "taliptako-------MDExOlB1bGxSZXF1ZXN0MjUwMzI1NjM2-------0.0006925207756232687\n",
      "seasonZhu-------MDExOlB1bGxSZXF1ZXN0MzE3NDYwODU3-------0.0022988505747126436\n",
      "luigi-rosso-------MDExOlB1bGxSZXF1ZXN0MjU5MDczMDky-------0.006284916201117319\n",
      "Mounir-Bouaiche-------MDExOlB1bGxSZXF1ZXN0MjUwNjAxNTIy-------0.0006887052341597796\n",
      "j-j-gajjar-------MDExOlB1bGxSZXF1ZXN0NjE3NzM5Nzg2-------0.0007022471910112359\n",
      "Oceancoder1-------MDExOlB1bGxSZXF1ZXN0MjE0MDg0Nzkx-------0.0012224938875305623\n",
      "400\n",
      "grieshofer-------MDExOlB1bGxSZXF1ZXN0NjkxMzU0Njc3-------0.002386634844868735\n",
      "yuxizhe-------MDExOlB1bGxSZXF1ZXN0NDk1OTU5OTE5-------0.0011641443538998836\n",
      "dolanmiu-------MDExOlB1bGxSZXF1ZXN0Mzk2MTMyNzQ0-------0.0006978367062107466\n",
      "coskuncay-------MDExOlB1bGxSZXF1ZXN0Mjg2ODM5NTM5-------0.0013157894736842105\n",
      "google-------MDExOlB1bGxSZXF1ZXN0NjYxNzM5MzQz-------0.0006997900629811056\n",
      "adarsh-technocrat-------PR_kwDODQ98Gs49OA4j-------0.0012091898428053204\n",
      "EmmanuelTobi-------MDExOlB1bGxSZXF1ZXN0NTcxMjg0MTcx-------0.0006729475100942127\n",
      "500\n",
      "sunpulun-------MDExOlB1bGxSZXF1ZXN0MzEzNDk5NzE2-------0.000689655172413793\n",
      "zhangruiyu-------PR_kwDODiZPXs44CuED-------0.0006854009595613434\n",
      "upendra-bajpai-------PR_kwDOBQvi-84r8Bmi-------0.0006949270326615705\n",
      "mboyamike-------MDExOlB1bGxSZXF1ZXN0Mjg0OTUyMDQ2-------0.0006561679790026247\n",
      "PapiHack-------MDExOlB1bGxSZXF1ZXN0NTQyMzg2ODE0-------0.0006743088334457181\n",
      "Abhishek0706-------MDExOlB1bGxSZXF1ZXN0Mjc1ODkwNDI2-------0.0006983240223463687\n",
      "hasenbalg-------PR_kwDOAqixHc5D0KYQ-------0.0007017543859649122\n",
      "shivam2590-------PR_kwDOFCXpoc431Oq9-------0.0012224938875305623\n"
     ]
    }
   ],
   "source": [
    "import random\n",
    "def TestJaccordLinkPred(g):\n",
    "    \n",
    "    users = [n for n, d in g.nodes(data=True) if d[\"bipartite\"] == 0]\n",
    "    issues = [n for n, d in g.nodes(data=True) if d[\"bipartite\"] == 1]\n",
    "    \n",
    "    ogGph = nx.Graph()\n",
    "\n",
    "    issues_subset = random.sample(issues, 1000)\n",
    "\n",
    "    print(g.number_of_edges())\n",
    "    for i in issues_subset:\n",
    "        for j in list(g.neighbors(i)):\n",
    "        \n",
    "            if g.nodes[j][\"bipartite\"] == 0:\n",
    "                ogGph.add_node(i, bipartite=1)\n",
    "                ogGph.add_node(j, bipartite=0)\n",
    "                ogGph.add_edge(i,j)\n",
    "                g.remove_edge(i,j)\n",
    "    print(g.number_of_edges())\n",
    "    return ogGph,g\n",
    "\n",
    "\n",
    "testGraph, trainGraph = TestJaccordLinkPred(gph)\n",
    "\n",
    "predicted = jaccard_link_prediction(trainGraph)\n",
    "\n",
    "print(predicted)\n",
    "\n"
   ]
  },
  {
   "cell_type": "code",
   "execution_count": null,
   "metadata": {},
   "outputs": [],
   "source": [
    "# preferential attachment \n",
    "\n",
    "def prefAttachment(graph):\n",
    "    predicted_edges = []\n",
    "    count = 10000\n",
    "    userCount = 0\n",
    "    for node1 in users:\n",
    "        userCount += 1\n",
    "        if(userCount%100 == 0):\n",
    "            print(userCount)\n",
    "        for node2 in issues:\n",
    "            if node1 == node2 or graph.has_edge(node1, node2):\n",
    "                continue\n",
    "            score = nx.preferential_attachment(graph, (node1,node2))\n",
    "            for u,v, p in score:\n",
    "                print(f\"({u}, {v}) -> {p}\")\n",
    "            # if(score != 0):\n",
    "            #     predicted_edges.append((node1, node2, score))\n",
    "            #     count -= 1\n",
    "            #     if(count == 0):\n",
    "            #         print(node1,end=\"-------\")\n",
    "            #         print(node2, end=\"-------\")\n",
    "            #         print(score)\n",
    "                    # count = 10000\n",
    "                    \n",
    "    return sorted(predicted_edges, key=lambda x: x[2], reverse=True)\n"
   ]
  },
  {
   "cell_type": "code",
   "execution_count": 36,
   "metadata": {},
   "outputs": [
    {
     "ename": "ValueError",
     "evalue": "too many values to unpack (expected 2)",
     "output_type": "error",
     "traceback": [
      "\u001b[0;31m---------------------------------------------------------------------------\u001b[0m",
      "\u001b[0;31mValueError\u001b[0m                                Traceback (most recent call last)",
      "Cell \u001b[0;32mIn[36], line 1\u001b[0m\n\u001b[0;32m----> 1\u001b[0m \u001b[43mprefAttachment\u001b[49m\u001b[43m(\u001b[49m\u001b[43mB\u001b[49m\u001b[43m)\u001b[49m\n",
      "Cell \u001b[0;32mIn[35], line 14\u001b[0m, in \u001b[0;36mprefAttachment\u001b[0;34m(graph)\u001b[0m\n\u001b[1;32m     12\u001b[0m     \u001b[38;5;28;01mcontinue\u001b[39;00m\n\u001b[1;32m     13\u001b[0m score \u001b[38;5;241m=\u001b[39m nx\u001b[38;5;241m.\u001b[39mpreferential_attachment(graph, (node1,node2))\n\u001b[0;32m---> 14\u001b[0m \u001b[38;5;28;01mfor\u001b[39;00m u,v, p \u001b[38;5;129;01min\u001b[39;00m score:\n\u001b[1;32m     15\u001b[0m     \u001b[38;5;28mprint\u001b[39m(u,end\u001b[38;5;241m=\u001b[39m\u001b[38;5;124m\"\u001b[39m\u001b[38;5;124m-----\u001b[39m\u001b[38;5;124m\"\u001b[39m)\n\u001b[1;32m     16\u001b[0m     \u001b[38;5;28mprint\u001b[39m(v,end\u001b[38;5;241m=\u001b[39m\u001b[38;5;124m\"\u001b[39m\u001b[38;5;124m-----\u001b[39m\u001b[38;5;124m\"\u001b[39m)\n",
      "File \u001b[0;32m~/.local/lib/python3.10/site-packages/networkx/algorithms/link_prediction.py:40\u001b[0m, in \u001b[0;36m<genexpr>\u001b[0;34m(.0)\u001b[0m\n\u001b[1;32m     38\u001b[0m \u001b[39mif\u001b[39;00m ebunch \u001b[39mis\u001b[39;00m \u001b[39mNone\u001b[39;00m:\n\u001b[1;32m     39\u001b[0m     ebunch \u001b[39m=\u001b[39m nx\u001b[39m.\u001b[39mnon_edges(G)\n\u001b[0;32m---> 40\u001b[0m \u001b[39mreturn\u001b[39;00m ((u, v, func(u, v)) \u001b[39mfor\u001b[39;00m u, v \u001b[39min\u001b[39;00m ebunch)\n",
      "\u001b[0;31mValueError\u001b[0m: too many values to unpack (expected 2)"
     ]
    }
   ],
   "source": [
    "prefAttachment(B)"
   ]
  },
  {
   "cell_type": "code",
   "execution_count": null,
   "metadata": {},
   "outputs": [],
   "source": [
    "\n",
    "def adamic_adar_coefficient(graph, node1, node2):\n",
    "    neighbors1 = set(graph.neighbors(node1))\n",
    "    neighbors2 = set(graph.neighbors(node2))\n",
    "    common_neighbors = neighbors1.intersection(neighbors2)\n",
    "    aa = sum([1 / math.log(len(set(graph.neighbors(neighbor)))) for neighbor in common_neighbors])\n",
    "    return aa\n",
    "\n",
    "def adamic_adar_link_prediction(graph):\n",
    "    predicted_edges = []\n",
    "    for node1 in graph.nodes():\n",
    "        for node2 in graph.nodes():\n",
    "            if node1 == node2 or graph.has_edge(node1, node2):\n",
    "                continue\n",
    "            aa = adamic_adar_coefficient(graph, node1, node2)\n",
    "            predicted_edges.append((node1, node2, aa))\n",
    "    return sorted(predicted_edges, key=lambda x: x[2], reverse=True)"
   ]
  },
  {
   "cell_type": "code",
   "execution_count": null,
   "metadata": {},
   "outputs": [],
   "source": [
    "\n",
    "# compute the Adamic-Adar similarity between all pairs of users and issues\n",
    "aa_matrix = np.zeros((len(users), len(issues)))\n",
    "for u, i in combinations(range(len(users)), 2):\n",
    "    u_vec = users_matrix[u].toarray()[0]\n",
    "    i_vec = issues_matrix[i].toarray()[0]\n",
    "    common = np.where(np.logical_and(u_vec, i_vec))[0]\n",
    "    aa = 0\n",
    "    for c in common:\n",
    "        aa += 1 / np.log(len(np.where(users_matrix[:, c].toarray())[0]))\n",
    "    aa_matrix[u][i] = aa\n",
    "    aa_matrix[i][u] = aa\n"
   ]
  }
 ],
 "metadata": {
  "kernelspec": {
   "display_name": "Python 3.10.6 64-bit",
   "language": "python",
   "name": "python3"
  },
  "language_info": {
   "codemirror_mode": {
    "name": "ipython",
    "version": 3
   },
   "file_extension": ".py",
   "mimetype": "text/x-python",
   "name": "python",
   "nbconvert_exporter": "python",
   "pygments_lexer": "ipython3",
   "version": "3.10.6"
  },
  "orig_nbformat": 4,
  "vscode": {
   "interpreter": {
    "hash": "e7370f93d1d0cde622a1f8e1c04877d8463912d04d973331ad4851f04de6915a"
   }
  }
 },
 "nbformat": 4,
 "nbformat_minor": 2
}
