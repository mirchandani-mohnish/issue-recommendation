{
 "cells": [
  {
   "cell_type": "code",
   "execution_count": 1,
   "metadata": {},
   "outputs": [],
   "source": [
    "import networkx as nx\n",
    "from itertools import combinations\n",
    "from sklearn.metrics.pairwise import cosine_similarity\n",
    "import numpy as np\n",
    "import fileDefinitions as fd\n",
    "import utils.helper_methods as helper_methods\n",
    "from networkx.algorithms import bipartite\n",
    "import time"
   ]
  },
  {
   "cell_type": "code",
   "execution_count": 2,
   "metadata": {},
   "outputs": [
    {
     "name": "stdout",
     "output_type": "stream",
     "text": [
      "graph file found at \n"
     ]
    }
   ],
   "source": [
    "\n",
    "try:\n",
    "    gph = nx.read_gexf(fd.fullyConnGraphFile)\n",
    "    helper_methods.logData(\"graph file found at \" + str())\n",
    "except Exception as e:\n",
    "    helper_methods.logData(e)\n",
    "    gph = nx.Graph()\n",
    "    helper_methods.logData(\"new graph file generated\")\n"
   ]
  },
  {
   "cell_type": "code",
   "execution_count": 4,
   "metadata": {},
   "outputs": [],
   "source": [
    "\n",
    "B = gph\n",
    "# users = []\n",
    "# issues = []\n",
    "# for n in B:\n",
    "#     if(n == 0):\n",
    "#         users.append(n)\n",
    "#     else:\n",
    "#         issues.append(n)\n",
    "users = [n for n, d in B.nodes(data=True) if d[\"bipartite\"] == 0]\n",
    "issues = [n for n, d in B.nodes(data=True) if d[\"bipartite\"] == 1]\n"
   ]
  },
  {
   "cell_type": "code",
   "execution_count": 6,
   "metadata": {},
   "outputs": [],
   "source": [
    "\n",
    "\n",
    "# create adjacency matrices for the users and issues\n",
    "users_matrix = nx.bipartite.biadjacency_matrix(B, row_order=users)\n",
    "issues_matrix = nx.bipartite.biadjacency_matrix(B, row_order=issues)\n"
   ]
  },
  {
   "cell_type": "code",
   "execution_count": 15,
   "metadata": {},
   "outputs": [
    {
     "ename": "ZeroDivisionError",
     "evalue": "division by zero",
     "output_type": "error",
     "traceback": [
      "\u001b[0;31m---------------------------------------------------------------------------\u001b[0m",
      "\u001b[0;31mZeroDivisionError\u001b[0m                         Traceback (most recent call last)",
      "Cell \u001b[0;32mIn[15], line 8\u001b[0m\n\u001b[1;32m      6\u001b[0m u_vec \u001b[38;5;241m=\u001b[39m users_matrix[: , [u]]\u001b[38;5;241m.\u001b[39mtoarray()[\u001b[38;5;241m0\u001b[39m]\n\u001b[1;32m      7\u001b[0m i_vec \u001b[38;5;241m=\u001b[39m issues_matrix[: , [i]]\u001b[38;5;241m.\u001b[39mtoarray()[\u001b[38;5;241m0\u001b[39m]\n\u001b[0;32m----> 8\u001b[0m jaccard \u001b[38;5;241m=\u001b[39m \u001b[38;5;28;43mlen\u001b[39;49m\u001b[43m(\u001b[49m\u001b[38;5;28;43mset\u001b[39;49m\u001b[43m(\u001b[49m\u001b[43mnp\u001b[49m\u001b[38;5;241;43m.\u001b[39;49m\u001b[43mwhere\u001b[49m\u001b[43m(\u001b[49m\u001b[43mu_vec\u001b[49m\u001b[43m)\u001b[49m\u001b[43m[\u001b[49m\u001b[38;5;241;43m0\u001b[39;49m\u001b[43m]\u001b[49m\u001b[43m)\u001b[49m\u001b[38;5;241;43m.\u001b[39;49m\u001b[43mintersection\u001b[49m\u001b[43m(\u001b[49m\u001b[43mnp\u001b[49m\u001b[38;5;241;43m.\u001b[39;49m\u001b[43mwhere\u001b[49m\u001b[43m(\u001b[49m\u001b[43mi_vec\u001b[49m\u001b[43m)\u001b[49m\u001b[43m[\u001b[49m\u001b[38;5;241;43m0\u001b[39;49m\u001b[43m]\u001b[49m\u001b[43m)\u001b[49m\u001b[43m)\u001b[49m\u001b[43m \u001b[49m\u001b[38;5;241;43m/\u001b[39;49m\u001b[43m \u001b[49m\u001b[38;5;28;43mlen\u001b[39;49m\u001b[43m(\u001b[49m\u001b[38;5;28;43mset\u001b[39;49m\u001b[43m(\u001b[49m\u001b[43mnp\u001b[49m\u001b[38;5;241;43m.\u001b[39;49m\u001b[43mwhere\u001b[49m\u001b[43m(\u001b[49m\u001b[43mu_vec\u001b[49m\u001b[43m)\u001b[49m\u001b[43m[\u001b[49m\u001b[38;5;241;43m0\u001b[39;49m\u001b[43m]\u001b[49m\u001b[43m)\u001b[49m\u001b[38;5;241;43m.\u001b[39;49m\u001b[43munion\u001b[49m\u001b[43m(\u001b[49m\u001b[43mnp\u001b[49m\u001b[38;5;241;43m.\u001b[39;49m\u001b[43mwhere\u001b[49m\u001b[43m(\u001b[49m\u001b[43mi_vec\u001b[49m\u001b[43m)\u001b[49m\u001b[43m[\u001b[49m\u001b[38;5;241;43m0\u001b[39;49m\u001b[43m]\u001b[49m\u001b[43m)\u001b[49m\u001b[43m)\u001b[49m\n\u001b[1;32m      9\u001b[0m jaccard_matrix[u][i] \u001b[38;5;241m=\u001b[39m jaccard\n\u001b[1;32m     10\u001b[0m jaccard_matrix[i][u] \u001b[38;5;241m=\u001b[39m jaccard\n",
      "\u001b[0;31mZeroDivisionError\u001b[0m: division by zero"
     ]
    }
   ],
   "source": [
    "\n",
    "# compute the Jaccard coefficient between all pairs of users and issues\n",
    "jaccard_matrix = np.zeros((len(users), len(issues)))\n",
    "\n",
    "\n",
    "for u, i in combinations(range(len(users)), 2):\n",
    "    u_vec = users_matrix[: , [u]].toarray()[0]\n",
    "    i_vec = issues_matrix[: , [i]].toarray()[0]\n",
    "    jaccard = len(set(np.where(u_vec)[0]).intersection(np.where(i_vec)[0])) / len(set(np.where(u_vec)[0]).union(np.where(i_vec)[0]))\n",
    "    jaccard_matrix[u][i] = jaccard\n",
    "    jaccard_matrix[i][u] = jaccard"
   ]
  },
  {
   "cell_type": "code",
   "execution_count": null,
   "metadata": {},
   "outputs": [],
   "source": [
    "\n",
    "# compute the Adamic-Adar similarity between all pairs of users and issues\n",
    "aa_matrix = np.zeros((len(users), len(issues)))\n",
    "for u, i in combinations(range(len(users)), 2):\n",
    "    u_vec = users_matrix[u].toarray()[0]\n",
    "    i_vec = issues_matrix[i].toarray()[0]\n",
    "    common = np.where(np.logical_and(u_vec, i_vec))[0]\n",
    "    aa = 0\n",
    "    for c in common:\n",
    "        aa += 1 / np.log(len(np.where(users_matrix[:, c].toarray())[0]))\n",
    "    aa_matrix[u][i] = aa\n",
    "    aa_matrix[i][u] = aa\n"
   ]
  }
 ],
 "metadata": {
  "kernelspec": {
   "display_name": "Python 3.10.6 64-bit",
   "language": "python",
   "name": "python3"
  },
  "language_info": {
   "codemirror_mode": {
    "name": "ipython",
    "version": 3
   },
   "file_extension": ".py",
   "mimetype": "text/x-python",
   "name": "python",
   "nbconvert_exporter": "python",
   "pygments_lexer": "ipython3",
   "version": "3.10.6"
  },
  "orig_nbformat": 4,
  "vscode": {
   "interpreter": {
    "hash": "e7370f93d1d0cde622a1f8e1c04877d8463912d04d973331ad4851f04de6915a"
   }
  }
 },
 "nbformat": 4,
 "nbformat_minor": 2
}
