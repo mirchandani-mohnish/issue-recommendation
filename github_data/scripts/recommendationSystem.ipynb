{
 "cells": [
  {
   "cell_type": "code",
   "execution_count": 4,
   "metadata": {},
   "outputs": [],
   "source": [
    "import networkx as nx\n",
    "from itertools import combinations\n",
    "from sklearn.metrics.pairwise import cosine_similarity\n",
    "import numpy as np\n",
    "import fileDefinitions as fd\n",
    "import utils.helper_methods as helper_methods\n",
    "from networkx.algorithms import bipartite\n",
    "import time\n"
   ]
  },
  {
   "cell_type": "code",
   "execution_count": 5,
   "metadata": {},
   "outputs": [
    {
     "name": "stdout",
     "output_type": "stream",
     "text": [
      "graph file found at \n",
      "Graph with 11406 nodes and 1391375 edges\n"
     ]
    }
   ],
   "source": [
    "\n",
    "\n",
    "try:\n",
    "    gph = nx.read_gexf(fd.fullyConnGraphFile)\n",
    "    helper_methods.logData(\"graph file found at \" + str())\n",
    "    print(gph)\n",
    "except Exception as e:\n",
    "    helper_methods.logData(e)\n",
    "    gph = nx.Graph()\n",
    "    helper_methods.logData(\"new graph file generated\")\n"
   ]
  },
  {
   "cell_type": "code",
   "execution_count": 6,
   "metadata": {},
   "outputs": [],
   "source": [
    "\n",
    "B = gph\n",
    "# users = []\n",
    "# issues = []\n",
    "# for n in B:\n",
    "#     if(n == 0):\n",
    "#         users.append(n)\n",
    "#     else:\n",
    "#         issues.append(n)\n",
    "users = [n for n, d in B.nodes(data=True) if d[\"bipartite\"] == 0]\n",
    "issues = [n for n, d in B.nodes(data=True) if d[\"bipartite\"] == 1]\n"
   ]
  },
  {
   "cell_type": "code",
   "execution_count": 7,
   "metadata": {},
   "outputs": [],
   "source": [
    "\n",
    "\n",
    "# create adjacency matrices for the users and issues\n",
    "users_matrix = nx.bipartite.biadjacency_matrix(B, row_order=users)\n",
    "issues_matrix = nx.bipartite.biadjacency_matrix(B, row_order=issues)\n",
    "\n",
    "\n"
   ]
  },
  {
   "cell_type": "code",
   "execution_count": 8,
   "metadata": {},
   "outputs": [
    {
     "name": "stdout",
     "output_type": "stream",
     "text": [
      "  (4731, 0)\t1\n"
     ]
    }
   ],
   "source": [
    "print(issues_matrix[:,[1]])"
   ]
  },
  {
   "cell_type": "code",
   "execution_count": 9,
   "metadata": {},
   "outputs": [],
   "source": [
    "\n",
    "\n",
    "def jaccard_coefficient(graph, node1, node2):\n",
    "    neighbors1 = set(graph.neighbors(node1))\n",
    "    neighbors2 = set(graph.neighbors(node2))\n",
    "    intersection = neighbors1.intersection(neighbors2)\n",
    "    union = neighbors1.union(neighbors2)\n",
    "    if len(union) == 0:\n",
    "        return 0\n",
    "    return len(intersection) / len(union)"
   ]
  },
  {
   "cell_type": "code",
   "execution_count": 10,
   "metadata": {},
   "outputs": [],
   "source": [
    "\n",
    "\n",
    "def jaccard_link_prediction(graph):\n",
    "    predicted_edges = []\n",
    "    count = 10000\n",
    "    userCount = 0\n",
    "    for node1 in users:\n",
    "        \n",
    "        userCount += 1\n",
    "        if(userCount%100 == 0):\n",
    "            print(userCount)\n",
    "        for node2 in issues:\n",
    "            \n",
    "            if node1 == node2 or graph.has_edge(node1, node2):\n",
    "                continue\n",
    "            \n",
    "            jaccard = jaccard_coefficient(graph, node1, node2)\n",
    "            if(jaccard != 0):\n",
    "                predicted_edges.append((node1, node2, jaccard))\n",
    "                count -= 1\n",
    "                if(count == 0):\n",
    "                    print(node1,end=\"-------\")\n",
    "                    print(node2, end=\"-------\")\n",
    "                    print(jaccard)\n",
    "                    count = 10000\n",
    "                    \n",
    "    return sorted(predicted_edges, key=lambda x: x[2], reverse=True)\n"
   ]
  },
  {
   "cell_type": "code",
   "execution_count": 11,
   "metadata": {},
   "outputs": [
    {
     "name": "stdout",
     "output_type": "stream",
     "text": [
      "Graph with 11406 nodes and 1391375 edges\n",
      "3126\n",
      "8280\n"
     ]
    }
   ],
   "source": [
    "print(B)\n",
    "print(len(users))\n",
    "print(len(issues))\n"
   ]
  },
  {
   "cell_type": "code",
   "execution_count": 13,
   "metadata": {},
   "outputs": [
    {
     "name": "stdout",
     "output_type": "stream",
     "text": [
      "1391375\n",
      "1390375\n",
      "stuartmorgan-------PR_kwDODIpBAs5J50MO-------0.0007017543859649122\n",
      "cpswan-------MDExOlB1bGxSZXF1ZXN0MjQyNDcyNzc0-------0.0006711409395973154\n",
      "pavanpodila-------PR_kwDODYvhJM4xLrO7-------0.001277139208173691\n",
      "apomalyn-------PR_kwDODIpBAs5Ctfxe-------0.0006131207847946045\n",
      "songyanghe666-------PR_kwDOB40ng85Jhx3r-------0.0007012622720897616\n",
      "login-------PR_kwDOA7lyys5KR1R8-------0.0027397260273972603\n",
      "Jemair-------MDExOlB1bGxSZXF1ZXN0Mzg3OTE0OTcy-------0.001989389920424403\n",
      "OpenFlutter-------PR_kwDOB40ng85EM1B5-------0.005614035087719298\n",
      "liyuqian-------PR_kwDOA7lyys5IlPPw-------0.0007002801120448179\n",
      "michael120893-------PR_kwDOCkCuKM41vTLU-------0.0014035087719298245\n",
      "jw-koo-------MDExOlB1bGxSZXF1ZXN0MjY0MDM4MDI5-------0.0006939625260235947\n",
      "VasuGajjar-------MDExOlB1bGxSZXF1ZXN0MTk5NjAwNTA=-------0.0007017543859649122\n",
      "100\n",
      "Mohit-Joshi-dev-------PR_kwDOCamu-c5IsfYd-------0.000700770847932726\n",
      "RohanSengupta326-------MDExOlB1bGxSZXF1ZXN0NTY0NDY4NDM1-------0.0006997900629811056\n",
      "mohammadrezayousefpour-------PR_kwDOB2vfUM4yzky6-------0.0007017543859649122\n"
     ]
    },
    {
     "ename": "KeyboardInterrupt",
     "evalue": "",
     "output_type": "error",
     "traceback": [
      "\u001b[0;31m---------------------------------------------------------------------------\u001b[0m",
      "\u001b[0;31mKeyboardInterrupt\u001b[0m                         Traceback (most recent call last)",
      "Cell \u001b[0;32mIn[13], line 26\u001b[0m\n\u001b[1;32m     21\u001b[0m     \u001b[38;5;28;01mreturn\u001b[39;00m ogGph,B\n\u001b[1;32m     24\u001b[0m testGraph, trainGraph \u001b[38;5;241m=\u001b[39m TestJaccordLinkPred(gph)\n\u001b[0;32m---> 26\u001b[0m predicted \u001b[38;5;241m=\u001b[39m \u001b[43mjaccard_link_prediction\u001b[49m\u001b[43m(\u001b[49m\u001b[43mtrainGraph\u001b[49m\u001b[43m)\u001b[49m\n",
      "Cell \u001b[0;32mIn[10], line 15\u001b[0m, in \u001b[0;36mjaccard_link_prediction\u001b[0;34m(graph)\u001b[0m\n\u001b[1;32m     12\u001b[0m \u001b[38;5;28;01mif\u001b[39;00m node1 \u001b[38;5;241m==\u001b[39m node2 \u001b[38;5;129;01mor\u001b[39;00m graph\u001b[38;5;241m.\u001b[39mhas_edge(node1, node2):\n\u001b[1;32m     13\u001b[0m     \u001b[38;5;28;01mcontinue\u001b[39;00m\n\u001b[0;32m---> 15\u001b[0m jaccard \u001b[38;5;241m=\u001b[39m \u001b[43mjaccard_coefficient\u001b[49m\u001b[43m(\u001b[49m\u001b[43mgraph\u001b[49m\u001b[43m,\u001b[49m\u001b[43m \u001b[49m\u001b[43mnode1\u001b[49m\u001b[43m,\u001b[49m\u001b[43m \u001b[49m\u001b[43mnode2\u001b[49m\u001b[43m)\u001b[49m\n\u001b[1;32m     16\u001b[0m \u001b[38;5;28;01mif\u001b[39;00m(jaccard \u001b[38;5;241m!=\u001b[39m \u001b[38;5;241m0\u001b[39m):\n\u001b[1;32m     17\u001b[0m     predicted_edges\u001b[38;5;241m.\u001b[39mappend((node1, node2, jaccard))\n",
      "Cell \u001b[0;32mIn[9], line 5\u001b[0m, in \u001b[0;36mjaccard_coefficient\u001b[0;34m(graph, node1, node2)\u001b[0m\n\u001b[1;32m      3\u001b[0m neighbors2 \u001b[38;5;241m=\u001b[39m \u001b[38;5;28mset\u001b[39m(graph\u001b[38;5;241m.\u001b[39mneighbors(node2))\n\u001b[1;32m      4\u001b[0m intersection \u001b[38;5;241m=\u001b[39m neighbors1\u001b[38;5;241m.\u001b[39mintersection(neighbors2)\n\u001b[0;32m----> 5\u001b[0m union \u001b[38;5;241m=\u001b[39m \u001b[43mneighbors1\u001b[49m\u001b[38;5;241;43m.\u001b[39;49m\u001b[43munion\u001b[49m\u001b[43m(\u001b[49m\u001b[43mneighbors2\u001b[49m\u001b[43m)\u001b[49m\n\u001b[1;32m      6\u001b[0m \u001b[38;5;28;01mif\u001b[39;00m \u001b[38;5;28mlen\u001b[39m(union) \u001b[38;5;241m==\u001b[39m \u001b[38;5;241m0\u001b[39m:\n\u001b[1;32m      7\u001b[0m     \u001b[38;5;28;01mreturn\u001b[39;00m \u001b[38;5;241m0\u001b[39m\n",
      "\u001b[0;31mKeyboardInterrupt\u001b[0m: "
     ]
    }
   ],
   "source": [
    "import random\n",
    "def TestJaccordLinkPred(g):\n",
    "    B = g\n",
    "    users = [n for n, d in B.nodes(data=True) if d[\"bipartite\"] == 0]\n",
    "    issues = [n for n, d in B.nodes(data=True) if d[\"bipartite\"] == 1]\n",
    "    \n",
    "    ogGph = nx.Graph()\n",
    "\n",
    "    issues_subset = random.sample(issues, 1000)\n",
    "\n",
    "    print(B.number_of_edges())\n",
    "    for i in issues_subset:\n",
    "        for j in list(B.neighbors(i)):\n",
    "        \n",
    "            if B.nodes[j][\"bipartite\"] == 0:\n",
    "                ogGph.add_node(i, bipartite=1)\n",
    "                ogGph.add_node(j, bipartite=0)\n",
    "                ogGph.add_edge(i,j)\n",
    "                B.remove_edge(i,j)\n",
    "    print(B.number_of_edges())\n",
    "    return ogGph,B\n",
    "\n",
    "\n",
    "testGraph, trainGraph = TestJaccordLinkPred(gph)\n",
    "\n",
    "predicted = jaccard_link_prediction(trainGraph)\n",
    "\n",
    "predicted\n",
    "\n"
   ]
  },
  {
   "cell_type": "code",
   "execution_count": null,
   "metadata": {},
   "outputs": [],
   "source": [
    "# preferential attachment \n",
    "\n",
    "def prefAttachment(graph):\n",
    "    predicted_edges = []\n",
    "    count = 10000\n",
    "    userCount = 0\n",
    "    for node1 in users:\n",
    "        userCount += 1\n",
    "        if(userCount%100 == 0):\n",
    "            print(userCount)\n",
    "        for node2 in issues:\n",
    "            if node1 == node2 or graph.has_edge(node1, node2):\n",
    "                continue\n",
    "            score = nx.preferential_attachment(graph, (node1,node2))\n",
    "            for u,v, p in score:\n",
    "                print(f\"({u}, {v}) -> {p}\")\n",
    "            # if(score != 0):\n",
    "            #     predicted_edges.append((node1, node2, score))\n",
    "            #     count -= 1\n",
    "            #     if(count == 0):\n",
    "            #         print(node1,end=\"-------\")\n",
    "            #         print(node2, end=\"-------\")\n",
    "            #         print(score)\n",
    "                    # count = 10000\n",
    "                    \n",
    "    return sorted(predicted_edges, key=lambda x: x[2], reverse=True)\n"
   ]
  },
  {
   "cell_type": "code",
   "execution_count": 36,
   "metadata": {},
   "outputs": [
    {
     "ename": "ValueError",
     "evalue": "too many values to unpack (expected 2)",
     "output_type": "error",
     "traceback": [
      "\u001b[0;31m---------------------------------------------------------------------------\u001b[0m",
      "\u001b[0;31mValueError\u001b[0m                                Traceback (most recent call last)",
      "Cell \u001b[0;32mIn[36], line 1\u001b[0m\n\u001b[0;32m----> 1\u001b[0m \u001b[43mprefAttachment\u001b[49m\u001b[43m(\u001b[49m\u001b[43mB\u001b[49m\u001b[43m)\u001b[49m\n",
      "Cell \u001b[0;32mIn[35], line 14\u001b[0m, in \u001b[0;36mprefAttachment\u001b[0;34m(graph)\u001b[0m\n\u001b[1;32m     12\u001b[0m     \u001b[38;5;28;01mcontinue\u001b[39;00m\n\u001b[1;32m     13\u001b[0m score \u001b[38;5;241m=\u001b[39m nx\u001b[38;5;241m.\u001b[39mpreferential_attachment(graph, (node1,node2))\n\u001b[0;32m---> 14\u001b[0m \u001b[38;5;28;01mfor\u001b[39;00m u,v, p \u001b[38;5;129;01min\u001b[39;00m score:\n\u001b[1;32m     15\u001b[0m     \u001b[38;5;28mprint\u001b[39m(u,end\u001b[38;5;241m=\u001b[39m\u001b[38;5;124m\"\u001b[39m\u001b[38;5;124m-----\u001b[39m\u001b[38;5;124m\"\u001b[39m)\n\u001b[1;32m     16\u001b[0m     \u001b[38;5;28mprint\u001b[39m(v,end\u001b[38;5;241m=\u001b[39m\u001b[38;5;124m\"\u001b[39m\u001b[38;5;124m-----\u001b[39m\u001b[38;5;124m\"\u001b[39m)\n",
      "File \u001b[0;32m~/.local/lib/python3.10/site-packages/networkx/algorithms/link_prediction.py:40\u001b[0m, in \u001b[0;36m<genexpr>\u001b[0;34m(.0)\u001b[0m\n\u001b[1;32m     38\u001b[0m \u001b[39mif\u001b[39;00m ebunch \u001b[39mis\u001b[39;00m \u001b[39mNone\u001b[39;00m:\n\u001b[1;32m     39\u001b[0m     ebunch \u001b[39m=\u001b[39m nx\u001b[39m.\u001b[39mnon_edges(G)\n\u001b[0;32m---> 40\u001b[0m \u001b[39mreturn\u001b[39;00m ((u, v, func(u, v)) \u001b[39mfor\u001b[39;00m u, v \u001b[39min\u001b[39;00m ebunch)\n",
      "\u001b[0;31mValueError\u001b[0m: too many values to unpack (expected 2)"
     ]
    }
   ],
   "source": [
    "prefAttachment(B)"
   ]
  },
  {
   "cell_type": "code",
   "execution_count": null,
   "metadata": {},
   "outputs": [],
   "source": [
    "\n",
    "def adamic_adar_coefficient(graph, node1, node2):\n",
    "    neighbors1 = set(graph.neighbors(node1))\n",
    "    neighbors2 = set(graph.neighbors(node2))\n",
    "    common_neighbors = neighbors1.intersection(neighbors2)\n",
    "    aa = sum([1 / math.log(len(set(graph.neighbors(neighbor)))) for neighbor in common_neighbors])\n",
    "    return aa\n",
    "\n",
    "def adamic_adar_link_prediction(graph):\n",
    "    predicted_edges = []\n",
    "    for node1 in graph.nodes():\n",
    "        for node2 in graph.nodes():\n",
    "            if node1 == node2 or graph.has_edge(node1, node2):\n",
    "                continue\n",
    "            aa = adamic_adar_coefficient(graph, node1, node2)\n",
    "            predicted_edges.append((node1, node2, aa))\n",
    "    return sorted(predicted_edges, key=lambda x: x[2], reverse=True)"
   ]
  },
  {
   "cell_type": "code",
   "execution_count": null,
   "metadata": {},
   "outputs": [],
   "source": [
    "\n",
    "# compute the Adamic-Adar similarity between all pairs of users and issues\n",
    "aa_matrix = np.zeros((len(users), len(issues)))\n",
    "for u, i in combinations(range(len(users)), 2):\n",
    "    u_vec = users_matrix[u].toarray()[0]\n",
    "    i_vec = issues_matrix[i].toarray()[0]\n",
    "    common = np.where(np.logical_and(u_vec, i_vec))[0]\n",
    "    aa = 0\n",
    "    for c in common:\n",
    "        aa += 1 / np.log(len(np.where(users_matrix[:, c].toarray())[0]))\n",
    "    aa_matrix[u][i] = aa\n",
    "    aa_matrix[i][u] = aa\n"
   ]
  }
 ],
 "metadata": {
  "kernelspec": {
   "display_name": "Python 3.10.6 64-bit",
   "language": "python",
   "name": "python3"
  },
  "language_info": {
   "codemirror_mode": {
    "name": "ipython",
    "version": 3
   },
   "file_extension": ".py",
   "mimetype": "text/x-python",
   "name": "python",
   "nbconvert_exporter": "python",
   "pygments_lexer": "ipython3",
   "version": "3.10.6"
  },
  "orig_nbformat": 4,
  "vscode": {
   "interpreter": {
    "hash": "e7370f93d1d0cde622a1f8e1c04877d8463912d04d973331ad4851f04de6915a"
   }
  }
 },
 "nbformat": 4,
 "nbformat_minor": 2
}
