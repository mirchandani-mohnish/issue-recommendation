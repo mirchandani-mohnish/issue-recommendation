{
 "cells": [
  {
   "cell_type": "markdown",
   "metadata": {},
   "source": [
    "## Backing Behind Algo\n",
    "- we first run through graph \n",
    "- for every user\n",
    "    - we see the issues i[n] connected to the user suppose u1\n",
    "    - for issue in i[n]\n",
    "        - traverse neighbours of issues\n",
    "        - add a weight of 1\n",
    "        [ for common neighbours, the weights would increment to more than 1 ]\n",
    "    - for every neighbour(user) user_neigh of this user based on contributions\n",
    "        - for every issue of user_neigh\n",
    "            - add a weight of 2 to issue\n",
    "    - for every neighbour(user) user_neigh of this user based on starred \n",
    "        - for every issue of user_neigh\n",
    "            - add a weight of 1 to issue and neighbours\n",
    "    - go through weights for the issues\n",
    "    - add issues with weight over k ( threshold ) into the array.\n",
    "        "
   ]
  },
  {
   "cell_type": "code",
   "execution_count": null,
   "metadata": {},
   "outputs": [],
   "source": [
    "import random\n",
    "import networkx as nx\n",
    "\n",
    "try:\n",
    "    gph = nx.read_gexf(\"../../graphs/v3/contribConnected.gexf\")\n",
    "    print(\"graph file found at \" + str())\n",
    "    print(gph)\n",
    "\n",
    "except Exception as e: # if any error\n",
    "    print(e)\n",
    "    gph = nx.Graph()"
   ]
  },
  {
   "cell_type": "code",
   "execution_count": null,
   "metadata": {},
   "outputs": [],
   "source": [
    "B = gph\n",
    "\n",
    "users = [n for n, d in B.nodes(data=True) if d[\"bipartite\"] == 0]\n",
    "issues = [n for n, d in B.nodes(data=True) if d[\"bipartite\"] == 1]"
   ]
  },
  {
   "cell_type": "code",
   "execution_count": null,
   "metadata": {},
   "outputs": [],
   "source": [
    "\n",
    "\n",
    "def algo(gph):\n",
    "    values = {}\n",
    "    contributions = set() # all nodes with type contribution\n",
    "    starred = set() # all nodes with type starred repo\n",
    "\n",
    "    for n in gph.nodes(data = True):\n",
    "        if n[1]['bipartite'] == 0:\n",
    "            values[n[0]] = 1\n",
    "        else:\n",
    "            values[n[0]] = 2\n",
    "\n",
    "    for n in gph.edges(data = True):\n",
    "        if 'contributions' in n[2]:\n",
    "            contributions.add(n[0])\n",
    "            contributions.add(n[1])\n",
    "        else:\n",
    "            starred.add(n[0])\n",
    "            starred.add(n[1])\n",
    "\n",
    "    # users -> 1\n",
    "    # issues -> 2\n",
    "    # contribution -> 3\n",
    "    # starred -> 4\n",
    "\n",
    "    threshold = 3\n",
    "    predicted = []\n",
    "\n",
    "    for node in gph.nodes():\n",
    "\n",
    "        if values[node] == 1: # if it is user\n",
    "            current_user = node\n",
    "            weight = {} # to store weights of issues\n",
    "            prediction = []\n",
    "            for nodes in gph.neighbors(current_user):\n",
    "                if values[nodes] == 2: # issues connected to users\n",
    "                    issues = nodes\n",
    "                    for issue_neigh in gph.neighbors(issues): # neighbours of issues connected to users\n",
    "                        if values[issue_neigh] == 2:\n",
    "                            if issue_neigh in weight:\n",
    "                                weight[issue_neigh] += 1\n",
    "                            else:\n",
    "                                weight[issue_neigh] = 1\n",
    "                else: # users connected to users\n",
    "                    user = nodes\n",
    "                    if user in contributions: # if user is connected via contribution\n",
    "                        for issue_neigh in gph.neighbors(user): # issues that are neighbours of users connected to cuurent user \n",
    "                            if values[issue_neigh] == 2:\n",
    "                                if issue_neigh in weight:\n",
    "                                    weight[issue_neigh] += 2\n",
    "                                else:\n",
    "                                    weight[issue_neigh] = 2\n",
    "                    else: # if user is connected via starred repo\n",
    "                        for issue_neigh in gph.neighbors(user): # issues that are neighbours of users connected to cuurent user\n",
    "                            if values[issue_neigh] == 2:\n",
    "                                if issue_neigh in weight:\n",
    "                                    weight[issue_neigh] += 1\n",
    "                                else:\n",
    "                                    weight[issue_neigh] = 1\n",
    "            \n",
    "            Issues = list(weight.keys())\n",
    "            Weights = list(weight.values())\n",
    "\n",
    "            # print(current_user, end = \" --> \")\n",
    "            # Probability = Element Weight / Sum Of All Weights\n",
    "            # predicted_issue = random.choices(Issues, Weights, k = 1)[0]\n",
    "            # print(predicted_issue) # k is the number of outputs\n",
    "            sorted_prediction = sorted(weight.items(), key=lambda x: x[1], reverse=True)\n",
    "            print(sorted_prediction)\n",
    "            for x in range(0,len(sorted_prediction)):\n",
    "                if(sorted_prediction[x][1] > 1):\n",
    "                    predicted_issue = sorted_prediction[x][0]\n",
    "                    predicted.append([current_user, predicted_issue])\n",
    "    return predicted\n",
    "\n"
   ]
  },
  {
   "cell_type": "code",
   "execution_count": null,
   "metadata": {},
   "outputs": [],
   "source": [
    "\n",
    "predicted = algo(gph)\n",
    "\n",
    "for i in predicted:\n",
    "    print(i)\n",
    "# -------------------------------------------------------------------------------------------------------------------------------------------\n",
    "# just based on some threshold\n",
    "        # for issue, value in weight.items():\n",
    "        #     if value >= threshold:\n",
    "        #         prediction.append(issue)\n",
    "        # print(user, end = \" --> \")\n",
    "        # print(prediction)"
   ]
  },
  {
   "cell_type": "markdown",
   "metadata": {},
   "source": []
  },
  {
   "cell_type": "code",
   "execution_count": null,
   "metadata": {},
   "outputs": [],
   "source": [
    "def removeEdges(graph):\n",
    "    g = nx.Graph()\n",
    "    initial = graph.number_of_edges()\n",
    "    issuesList = random.sample(issues, 2000)\n",
    "    for i in issuesList:\n",
    "        for j in list(graph.neighbors(i)):\n",
    "            if graph.nodes[j][\"bipartite\"] == 0:\n",
    "                g.add_node(j, bipartite=0)\n",
    "                g.add_node(i, bipartite=1)\n",
    "                g.add_edge(i,j)\n",
    "                graph.remove_edge(i,j)\n",
    "    final = graph.number_of_edges()\n",
    "    print(initial - final)\n",
    "    return g,graph\n",
    "\n",
    "\n"
   ]
  },
  {
   "cell_type": "code",
   "execution_count": null,
   "metadata": {},
   "outputs": [],
   "source": [
    "train, test = removeEdges(gph)\n",
    "\n"
   ]
  },
  {
   "cell_type": "code",
   "execution_count": null,
   "metadata": {},
   "outputs": [],
   "source": [
    "og_list = train.edges()\n",
    "og_list = list(og_list)\n",
    "\n",
    "print(og_list)\n",
    "common_edges = []\n",
    "\n",
    "for edge1 in predicted:\n",
    "    for edge2 in og_list:\n",
    "        sorted_edge1 = tuple(sorted(edge1))\n",
    "        sorted_edge2 = tuple(sorted(edge2))\n",
    "        if sorted_edge1 == sorted_edge2:\n",
    "            common_edges.append(edge1)\n",
    "            break\n",
    "\n",
    "print(len(common_edges))\n",
    "for i in common_edges:\n",
    "    print(i)\n"
   ]
  },
  {
   "cell_type": "code",
   "execution_count": null,
   "metadata": {},
   "outputs": [],
   "source": []
  }
 ],
 "metadata": {
  "kernelspec": {
   "display_name": "Python 3.10.6 64-bit",
   "language": "python",
   "name": "python3"
  },
  "language_info": {
   "codemirror_mode": {
    "name": "ipython",
    "version": 3
   },
   "file_extension": ".py",
   "mimetype": "text/x-python",
   "name": "python",
   "nbconvert_exporter": "python",
   "pygments_lexer": "ipython3",
   "version": "3.10.6"
  },
  "orig_nbformat": 4,
  "vscode": {
   "interpreter": {
    "hash": "e7370f93d1d0cde622a1f8e1c04877d8463912d04d973331ad4851f04de6915a"
   }
  }
 },
 "nbformat": 4,
 "nbformat_minor": 2
}
