{
 "cells": [
  {
   "cell_type": "code",
   "execution_count": 26,
   "metadata": {},
   "outputs": [],
   "source": [
    "import networkx as nx\n",
    "from itertools import combinations\n",
    "from sklearn.metrics.pairwise import cosine_similarity\n",
    "import numpy as np\n",
    "import fileDefinitions as fd\n",
    "import utils.helper_methods as helper_methods\n",
    "from networkx.algorithms import bipartite\n",
    "import matplotlib.pyplot as plt\n",
    "import time\n",
    "import random\n",
    "from networkx.algorithms import link_prediction\n",
    "from collections import defaultdict\n",
    "import math"
   ]
  },
  {
   "cell_type": "code",
   "execution_count": 27,
   "metadata": {},
   "outputs": [
    {
     "name": "stdout",
     "output_type": "stream",
     "text": [
      "Graph with 11406 nodes and 95795 edges\n"
     ]
    }
   ],
   "source": [
    "try:\n",
    "    gph = nx.read_gexf(\"./finalConnectedGraph.gexf\")\n",
    "    #helper_methods.logData(\"graph file found at \" + str())\n",
    "    #print(\"graph file found at \" + str())\n",
    "    print(gph)\n",
    "except Exception as e:\n",
    "    helper_methods.logData(e)\n",
    "    gph = nx.Graph()\n",
    "    #helper_methods.logData(\"new graph file generated\")"
   ]
  },
  {
   "cell_type": "code",
   "execution_count": 28,
   "metadata": {},
   "outputs": [],
   "source": [
    "B = gph\n",
    "\n",
    "# users = []\n",
    "# issues = []\n",
    "# for n in B:\n",
    "#     if(n == 0):\n",
    "#         users.append(n)\n",
    "#     else:\n",
    "#         issues.append(n)\n",
    "users = [n for n, d in B.nodes(data=True) if d[\"bipartite\"] == 0]\n",
    "issues = [n for n, d in B.nodes(data=True) if d[\"bipartite\"] == 1]"
   ]
  },
  {
   "cell_type": "code",
   "execution_count": 4,
   "metadata": {},
   "outputs": [
    {
     "name": "stdout",
     "output_type": "stream",
     "text": [
      "Nodes:  ['PR_kwDOBy2NM85IwBBx', 'bytes7bytes7', 'PR_kwDOBy2NM85JIfZE', 'Flutteror', 'anujcontractor', 'renjingkai', 'brianegan', 'PR_kwDOBy2NM85JlbVF', 'PR_kwDOAiEj5s5IrRRF', 'PR_kwDOBy2NM85I7Or7', 'PR_kwDOBy2NM85K9bUt', 'shakib609', 'songyanghe666', 'sksenapati007', 'PR_kwDOAiEj5s5G02na', 'PR_kwDOBy2NM85LAawJ', 'Wanchen7', 'gendseo', 'xiaoxiaowesley', 'SystemTce', 'CaiJingLong', 'PR_kwDOAiEj5s5G1vI5', 'flutter-thrio', 'PR_kwDOAiEj5s5JJcOU', 'PR_kwDOAiEj5s5G03Ln', 'PR_kwDOBy2NM85JKB2s', 'PR_kwDOAiEj5s5HqBir', 'achernoprudov', 'MDExOlB1bGxSZXF1ZXN0MzczMTg1MjI5', 'ChristianKleineidam', 'PR_kwDOAiEj5s5ITe0E', 'kaina404', 'PR_kwDOBy2NM85JSYCA', 'tk103331', 'PR_kwDOAiEj5s5JD2-k', 'PR_kwDOAiEj5s5J0-PA', 'lucalewin', 'MDExOlB1bGxSZXF1ZXN0MzYxODc0OTgw', 'PR_kwDOAiEj5s5I8Uyb', 'PR_kwDOAiEj5s5JxS2s', 'aqiu-alibaba', 'PR_kwDOBy2NM85LQJYb', 'PR_kwDOAiEj5s5G1usj', 'comerc', 'A-Sky-Full-of-Stars', 'PR_kwDOAiEj5s5Kizdg', 'PR_kwDOBy2NM85I342w', 'PR_kwDOAiEj5s5IyevW', 'PR_kwDOAiEj5s5HPd6W', 'PR_kwDOAiEj5s5Iv2_6', 'jsoref', 'PR_kwDOAiEj5s5Gmg4o', 'beesaferoot', 'allenymt', 'PR_kwDOBy2NM85I5ljj', 'EightMinuteYouth', 'PR_kwDOBy2NM85I_JC5', 'cooperkong', 'GIfatahTH', 'PR_kwDOAiEj5s5G83b7', 'alibaba', 'DJMcNab', 'tanishdragonemperor', 'MDExOlB1bGxSZXF1ZXN0Mzc3ODA3Njcy', 'rezaxdi', 'apomalyn', 'PR_kwDOAiEj5s5JN1-j', 'rrousselGit', 'PR_kwDOBy2NM85I_fpj', 'danieldai', 'PR_kwDOBy2NM85JX6tb', 'PR_kwDOAiEj5s5HmJdh', 'PR_kwDOBy2NM85Jg1hg', 'jonahfang', 'PR_kwDOAiEj5s5K4pqq', 'login', 'PR_kwDOAiEj5s5Gjg5B', 'Haidar0096', 'Daddelbob', 'stuartmorgan', 'ntkme', 'SirNiklax', 'hbina', 'PR_kwDOAiEj5s5HcTGM', 'PR_kwDOBy2NM85Jeo7e', 'MDExOlB1bGxSZXF1ZXN0MzgzMzE2NDY1', 'felangel', 'mazihao66', 'htynkn', 'PR_kwDOAiEj5s5G1vzM', 'PR_kwDOAiEj5s5Kzz-_', 'mono0926', 'PR_kwDOBy2NM85JIddY', 'cpswan', 'PR_kwDOAiEj5s5J6Tvx', 'pavanpodila', 'aouahib', 'ilhamjulianto', 'MDExOlB1bGxSZXF1ZXN0MzYxMjIzNzUx', 'PR_kwDOBy2NM85I9VzR', 'PR_kwDOBy2NM85IvbF4', 'PR_kwDOBy2NM85IzT-T', 'PR_kwDOAiEj5s5IKBXF', 'lapce', 'mmcc007', 'PR_kwDOBy2NM85KdiNI', 'dart-lang', 'topiaruss', 'PR_kwDOBy2NM85K9kR7', 'PR_kwDOAiEj5s5G83de']\n",
      "Edges:  [('PR_kwDOBy2NM85IwBBx', 'PR_kwDOBy2NM85LQJYb'), ('PR_kwDOBy2NM85IwBBx', 'PR_kwDOBy2NM85LAawJ'), ('PR_kwDOBy2NM85IwBBx', 'PR_kwDOBy2NM85K9kR7'), ('PR_kwDOBy2NM85IwBBx', 'tk103331'), ('bytes7bytes7', 'PR_kwDOAiEj5s5JxS2s'), ('PR_kwDOBy2NM85JIfZE', 'lapce'), ('anujcontractor', 'PR_kwDOAiEj5s5Iv2_6'), ('brianegan', 'MDExOlB1bGxSZXF1ZXN0Mzc3ODA3Njcy'), ('brianegan', 'MDExOlB1bGxSZXF1ZXN0MzYxMjIzNzUx'), ('PR_kwDOBy2NM85JlbVF', 'PR_kwDOBy2NM85LQJYb'), ('PR_kwDOBy2NM85JlbVF', 'PR_kwDOBy2NM85LAawJ'), ('PR_kwDOBy2NM85JlbVF', 'PR_kwDOBy2NM85K9kR7'), ('PR_kwDOBy2NM85JlbVF', 'hbina'), ('PR_kwDOAiEj5s5IrRRF', 'PR_kwDOAiEj5s5K4pqq'), ('PR_kwDOAiEj5s5IrRRF', 'PR_kwDOAiEj5s5Kizdg'), ('PR_kwDOAiEj5s5IrRRF', 'PR_kwDOAiEj5s5JN1-j'), ('PR_kwDOAiEj5s5IrRRF', 'PR_kwDOAiEj5s5JJcOU'), ('PR_kwDOAiEj5s5IrRRF', 'jsoref'), ('PR_kwDOBy2NM85I7Or7', 'hbina'), ('PR_kwDOBy2NM85K9bUt', 'PR_kwDOBy2NM85LQJYb'), ('PR_kwDOBy2NM85K9bUt', 'PR_kwDOBy2NM85LAawJ'), ('PR_kwDOBy2NM85K9bUt', 'PR_kwDOBy2NM85K9kR7'), ('PR_kwDOBy2NM85K9bUt', 'SirNiklax'), ('PR_kwDOAiEj5s5G02na', 'PR_kwDOAiEj5s5K4pqq'), ('PR_kwDOAiEj5s5G02na', 'PR_kwDOAiEj5s5JN1-j'), ('PR_kwDOAiEj5s5G02na', 'PR_kwDOAiEj5s5JJcOU'), ('PR_kwDOAiEj5s5G02na', 'jsoref'), ('PR_kwDOBy2NM85LAawJ', 'lapce'), ('PR_kwDOBy2NM85LAawJ', 'PR_kwDOBy2NM85LQJYb'), ('PR_kwDOBy2NM85LAawJ', 'PR_kwDOBy2NM85K9kR7'), ('PR_kwDOBy2NM85LAawJ', 'PR_kwDOBy2NM85Jg1hg'), ('PR_kwDOBy2NM85LAawJ', 'PR_kwDOBy2NM85Jeo7e'), ('PR_kwDOBy2NM85LAawJ', 'PR_kwDOBy2NM85JX6tb'), ('PR_kwDOBy2NM85LAawJ', 'PR_kwDOBy2NM85JSYCA'), ('PR_kwDOBy2NM85LAawJ', 'PR_kwDOBy2NM85JKB2s'), ('PR_kwDOBy2NM85LAawJ', 'PR_kwDOBy2NM85JIddY'), ('PR_kwDOBy2NM85LAawJ', 'PR_kwDOBy2NM85I_fpj'), ('PR_kwDOBy2NM85LAawJ', 'PR_kwDOBy2NM85I9VzR'), ('PR_kwDOBy2NM85LAawJ', 'PR_kwDOBy2NM85I5ljj'), ('xiaoxiaowesley', 'PR_kwDOAiEj5s5Gmg4o'), ('PR_kwDOAiEj5s5G1vI5', 'PR_kwDOAiEj5s5K4pqq'), ('PR_kwDOAiEj5s5G1vI5', 'PR_kwDOAiEj5s5JN1-j'), ('PR_kwDOAiEj5s5G1vI5', 'PR_kwDOAiEj5s5JJcOU'), ('PR_kwDOAiEj5s5G1vI5', 'jsoref'), ('PR_kwDOAiEj5s5JJcOU', 'PR_kwDOAiEj5s5K4pqq'), ('PR_kwDOAiEj5s5JJcOU', 'PR_kwDOAiEj5s5Kizdg'), ('PR_kwDOAiEj5s5JJcOU', 'ntkme'), ('PR_kwDOAiEj5s5JJcOU', 'PR_kwDOAiEj5s5JN1-j'), ('PR_kwDOAiEj5s5JJcOU', 'PR_kwDOAiEj5s5JD2-k'), ('PR_kwDOAiEj5s5JJcOU', 'PR_kwDOAiEj5s5I8Uyb'), ('PR_kwDOAiEj5s5JJcOU', 'PR_kwDOAiEj5s5Iv2_6'), ('PR_kwDOAiEj5s5JJcOU', 'PR_kwDOAiEj5s5IKBXF'), ('PR_kwDOAiEj5s5JJcOU', 'PR_kwDOAiEj5s5HqBir'), ('PR_kwDOAiEj5s5JJcOU', 'PR_kwDOAiEj5s5HmJdh'), ('PR_kwDOAiEj5s5JJcOU', 'PR_kwDOAiEj5s5HPd6W'), ('PR_kwDOAiEj5s5JJcOU', 'PR_kwDOAiEj5s5G1vzM'), ('PR_kwDOAiEj5s5JJcOU', 'PR_kwDOAiEj5s5G1usj'), ('PR_kwDOAiEj5s5JJcOU', 'PR_kwDOAiEj5s5G03Ln'), ('PR_kwDOAiEj5s5JJcOU', 'PR_kwDOAiEj5s5Gmg4o'), ('PR_kwDOAiEj5s5JJcOU', 'PR_kwDOAiEj5s5Gjg5B'), ('PR_kwDOAiEj5s5JJcOU', 'MDExOlB1bGxSZXF1ZXN0MzgzMzE2NDY1'), ('PR_kwDOAiEj5s5JJcOU', 'MDExOlB1bGxSZXF1ZXN0Mzc3ODA3Njcy'), ('PR_kwDOAiEj5s5JJcOU', 'MDExOlB1bGxSZXF1ZXN0MzczMTg1MjI5'), ('PR_kwDOAiEj5s5JJcOU', 'MDExOlB1bGxSZXF1ZXN0MzYxODc0OTgw'), ('PR_kwDOAiEj5s5JJcOU', 'MDExOlB1bGxSZXF1ZXN0MzYxMjIzNzUx'), ('PR_kwDOAiEj5s5G03Ln', 'PR_kwDOAiEj5s5K4pqq'), ('PR_kwDOAiEj5s5G03Ln', 'PR_kwDOAiEj5s5JN1-j'), ('PR_kwDOAiEj5s5G03Ln', 'jsoref'), ('PR_kwDOBy2NM85JKB2s', 'lapce'), ('PR_kwDOBy2NM85JKB2s', 'PR_kwDOBy2NM85LQJYb'), ('PR_kwDOBy2NM85JKB2s', 'PR_kwDOBy2NM85K9kR7'), ('PR_kwDOAiEj5s5HqBir', 'PR_kwDOAiEj5s5K4pqq'), ('PR_kwDOAiEj5s5HqBir', 'ntkme'), ('PR_kwDOAiEj5s5HqBir', 'PR_kwDOAiEj5s5JN1-j'), ('MDExOlB1bGxSZXF1ZXN0MzczMTg1MjI5', 'PR_kwDOAiEj5s5JN1-j'), ('MDExOlB1bGxSZXF1ZXN0MzczMTg1MjI5', 'rrousselGit'), ('ChristianKleineidam', 'PR_kwDOAiEj5s5K4pqq'), ('PR_kwDOAiEj5s5ITe0E', 'dart-lang'), ('PR_kwDOBy2NM85JSYCA', 'PR_kwDOBy2NM85LQJYb'), ('PR_kwDOBy2NM85JSYCA', 'PR_kwDOBy2NM85K9kR7'), ('PR_kwDOBy2NM85JSYCA', 'hbina'), ('tk103331', 'PR_kwDOBy2NM85I_JC5'), ('tk103331', 'PR_kwDOBy2NM85IzT-T'), ('PR_kwDOAiEj5s5JD2-k', 'PR_kwDOAiEj5s5K4pqq'), ('PR_kwDOAiEj5s5JD2-k', 'PR_kwDOAiEj5s5Kizdg'), ('PR_kwDOAiEj5s5JD2-k', 'ntkme'), ('PR_kwDOAiEj5s5JD2-k', 'PR_kwDOAiEj5s5JN1-j'), ('PR_kwDOAiEj5s5J0-PA', 'dart-lang'), ('lucalewin', 'PR_kwDOBy2NM85K9kR7'), ('MDExOlB1bGxSZXF1ZXN0MzYxODc0OTgw', 'PR_kwDOAiEj5s5JN1-j'), ('MDExOlB1bGxSZXF1ZXN0MzYxODc0OTgw', 'GIfatahTH'), ('PR_kwDOAiEj5s5I8Uyb', 'PR_kwDOAiEj5s5K4pqq'), ('PR_kwDOAiEj5s5I8Uyb', 'PR_kwDOAiEj5s5Kizdg'), ('PR_kwDOAiEj5s5I8Uyb', 'ntkme'), ('PR_kwDOAiEj5s5I8Uyb', 'PR_kwDOAiEj5s5JN1-j'), ('PR_kwDOAiEj5s5JxS2s', 'PR_kwDOAiEj5s5K4pqq'), ('PR_kwDOAiEj5s5JxS2s', 'PR_kwDOAiEj5s5Kizdg'), ('PR_kwDOBy2NM85LQJYb', 'lapce'), ('PR_kwDOBy2NM85LQJYb', 'PR_kwDOBy2NM85K9kR7'), ('PR_kwDOBy2NM85LQJYb', 'PR_kwDOBy2NM85Jg1hg'), ('PR_kwDOBy2NM85LQJYb', 'PR_kwDOBy2NM85Jeo7e'), ('PR_kwDOBy2NM85LQJYb', 'PR_kwDOBy2NM85JX6tb'), ('PR_kwDOBy2NM85LQJYb', 'PR_kwDOBy2NM85JIddY'), ('PR_kwDOBy2NM85LQJYb', 'PR_kwDOBy2NM85I_fpj'), ('PR_kwDOBy2NM85LQJYb', 'PR_kwDOBy2NM85I9VzR'), ('PR_kwDOBy2NM85LQJYb', 'PR_kwDOBy2NM85I5ljj'), ('PR_kwDOAiEj5s5G1usj', 'PR_kwDOAiEj5s5K4pqq'), ('PR_kwDOAiEj5s5G1usj', 'PR_kwDOAiEj5s5JN1-j'), ('PR_kwDOAiEj5s5G1usj', 'jsoref'), ('PR_kwDOAiEj5s5Kizdg', 'PR_kwDOAiEj5s5K4pqq'), ('PR_kwDOAiEj5s5Kizdg', 'stuartmorgan'), ('PR_kwDOAiEj5s5Kizdg', 'PR_kwDOAiEj5s5J6Tvx'), ('PR_kwDOAiEj5s5Kizdg', 'PR_kwDOAiEj5s5JN1-j'), ('PR_kwDOAiEj5s5Kizdg', 'PR_kwDOAiEj5s5IKBXF'), ('PR_kwDOBy2NM85I342w', 'hbina'), ('PR_kwDOAiEj5s5IyevW', 'dart-lang'), ('PR_kwDOAiEj5s5HPd6W', 'PR_kwDOAiEj5s5K4pqq'), ('PR_kwDOAiEj5s5HPd6W', 'ntkme'), ('PR_kwDOAiEj5s5HPd6W', 'PR_kwDOAiEj5s5JN1-j'), ('PR_kwDOAiEj5s5Iv2_6', 'PR_kwDOAiEj5s5K4pqq'), ('PR_kwDOAiEj5s5Iv2_6', 'PR_kwDOAiEj5s5JN1-j'), ('jsoref', 'PR_kwDOAiEj5s5G1vzM'), ('PR_kwDOAiEj5s5Gmg4o', 'PR_kwDOAiEj5s5K4pqq'), ('PR_kwDOAiEj5s5Gmg4o', 'PR_kwDOAiEj5s5JN1-j'), ('beesaferoot', 'PR_kwDOAiEj5s5IKBXF'), ('PR_kwDOBy2NM85I5ljj', 'PR_kwDOBy2NM85K9kR7'), ('PR_kwDOBy2NM85I5ljj', 'hbina'), ('PR_kwDOAiEj5s5G83b7', 'dart-lang'), ('DJMcNab', 'PR_kwDOBy2NM85KdiNI'), ('MDExOlB1bGxSZXF1ZXN0Mzc3ODA3Njcy', 'PR_kwDOAiEj5s5JN1-j'), ('rezaxdi', 'PR_kwDOBy2NM85I_fpj'), ('PR_kwDOAiEj5s5JN1-j', 'PR_kwDOAiEj5s5K4pqq'), ('PR_kwDOAiEj5s5JN1-j', 'dart-lang'), ('PR_kwDOAiEj5s5JN1-j', 'PR_kwDOAiEj5s5J6Tvx'), ('PR_kwDOAiEj5s5JN1-j', 'PR_kwDOAiEj5s5JN1-j'), ('PR_kwDOAiEj5s5JN1-j', 'PR_kwDOAiEj5s5IKBXF'), ('PR_kwDOAiEj5s5JN1-j', 'PR_kwDOAiEj5s5HmJdh'), ('PR_kwDOAiEj5s5JN1-j', 'PR_kwDOAiEj5s5G1vzM'), ('PR_kwDOAiEj5s5JN1-j', 'PR_kwDOAiEj5s5Gjg5B'), ('PR_kwDOAiEj5s5JN1-j', 'MDExOlB1bGxSZXF1ZXN0MzgzMzE2NDY1'), ('PR_kwDOAiEj5s5JN1-j', 'MDExOlB1bGxSZXF1ZXN0MzYxMjIzNzUx'), ('PR_kwDOBy2NM85I_fpj', 'PR_kwDOBy2NM85K9kR7'), ('PR_kwDOBy2NM85JX6tb', 'lapce'), ('PR_kwDOBy2NM85JX6tb', 'PR_kwDOBy2NM85K9kR7'), ('PR_kwDOAiEj5s5HmJdh', 'PR_kwDOAiEj5s5K4pqq'), ('PR_kwDOAiEj5s5HmJdh', 'ntkme'), ('PR_kwDOBy2NM85Jg1hg', 'PR_kwDOBy2NM85K9kR7'), ('PR_kwDOBy2NM85Jg1hg', 'hbina'), ('PR_kwDOAiEj5s5K4pqq', 'PR_kwDOAiEj5s5K4pqq'), ('PR_kwDOAiEj5s5K4pqq', 'PR_kwDOAiEj5s5J6Tvx'), ('PR_kwDOAiEj5s5K4pqq', 'PR_kwDOAiEj5s5IKBXF'), ('PR_kwDOAiEj5s5K4pqq', 'PR_kwDOAiEj5s5G1vzM'), ('PR_kwDOAiEj5s5K4pqq', 'PR_kwDOAiEj5s5Gjg5B'), ('PR_kwDOAiEj5s5Gjg5B', 'cpswan'), ('ntkme', 'PR_kwDOAiEj5s5J6Tvx'), ('hbina', 'PR_kwDOBy2NM85JIddY'), ('hbina', 'PR_kwDOBy2NM85I9VzR'), ('PR_kwDOAiEj5s5HcTGM', 'dart-lang'), ('PR_kwDOBy2NM85Jeo7e', 'lapce'), ('PR_kwDOBy2NM85Jeo7e', 'PR_kwDOBy2NM85K9kR7'), ('MDExOlB1bGxSZXF1ZXN0MzgzMzE2NDY1', 'mono0926'), ('PR_kwDOAiEj5s5Kzz-_', 'dart-lang'), ('PR_kwDOBy2NM85JIddY', 'PR_kwDOBy2NM85K9kR7'), ('PR_kwDOBy2NM85I9VzR', 'PR_kwDOBy2NM85K9kR7'), ('PR_kwDOBy2NM85IvbF4', 'lapce'), ('dart-lang', 'PR_kwDOAiEj5s5G83de')]\n"
     ]
    }
   ],
   "source": [
    "# Set the number of nodes and edges to extract\n",
    "C= B\n",
    "\n",
    "usersC = [n for n, d in C.nodes(data=True) if d[\"bipartite\"] == 0]\n",
    "issuesC = [n for n, d in C.nodes(data=True) if d[\"bipartite\"] == 1]\n",
    "\n",
    "n = 50\n",
    "\n",
    "# Get the nodes to take using slicing\n",
    "nodes_to_takeU = list(usersC)[:n] + list(usersC)[n+3:n+8]\n",
    "nodes_to_takeI = list(issuesC)[:n] + list(issuesC)[n+3:n+8]\n",
    "nodes_to_take=nodes_to_takeU+nodes_to_takeI\n",
    "# Take the subgraph of the nodes and their edges\n",
    "C_sub = C.subgraph(nodes_to_take)\n",
    "\n",
    "# Print the nodes and edges of the subgraph\n",
    "print(\"Nodes: \", C_sub.nodes())\n",
    "print(\"Edges: \", C_sub.edges())\n",
    "\n",
    "# n = 10100\n",
    "\n",
    "# # Get the nodes to remove using slicing\n",
    "# nodes_to_remove = list(C.nodes())[-n:]\n",
    "\n",
    "# # Remove the nodes and their edges from the graph\n",
    "# C.remove_nodes_from(nodes_to_remove)\n",
    "\n",
    "# # Print the nodes and edges of the modified graph\n",
    "# print(\"Nodes: \", C.nodes())\n",
    "# print(\"Edges: \", C.edges())\n"
   ]
  },
  {
   "cell_type": "code",
   "execution_count": 29,
   "metadata": {},
   "outputs": [
    {
     "name": "stdout",
     "output_type": "stream",
     "text": [
      "Set A:  {'dart-lang', 'bytes7bytes7', 'ntkme', 'SirNiklax', 'ChristianKleineidam', 'hbina', 'lapce', 'DJMcNab', 'anujcontractor', 'tk103331', 'jsoref', 'rezaxdi', 'lucalewin', 'stuartmorgan'}\n",
      "Set B:  {'PR_kwDOBy2NM85IwBBx', 'PR_kwDOBy2NM85I_JC5', 'PR_kwDOBy2NM85JIfZE', 'PR_kwDOBy2NM85Jeo7e', 'PR_kwDOAiEj5s5JJcOU', 'PR_kwDOBy2NM85JKB2s', 'PR_kwDOAiEj5s5Kzz-_', 'PR_kwDOBy2NM85JlbVF', 'PR_kwDOAiEj5s5JN1-j', 'PR_kwDOBy2NM85JIddY', 'PR_kwDOAiEj5s5J6Tvx', 'PR_kwDOAiEj5s5IrRRF', 'PR_kwDOBy2NM85I_fpj', 'PR_kwDOBy2NM85I7Or7', 'PR_kwDOBy2NM85JSYCA', 'PR_kwDOAiEj5s5JD2-k', 'PR_kwDOBy2NM85JX6tb', 'PR_kwDOBy2NM85K9bUt', 'PR_kwDOAiEj5s5J0-PA', 'PR_kwDOAiEj5s5ITe0E', 'PR_kwDOBy2NM85Jg1hg', 'PR_kwDOAiEj5s5K4pqq', 'PR_kwDOAiEj5s5I8Uyb', 'PR_kwDOAiEj5s5JxS2s', 'PR_kwDOBy2NM85I9VzR', 'PR_kwDOBy2NM85IvbF4', 'PR_kwDOBy2NM85IzT-T', 'PR_kwDOBy2NM85LQJYb', 'PR_kwDOBy2NM85LAawJ', 'PR_kwDOBy2NM85KdiNI', 'PR_kwDOAiEj5s5Kizdg', 'PR_kwDOBy2NM85I342w', 'PR_kwDOAiEj5s5IyevW', 'PR_kwDOBy2NM85K9kR7', 'PR_kwDOAiEj5s5Iv2_6', 'PR_kwDOBy2NM85I5ljj'}\n"
     ]
    }
   ],
   "source": [
    "C=B\n",
    "# Initialize sets for each partition\n",
    "setA = set()\n",
    "setB = set()\n",
    "setAll= set()\n",
    "count = 50\n",
    "\n",
    "# Iterate through the graph and populate sets for each partition\n",
    "for n in C.nodes(data = True):\n",
    "    setAll.add(str(n[0]))\n",
    "    \n",
    "    if(n[1]['bipartite'] == 0):\n",
    "        setA.add(str(n[0]))\n",
    "    else:\n",
    "        setB.add(str(n[0]))\n",
    "    count -= 1\n",
    "    if(count == 0):\n",
    "        break\n",
    "    \n",
    "\n",
    "# Print the sets for each partition\n",
    "print(\"Set A: \", setA)\n",
    "print(\"Set B: \", setB)"
   ]
  },
  {
   "cell_type": "code",
   "execution_count": 30,
   "metadata": {},
   "outputs": [
    {
     "name": "stdout",
     "output_type": "stream",
     "text": [
      "Nodes:  ['omarismail', '9527001', '0uep', 'JAM-564', 'PR_kwDOBm1m8M5K_Gyy', 'PR_kwDOAqixHc4uyIZZ', 'out-of-phaze', 'stjepanjurekovic', 'PR_kwDODDBqVs5Ili1N', 'MDExOlB1bGxSZXF1ZXN0MTU2MDE2Mzg2', 'Flutteror', 'happysalada', 'GEYOUR', 'TheWolfStudios', 'PR_kwDODTPDpc430A7f', 'PR_kwDOB-PfJM5KYkUl', 'Pierre-Monier', 'iamsahilsonawane', 'sashman', 'vvoland', 'MDExOlB1bGxSZXF1ZXN0MTQ2ODEzOTkw', 'MDExOlB1bGxSZXF1ZXN0NjkxNTczMTI0', 'aojea', 'PR_kwDOC4X1cM41M-B7', 'PR_kwDOB2vfUM40rvJN', 'PR_kwDODJ5mGM5KMSYX', 'clone1018', 'mhanberg', 'MDExOlB1bGxSZXF1ZXN0MTAzNzA5ODY3', 'MDExOlB1bGxSZXF1ZXN0NTYyNzk2NzY5', 'PR_kwDOEMdbI85LOlHV', 'SquishyRolls', 'DeadLineSS13', 'PR_kwDOCU-Ts84z_aZz', 'MDExOlB1bGxSZXF1ZXN0Mzc4MTQxMzM5', 'vraravam', 'Mukund-Tandon', 'PR_kwDODDBqVs5FzHvf', 'PR_kwDOAf6tO85LSWPg', 'ByeongUkChoi', 'edwingeng', 'MDExOlB1bGxSZXF1ZXN0MTU0NjgzOTE1', 'sekiyama58', 'MDExOlB1bGxSZXF1ZXN0NDkzMTYxMTQw', 'Liberation546', 'PR_kwDOAMKNF843I32o', 'williamweckl', 'Manthan-tech', 'MDExOlB1bGxSZXF1ZXN0MTI1MDAzODIy', 'PR_kwDODImkh85Kxq1L', 'PR_kwDOCU-Ts85AJZjZ', 'zubale-oss', 'PR_kwDOB9kZ-843sxQn', 'kangxuan', 'Deahaka', 'MDExOlB1bGxSZXF1ZXN0MTk4NDE2MjE1', 'PR_kwDOCbx7y85BfQrO', 'MDExOlB1bGxSZXF1ZXN0MzM5NjY1ODUy', 'dantuck', 'MDExOlB1bGxSZXF1ZXN0MzgyMTI1OTI=', 'PR_kwDOC60iJ85KdgRL', 'PR_kwDOEn0m9c5G29C5', 'MDExOlB1bGxSZXF1ZXN0MzEyOTkyNDEx', 'franz-josef-kaiser', 'angulardart', 'SleepyGemmy', 'PR_kwDOAOvK985Kyll6', 'PR_kwDOAOvK985KeW2W', 'MDExOlB1bGxSZXF1ZXN0NjUzMTkyMTEz', 'MDExOlB1bGxSZXF1ZXN0MjE3NjYxNjYz', 'PR_kwDODImkh85KmuOx', 'MDExOlB1bGxSZXF1ZXN0MTM5ODYwMQ==', 'PR_kwDODImkh85Km5Vm', 'dingjianjaja', 'nnhuynh306', 'PR_kwDOCmABf85CSqVO', 'ramanandapanda', 'Pecka-', 'MDExOlB1bGxSZXF1ZXN0NTUzMTkyMzQ=', 'yaBliznyk', 'kranfix', 'MDExOlB1bGxSZXF1ZXN0MjEzMTI4ODYz', 'PR_kwDOFJ2Wxc5F0ZwC', 'MDExOlB1bGxSZXF1ZXN0Mjg0MDU1NTEw', 'PR_kwDOCN0vV85Av3RP', 'PR_kwDOBxkPxM4-1VoO', 'MDExOlB1bGxSZXF1ZXN0MjM2NTkzNDQ0', 'pohly', 'PR_kwDOAuI0Q85Kkt70', 'PR_kwDOCoLqPs5JXpex', 'MDExOlB1bGxSZXF1ZXN0MjI4OTUxMDAx', 'edgurgel', 'conradfr', 'MDExOlB1bGxSZXF1ZXN0MjY0MTE3ODQ0', 'simonmcconnell', 'PR_kwDOAUaUA85KpHpf', 'Darlantanis', 'PR_kwDOFH1TQM41A2ll', 'Ankirama', 'PR_kwDOBXw_2M5FwmyZ', 'PR_kwDOAocbZM5LMcBj', 'renatoaguiar', 'PR_kwDOAPkmNc5GfZGQ', 'MDExOlB1bGxSZXF1ZXN0MzgwNzA1NDc=', 'Glen-Cocoa', 'hexpm', 'ZeusF1', 'PR_kwDOCXi6sc5K5rUK', 'mgwidmann', 'tribe-health', 'TheBrightDawn', 'dolanmiu', 'PR_kwDODTPDpc43disc', 'PR_kwDODTUYG85KWo7g', 'jparise', 'MDExOlB1bGxSZXF1ZXN0Mzc0Nzc2MDM2', 'halostatue', 'toraritte', 'BlackOtton', 'PragTob', 'efcasado', 'PR_kwDOAhDtqM5CvMfu', '2trde', 'ottolin', 'PR_kwDOAxWqv85JnX8d', 'PR_kwDOAP-f7M5JyXZ7', 'MDExOlB1bGxSZXF1ZXN0NjE1OTgzODc1', 'adelarsq', 'MDExOlB1bGxSZXF1ZXN0MTI4MjQ4Nzg=', 'MDExOlB1bGxSZXF1ZXN0MTAxNTk3MTA4', 'maetl', 'PR_kwDOApPmB846Pes7', 'aef-', 'PR_kwDOAQ6CpM5KOar9', 'PR_kwDOA1SD6s5KSJyQ', 'PR_kwDODuCr5M5Id13X', 'MDExOlB1bGxSZXF1ZXN0MTYzODA3NjI3', 'MDExOlB1bGxSZXF1ZXN0MjAxOTc3MTM=', 'polvalente', 'RafaRuiz', 'brechtvl', 'MDExOlB1bGxSZXF1ZXN0NDM1OTEzNTc5', 'sodapopcan', 'PR_kwDOAytatM5BLguJ', 'MDExOlB1bGxSZXF1ZXN0Mjc0OTQ1MzA5', 'dnfield', 'NoraHowlett', 'cbrunsdon', 'PR_kwDOBhDmg84zNlxk', 'PR_kwDOFePSa85KX77J', 'PR_kwDOAHVdb85Kpeod', 'PR_kwDOBm1m8M5K0AA3', 'MDExOlB1bGxSZXF1ZXN0Mjc3MzYzMTI=', 'Quantum-M', 'white-hat-vaibhs', 'MDExOlB1bGxSZXF1ZXN0MzgwNzI5MjQx', 'antedeguemon', 'hasenbalg', 'DaniruKun', 'MDExOlB1bGxSZXF1ZXN0MzYzNTEwMjc1', 'angelo-moreira', 'jorwan', 'nandajavarma', 'PR_kwDOBZAuTs42OKKV', 'cybrox', 'PR_kwDOAxWqv85Ivprv', 'famedly', 'smanolloff', 'KillianKirilenko', 'Trevoke', 'aouahib', 'johnhamelink', 'grimreaperLinux', 'PR_kwDOA1SD6s5KwP4O', 'junegunn', 'jamesblasco', 'rubas', 'PR_kwDOAY4k_85CG_ag', 'PR_kwDOAUivl85F-WnZ', 'marcdel', 'PR_kwDOB-PfJM5KxJ9B', 'PR_kwDOADFcq85LADrL', 'PR_kwDOE9VgC85GdWi4', 'Meltyas', 'cmcaine', 'PR_kwDOCkih2M5B0sUZ', 'aesmail', 'MDExOlB1bGxSZXF1ZXN0NTEwODA4MTA4', 'MDExOlB1bGxSZXF1ZXN0NjMwMjMwODA3', 'greg-rychlewski', 'matthusby', 'PR_kwDOADFcq85LFpYV', 'PR_kwDOCU-Ts847qd3l', 'MDExOlB1bGxSZXF1ZXN0MjAxNDkyMjg0', 'PR_kwDOAKqaj85LEr7o', 'PR_kwDOBFHeo85Gq9M6', 'kristiansvalland', 'oiiakm', 'juliansteenbakker', 'MDExOlB1bGxSZXF1ZXN0MjE1ODM0NTI5']\n",
      "Edges:  [('omarismail', '9527001'), ('omarismail', 'maetl'), ('omarismail', 'aesmail'), ('omarismail', 'johnhamelink'), ('9527001', 'antedeguemon'), ('9527001', 'marcdel'), ('9527001', 'aesmail'), ('9527001', 'matthusby'), ('Flutteror', 'MDExOlB1bGxSZXF1ZXN0MjI4OTUxMDAx'), ('happysalada', 'DaniruKun'), ('happysalada', 'ottolin'), ('Pierre-Monier', 'jamesblasco'), ('Pierre-Monier', 'juliansteenbakker'), ('Pierre-Monier', 'edwingeng'), ('Pierre-Monier', 'junegunn'), ('iamsahilsonawane', 'jamesblasco'), ('iamsahilsonawane', 'kranfix'), ('iamsahilsonawane', 'Ankirama'), ('iamsahilsonawane', 'kangxuan'), ('aojea', 'yaBliznyk'), ('aojea', 'kangxuan'), ('mhanberg', 'simonmcconnell'), ('ByeongUkChoi', 'rubas'), ('ByeongUkChoi', 'williamweckl'), ('ByeongUkChoi', 'marcdel'), ('ByeongUkChoi', 'aesmail'), ('ByeongUkChoi', 'mgwidmann'), ('ByeongUkChoi', 'yaBliznyk'), ('edwingeng', 'halostatue'), ('edwingeng', 'jparise'), ('edwingeng', 'Ankirama'), ('edwingeng', 'angelo-moreira'), ('edwingeng', 'junegunn'), ('williamweckl', 'rubas'), ('williamweckl', 'marcdel'), ('williamweckl', 'aesmail'), ('kangxuan', 'kranfix'), ('dantuck', 'marcdel'), ('dantuck', 'efcasado'), ('dantuck', 'simonmcconnell'), ('nnhuynh306', 'PR_kwDOBXw_2M5FwmyZ'), ('yaBliznyk', 'rubas'), ('yaBliznyk', 'marcdel'), ('yaBliznyk', 'aesmail'), ('yaBliznyk', 'smanolloff'), ('yaBliznyk', 'mgwidmann'), ('edgurgel', 'rubas'), ('edgurgel', 'aef-'), ('edgurgel', 'sodapopcan'), ('edgurgel', 'aesmail'), ('edgurgel', 'matthusby'), ('simonmcconnell', 'rubas'), ('simonmcconnell', 'efcasado'), ('simonmcconnell', 'renatoaguiar'), ('Glen-Cocoa', 'kristiansvalland'), ('mgwidmann', 'rubas'), ('mgwidmann', 'sodapopcan'), ('mgwidmann', 'marcdel'), ('mgwidmann', 'efcasado'), ('mgwidmann', 'aesmail'), ('dolanmiu', 'DaniruKun'), ('dolanmiu', 'adelarsq'), ('jparise', 'DaniruKun'), ('halostatue', 'aesmail'), ('halostatue', 'junegunn'), ('PragTob', 'aef-'), ('PragTob', 'polvalente'), ('PragTob', 'ottolin'), ('PragTob', 'aesmail'), ('efcasado', 'marcdel'), ('efcasado', 'Trevoke'), ('efcasado', 'matthusby'), ('ottolin', 'polvalente'), ('maetl', 'aesmail'), ('sodapopcan', 'aesmail'), ('antedeguemon', 'marcdel'), ('antedeguemon', 'matthusby'), ('angelo-moreira', 'kristiansvalland'), ('nandajavarma', 'cybrox'), ('cybrox', 'juliansteenbakker'), ('smanolloff', 'aesmail'), ('Trevoke', 'aesmail'), ('rubas', 'marcdel'), ('rubas', 'aesmail'), ('marcdel', 'aesmail'), ('marcdel', 'matthusby')]\n"
     ]
    }
   ],
   "source": [
    "# Specify the number of nodes to randomly select\n",
    "num_nodes_to_select = 100\n",
    "\n",
    "# Randomly select nodes from G\n",
    "nodes_to_takeU = random.sample(list(usersC), num_nodes_to_select)\n",
    "nodes_to_takeI= random.sample(list(issuesC), num_nodes_to_select)\n",
    "# Get the nodes to take using slicing\n",
    "\n",
    "\n",
    "nodes_to_take=nodes_to_takeU+nodes_to_takeI\n",
    "# Take the subgraph of the nodes and their edges\n",
    "C_sub = C.subgraph(nodes_to_take)\n",
    "\n",
    "# Print the nodes and edges of the subgraph\n",
    "print(\"Nodes: \", C_sub.nodes())\n",
    "print(\"Edges: \", C_sub.edges())\n",
    "\n",
    "# n = 10100\n",
    "\n",
    "# # Get the nodes to remove using slicing\n",
    "# nodes_to_remove = list(C.nodes())[-n:]\n",
    "\n",
    "# # Remove the nodes and their edges from the graph\n",
    "# C.remove_nodes_from(nodes_to_remove)\n",
    "\n",
    "# # Print the nodes and edges of the modified graph\n",
    "# print(\"Nodes: \", C.nodes())\n",
    "# print(\"Edges: \", C.edges())\n"
   ]
  },
  {
   "cell_type": "code",
   "execution_count": 31,
   "metadata": {},
   "outputs": [
    {
     "name": "stdout",
     "output_type": "stream",
     "text": [
      "Graph with 200 nodes and 86 edges\n"
     ]
    }
   ],
   "source": [
    "print(C_sub)"
   ]
  },
  {
   "cell_type": "code",
   "execution_count": 23,
   "metadata": {},
   "outputs": [
    {
     "ename": "TypeError",
     "evalue": "Population must be a sequence.  For dicts or sets, use sorted(d).",
     "output_type": "error",
     "traceback": [
      "\u001b[1;31m---------------------------------------------------------------------------\u001b[0m",
      "\u001b[1;31mTypeError\u001b[0m                                 Traceback (most recent call last)",
      "Cell \u001b[1;32mIn[23], line 8\u001b[0m\n\u001b[0;32m      5\u001b[0m num_elements_to_select \u001b[39m=\u001b[39m \u001b[39m50\u001b[39m\n\u001b[0;32m      7\u001b[0m \u001b[39m# Use random.sample() to randomly select elements from the set\u001b[39;00m\n\u001b[1;32m----> 8\u001b[0m nodes_to_takeU \u001b[39m=\u001b[39m random\u001b[39m.\u001b[39;49msample(setA, num_elements_to_select)\n\u001b[0;32m      9\u001b[0m nodes_to_takeI \u001b[39m=\u001b[39m random\u001b[39m.\u001b[39msample(setB, num_elements_to_select)\n\u001b[0;32m     11\u001b[0m \u001b[39mprint\u001b[39m(\u001b[39m\"\u001b[39m\u001b[39mRandomly selected elements:\u001b[39m\u001b[39m\"\u001b[39m, nodes_to_takeU)\n",
      "File \u001b[1;32mc:\\Users\\Lenovo\\AppData\\Local\\Programs\\Python\\Python311\\Lib\\random.py:436\u001b[0m, in \u001b[0;36mRandom.sample\u001b[1;34m(self, population, k, counts)\u001b[0m\n\u001b[0;32m    412\u001b[0m \u001b[39m# Sampling without replacement entails tracking either potential\u001b[39;00m\n\u001b[0;32m    413\u001b[0m \u001b[39m# selections (the pool) in a list or previous selections in a set.\u001b[39;00m\n\u001b[0;32m    414\u001b[0m \n\u001b[1;32m   (...)\u001b[0m\n\u001b[0;32m    432\u001b[0m \u001b[39m# too many calls to _randbelow(), making them slower and\u001b[39;00m\n\u001b[0;32m    433\u001b[0m \u001b[39m# causing them to eat more entropy than necessary.\u001b[39;00m\n\u001b[0;32m    435\u001b[0m \u001b[39mif\u001b[39;00m \u001b[39mnot\u001b[39;00m \u001b[39misinstance\u001b[39m(population, _Sequence):\n\u001b[1;32m--> 436\u001b[0m     \u001b[39mraise\u001b[39;00m \u001b[39mTypeError\u001b[39;00m(\u001b[39m\"\u001b[39m\u001b[39mPopulation must be a sequence.  \u001b[39m\u001b[39m\"\u001b[39m\n\u001b[0;32m    437\u001b[0m                     \u001b[39m\"\u001b[39m\u001b[39mFor dicts or sets, use sorted(d).\u001b[39m\u001b[39m\"\u001b[39m)\n\u001b[0;32m    438\u001b[0m n \u001b[39m=\u001b[39m \u001b[39mlen\u001b[39m(population)\n\u001b[0;32m    439\u001b[0m \u001b[39mif\u001b[39;00m counts \u001b[39mis\u001b[39;00m \u001b[39mnot\u001b[39;00m \u001b[39mNone\u001b[39;00m:\n",
      "\u001b[1;31mTypeError\u001b[0m: Population must be a sequence.  For dicts or sets, use sorted(d)."
     ]
    }
   ],
   "source": [
    "\n",
    "# nodes_to_takeU=set()\n",
    "# nodes_to_takeI=set()\n",
    "\n",
    "# Specify the number of elements to randomly select\n",
    "num_elements_to_select = 50\n",
    "\n",
    "# Use random.sample() to randomly select elements from the set\n",
    "nodes_to_takeU = random.sample(setA, num_elements_to_select)\n",
    "nodes_to_takeI = random.sample(setB, num_elements_to_select)\n",
    "\n",
    "print(\"Randomly selected elements:\", nodes_to_takeU)\n",
    "\n"
   ]
  },
  {
   "cell_type": "code",
   "execution_count": 10,
   "metadata": {},
   "outputs": [],
   "source": [
    "def weighted_projected_graph(B, nodesU,nodesI, weight_function=None):\n",
    "    # Create a new graph for the weighted projection\n",
    "    W = nx.Graph()\n",
    "\n",
    "    # Get the nodes from one bipartite node set\n",
    "    # if nodes is None:\n",
    "    #     nodes = set(B)\n",
    "\n",
    "    # Get the weights for the nodes\n",
    "    if weight_function is None:\n",
    "        weight_function = lambda x, y, r: len(r)\n",
    "\n",
    "    # For each pair of nodes in the same bipartite node set\n",
    "    for u in nodesU:\n",
    "        for v in nodesI:\n",
    "            # if u == v:\n",
    "            #     continue\n",
    "            neighbors_u = set(B[u])\n",
    "            neighbors_v = set(B[v])\n",
    "\n",
    "            # Find the shared neighbors of u and v\n",
    "            shared_neighbors = neighbors_u & neighbors_v\n",
    "\n",
    "            # Calculate the similarity probability\n",
    "            weight = weight_function(u, v, shared_neighbors)\n",
    "\n",
    "            # Add the weighted edge to the new graph\n",
    "            if weight > 0:\n",
    "                W.add_edge(u, v, weight=weight)\n",
    "\n",
    "    return W"
   ]
  },
  {
   "cell_type": "code",
   "execution_count": 11,
   "metadata": {},
   "outputs": [
    {
     "name": "stdout",
     "output_type": "stream",
     "text": [
      "[('beckend', 'MDExOlB1bGxSZXF1ZXN0OTk4MjYwNzE=', {'weight': 1}), ('MDExOlB1bGxSZXF1ZXN0OTk4MjYwNzE=', 'bfolkens', {'weight': 1}), ('MDExOlB1bGxSZXF1ZXN0OTk4MjYwNzE=', 'bruno-delfino1995', {'weight': 1})]\n"
     ]
    }
   ],
   "source": [
    "# Define a weight function for the shared neighbors\n",
    "def weight_function(u, v, shared_neighbors):\n",
    "    return len(shared_neighbors)\n",
    "\n",
    "# Call the weighted_projected_graph function with the bipartite graph and the weight function\n",
    "# W = weighted_projected_graph(C_sub, nodes=C_sub.nodes, weight_function=weight_function)\n",
    "W = weighted_projected_graph(C_sub, nodes_to_takeU,nodes_to_takeI, weight_function=weight_function)\n",
    "\n",
    "# Print the weighted projected graph\n",
    "print(W.edges(data=True))"
   ]
  },
  {
   "cell_type": "code",
   "execution_count": 7,
   "metadata": {},
   "outputs": [
    {
     "name": "stdout",
     "output_type": "stream",
     "text": [
      "{'lapce': 0.3466666666666666, 'PR_kwDOBy2NM85LQJYb': 0.4166666666666665, 'PR_kwDOBy2NM85LAawJ': 0.4166666666666666, 'PR_kwDOBy2NM85K9kR7': 0.2619047619047619, 'PR_kwDOBy2NM85K9bUt': 0.8452380952380951, 'PR_kwDOBy2NM85JlbVF': 0.8452380952380951, 'PR_kwDOBy2NM85Jg1hg': 0.8452380952380951, 'PR_kwDOBy2NM85Jeo7e': 0.8452380952380951, 'PR_kwDOBy2NM85JX6tb': 0.8452380952380951, 'PR_kwDOBy2NM85JSYCA': 0.8452380952380951, 'PR_kwDOBy2NM85JKB2s': 0.8452380952380951, 'PR_kwDOBy2NM85JIddY': 0.8452380952380951, 'PR_kwDOBy2NM85I_fpj': 0.8452380952380951, 'PR_kwDOBy2NM85I9VzR': 0.8452380952380951, 'PR_kwDOBy2NM85I5ljj': 0.8452380952380951, 'PR_kwDOBy2NM85IwBBx': 0.8452380952380951, 'lucalewin': 0.29333333333333333, 'SirNiklax': 0.6666666666666667, 'hbina': 0.6666666666666667, 'rezaxdi': 0.6666666666666667, 'tk103331': 0.6666666666666667, 'ChristianKleineidam': 0.2472527472527473, 'PR_kwDOAiEj5s5K4pqq': 0.3314285714285714, 'PR_kwDOAiEj5s5Kizdg': 0.4249523809523811, 'PR_kwDOAiEj5s5J6Tvx': 0.4585567765567765, 'PR_kwDOAiEj5s5JxS2s': 0.3033608058608059, 'PR_kwDOAiEj5s5JN1-j': 0.276923076923077, 'PR_kwDOAiEj5s5JJcOU': 0.27692307692307694, 'PR_kwDOAiEj5s5JD2-k': 0.6577582417582417, 'PR_kwDOAiEj5s5I8Uyb': 0.6577582417582417, 'PR_kwDOAiEj5s5Iv2_6': 0.7337948717948717, 'PR_kwDOAiEj5s5IrRRF': 0.6577582417582417, 'PR_kwDOAiEj5s5IKBXF': 0.6577582417582417, 'PR_kwDOAiEj5s5HqBir': 0.7337948717948717, 'PR_kwDOAiEj5s5HmJdh': 0.7337948717948717, 'PR_kwDOAiEj5s5HPd6W': 0.7337948717948717, 'PR_kwDOAiEj5s5G1vzM': 0.7337948717948717, 'PR_kwDOAiEj5s5G1vI5': 0.7337948717948717, 'PR_kwDOAiEj5s5G1usj': 0.7337948717948717, 'PR_kwDOAiEj5s5G03Ln': 0.7337948717948717, 'PR_kwDOAiEj5s5G02na': 0.7337948717948717, 'PR_kwDOAiEj5s5Gmg4o': 0.7337948717948717, 'PR_kwDOAiEj5s5Gjg5B': 0.7337948717948717, 'dart-lang': 0.23976331360946748, 'MDExOlB1bGxSZXF1ZXN0MzgzMzE2NDY1': 0.6010149572649571, 'MDExOlB1bGxSZXF1ZXN0Mzc3ODA3Njcy': 0.6010149572649571, 'MDExOlB1bGxSZXF1ZXN0MzczMTg1MjI5': 0.6010149572649571, 'MDExOlB1bGxSZXF1ZXN0MzYxODc0OTgw': 0.6010149572649571, 'MDExOlB1bGxSZXF1ZXN0MzYxMjIzNzUx': 0.6010149572649571, 'stuartmorgan': 0.2764910303371842, 'ntkme': 0.2373076923076923, 'bytes7bytes7': 0.23428571428571432, 'anujcontractor': 0.5490659340659341, 'jsoref': 0.5051648351648352, 'beesaferoot': 0.5051648351648352, 'xiaoxiaowesley': 0.5490659340659341, 'cpswan': 0.5490659340659341, 'mono0926': 0.5400661375661375, 'brianegan': 0.5400661375661375, 'rrousselGit': 0.5400661375661375, 'GIfatahTH': 0.5400661375661375}\n"
     ]
    }
   ],
   "source": [
    "clustering_coefficients = nx.bipartite.cluster.clustering(W)\n",
    "print(clustering_coefficients)"
   ]
  },
  {
   "cell_type": "code",
   "execution_count": 41,
   "metadata": {},
   "outputs": [],
   "source": [
    "def katz_bipartite_link_prediction(G, alpha, beta, nodeset1=None, nodeset2=None):\n",
    "    \"\"\"\n",
    "    Computes Katz similarity index for all node pairs in a bipartite graph.\n",
    "    \n",
    "    Args:\n",
    "    G (nx.Graph): A bipartite graph\n",
    "    alpha (float): The attenuation parameter\n",
    "    beta (float): The maximum path length\n",
    "    nodeset1 (list): Optional list of nodes in the first node set\n",
    "    nodeset2 (list): Optional list of nodes in the second node set\n",
    "    \n",
    "    Returns:\n",
    "    katz (dict): A dictionary of (node1, node2) pairs and their corresponding Katz similarity index\n",
    "    \"\"\"\n",
    "    if nodeset1 is None:\n",
    "        nodeset1 = [n for n,d in G.nodes(data=True) if d['bipartite']==0]\n",
    "    if nodeset2 is None:\n",
    "        nodeset2 = [n for n,d in G.nodes(data=True) if d['bipartite']==1]\n",
    "        \n",
    "    A = nx.bipartite.biadjacency_matrix(G, row_order=nodeset1, column_order=nodeset2)\n",
    "    n1, n2 = A.shape\n",
    "    I1 = np.eye(n1)\n",
    "    I2 = np.eye(n2)\n",
    "    \n",
    "    # Compute the Katz similarity index\n",
    "    katz = {}\n",
    "    for i, u in enumerate(nodeset1):\n",
    "        for j, v in enumerate(nodeset2):\n",
    "            M = np.linalg.inv(I1 - alpha * A.T) @ np.linalg.inv(I2 - alpha * A) - I1 - I2\n",
    "            katz[(u, v)] = np.sum(beta ** k * M[i, j] for k in range(1, int(beta) + 1))\n",
    "            \n",
    "    return katz\n"
   ]
  },
  {
   "cell_type": "code",
   "execution_count": 46,
   "metadata": {},
   "outputs": [
    {
     "ename": "ValueError",
     "evalue": "operands could not be broadcast together with remapped shapes [original->remapped]: (3126,3126)  and requested shape (8280,3126)",
     "output_type": "error",
     "traceback": [
      "\u001b[1;31m---------------------------------------------------------------------------\u001b[0m",
      "\u001b[1;31mValueError\u001b[0m                                Traceback (most recent call last)",
      "Cell \u001b[1;32mIn[46], line 2\u001b[0m\n\u001b[0;32m      1\u001b[0m \u001b[39m# Compute Katz similarity index\u001b[39;00m\n\u001b[1;32m----> 2\u001b[0m katz \u001b[39m=\u001b[39m katz_bipartite_link_prediction(B, \u001b[39m0.1\u001b[39;49m, \u001b[39m3\u001b[39;49m)\n\u001b[0;32m      4\u001b[0m \u001b[39m# Print the Katz similarity index\u001b[39;00m\n\u001b[0;32m      5\u001b[0m \u001b[39mfor\u001b[39;00m (u, v), sim \u001b[39min\u001b[39;00m katz\u001b[39m.\u001b[39mitems():\n",
      "Cell \u001b[1;32mIn[41], line 29\u001b[0m, in \u001b[0;36mkatz_bipartite_link_prediction\u001b[1;34m(G, alpha, beta, nodeset1, nodeset2)\u001b[0m\n\u001b[0;32m     27\u001b[0m \u001b[39mfor\u001b[39;00m i, u \u001b[39min\u001b[39;00m \u001b[39menumerate\u001b[39m(nodeset1):\n\u001b[0;32m     28\u001b[0m     \u001b[39mfor\u001b[39;00m j, v \u001b[39min\u001b[39;00m \u001b[39menumerate\u001b[39m(nodeset2):\n\u001b[1;32m---> 29\u001b[0m         M \u001b[39m=\u001b[39m np\u001b[39m.\u001b[39mlinalg\u001b[39m.\u001b[39minv(I1 \u001b[39m-\u001b[39;49m alpha \u001b[39m*\u001b[39;49m A\u001b[39m.\u001b[39;49mT) \u001b[39m@\u001b[39m np\u001b[39m.\u001b[39mlinalg\u001b[39m.\u001b[39minv(I2 \u001b[39m-\u001b[39m alpha \u001b[39m*\u001b[39m A) \u001b[39m-\u001b[39m I1 \u001b[39m-\u001b[39m I2\n\u001b[0;32m     30\u001b[0m         katz[(u, v)] \u001b[39m=\u001b[39m np\u001b[39m.\u001b[39msum(beta \u001b[39m*\u001b[39m\u001b[39m*\u001b[39m k \u001b[39m*\u001b[39m M[i, j] \u001b[39mfor\u001b[39;00m k \u001b[39min\u001b[39;00m \u001b[39mrange\u001b[39m(\u001b[39m1\u001b[39m, \u001b[39mint\u001b[39m(beta) \u001b[39m+\u001b[39m \u001b[39m1\u001b[39m))\n\u001b[0;32m     32\u001b[0m \u001b[39mreturn\u001b[39;00m katz\n",
      "File \u001b[1;32mc:\\Users\\Lenovo\\AppData\\Local\\Programs\\Python\\Python311\\Lib\\site-packages\\scipy\\sparse\\_base.py:505\u001b[0m, in \u001b[0;36mspmatrix.__rsub__\u001b[1;34m(self, other)\u001b[0m\n\u001b[0;32m    502\u001b[0m     \u001b[39mraise\u001b[39;00m \u001b[39mNotImplementedError\u001b[39;00m(\u001b[39m'\u001b[39m\u001b[39msubtracting a sparse matrix from a \u001b[39m\u001b[39m'\u001b[39m\n\u001b[0;32m    503\u001b[0m                               \u001b[39m'\u001b[39m\u001b[39mnonzero scalar is not supported\u001b[39m\u001b[39m'\u001b[39m)\n\u001b[0;32m    504\u001b[0m \u001b[39melif\u001b[39;00m isdense(other):\n\u001b[1;32m--> 505\u001b[0m     other \u001b[39m=\u001b[39m np\u001b[39m.\u001b[39;49mbroadcast_to(other, \u001b[39mself\u001b[39;49m\u001b[39m.\u001b[39;49mshape)\n\u001b[0;32m    506\u001b[0m     \u001b[39mreturn\u001b[39;00m \u001b[39mself\u001b[39m\u001b[39m.\u001b[39m_rsub_dense(other)\n\u001b[0;32m    507\u001b[0m \u001b[39melse\u001b[39;00m:\n",
      "File \u001b[1;32m<__array_function__ internals>:200\u001b[0m, in \u001b[0;36mbroadcast_to\u001b[1;34m(*args, **kwargs)\u001b[0m\n",
      "File \u001b[1;32mc:\\Users\\Lenovo\\AppData\\Local\\Programs\\Python\\Python311\\Lib\\site-packages\\numpy\\lib\\stride_tricks.py:413\u001b[0m, in \u001b[0;36mbroadcast_to\u001b[1;34m(array, shape, subok)\u001b[0m\n\u001b[0;32m    367\u001b[0m \u001b[39m@array_function_dispatch\u001b[39m(_broadcast_to_dispatcher, module\u001b[39m=\u001b[39m\u001b[39m'\u001b[39m\u001b[39mnumpy\u001b[39m\u001b[39m'\u001b[39m)\n\u001b[0;32m    368\u001b[0m \u001b[39mdef\u001b[39;00m \u001b[39mbroadcast_to\u001b[39m(array, shape, subok\u001b[39m=\u001b[39m\u001b[39mFalse\u001b[39;00m):\n\u001b[0;32m    369\u001b[0m \u001b[39m    \u001b[39m\u001b[39m\"\"\"Broadcast an array to a new shape.\u001b[39;00m\n\u001b[0;32m    370\u001b[0m \n\u001b[0;32m    371\u001b[0m \u001b[39m    Parameters\u001b[39;00m\n\u001b[1;32m   (...)\u001b[0m\n\u001b[0;32m    411\u001b[0m \u001b[39m           [1, 2, 3]])\u001b[39;00m\n\u001b[0;32m    412\u001b[0m \u001b[39m    \"\"\"\u001b[39;00m\n\u001b[1;32m--> 413\u001b[0m     \u001b[39mreturn\u001b[39;00m _broadcast_to(array, shape, subok\u001b[39m=\u001b[39;49msubok, readonly\u001b[39m=\u001b[39;49m\u001b[39mTrue\u001b[39;49;00m)\n",
      "File \u001b[1;32mc:\\Users\\Lenovo\\AppData\\Local\\Programs\\Python\\Python311\\Lib\\site-packages\\numpy\\lib\\stride_tricks.py:349\u001b[0m, in \u001b[0;36m_broadcast_to\u001b[1;34m(array, shape, subok, readonly)\u001b[0m\n\u001b[0;32m    346\u001b[0m     \u001b[39mraise\u001b[39;00m \u001b[39mValueError\u001b[39;00m(\u001b[39m'\u001b[39m\u001b[39mall elements of broadcast shape must be non-\u001b[39m\u001b[39m'\u001b[39m\n\u001b[0;32m    347\u001b[0m                      \u001b[39m'\u001b[39m\u001b[39mnegative\u001b[39m\u001b[39m'\u001b[39m)\n\u001b[0;32m    348\u001b[0m extras \u001b[39m=\u001b[39m []\n\u001b[1;32m--> 349\u001b[0m it \u001b[39m=\u001b[39m np\u001b[39m.\u001b[39;49mnditer(\n\u001b[0;32m    350\u001b[0m     (array,), flags\u001b[39m=\u001b[39;49m[\u001b[39m'\u001b[39;49m\u001b[39mmulti_index\u001b[39;49m\u001b[39m'\u001b[39;49m, \u001b[39m'\u001b[39;49m\u001b[39mrefs_ok\u001b[39;49m\u001b[39m'\u001b[39;49m, \u001b[39m'\u001b[39;49m\u001b[39mzerosize_ok\u001b[39;49m\u001b[39m'\u001b[39;49m] \u001b[39m+\u001b[39;49m extras,\n\u001b[0;32m    351\u001b[0m     op_flags\u001b[39m=\u001b[39;49m[\u001b[39m'\u001b[39;49m\u001b[39mreadonly\u001b[39;49m\u001b[39m'\u001b[39;49m], itershape\u001b[39m=\u001b[39;49mshape, order\u001b[39m=\u001b[39;49m\u001b[39m'\u001b[39;49m\u001b[39mC\u001b[39;49m\u001b[39m'\u001b[39;49m)\n\u001b[0;32m    352\u001b[0m \u001b[39mwith\u001b[39;00m it:\n\u001b[0;32m    353\u001b[0m     \u001b[39m# never really has writebackifcopy semantics\u001b[39;00m\n\u001b[0;32m    354\u001b[0m     broadcast \u001b[39m=\u001b[39m it\u001b[39m.\u001b[39mitviews[\u001b[39m0\u001b[39m]\n",
      "\u001b[1;31mValueError\u001b[0m: operands could not be broadcast together with remapped shapes [original->remapped]: (3126,3126)  and requested shape (8280,3126)"
     ]
    }
   ],
   "source": [
    "# Compute Katz similarity index\n",
    "katz = katz_bipartite_link_prediction(B, 0.1, 3)\n",
    "\n",
    "# Print the Katz similarity index\n",
    "for (u, v), sim in katz.items():\n",
    "    print(f\"({u}, {v}): {sim}\")"
   ]
  },
  {
   "cell_type": "code",
   "execution_count": 5,
   "metadata": {},
   "outputs": [],
   "source": [
    "def common_neighbor_index(G, source_nodes, target_nodes):\n",
    "    \"\"\"\n",
    "    Calculates the common neighbor index for all pairs of nodes in a bipartite graph.\n",
    "\n",
    "    Parameters:\n",
    "    G (networkx.Graph): the input bipartite graph\n",
    "    source_nodes (list): a list of nodes in the first partition\n",
    "    target_nodes (list): a list of nodes in the second partition\n",
    "\n",
    "    Returns:\n",
    "    cn (dict): a dictionary containing the common neighbor index for all pairs of nodes\n",
    "    \"\"\"\n",
    "    cn = {}\n",
    "    for source_node in source_nodes:\n",
    "        for target_node in target_nodes:\n",
    "            neighbors_source = set(G.neighbors(source_node))\n",
    "            neighbors_target = set(G.neighbors(target_node))\n",
    "            common_neighbors = neighbors_source.intersection(neighbors_target)\n",
    "            cn[(source_node, target_node)] = len(common_neighbors)\n",
    "    return cn\n",
    "\n",
    "# Example usage\n",
    "def common_neighbor_index(G, source_nodes, target_nodes):\n",
    "    \"\"\"\n",
    "    Calculates the common neighbor index for all pairs of nodes in a bipartite graph.\n",
    "\n",
    "    Parameters:\n",
    "    G (networkx.Graph): the input bipartite graph\n",
    "    source_nodes (list): a list of nodes in the first partition\n",
    "    target_nodes (list): a list of nodes in the second partition\n",
    "\n",
    "    Returns:\n",
    "    cn (dict): a dictionary containing the common neighbor index for all pairs of nodes\n",
    "    \"\"\"\n",
    "    cn = {}\n",
    "    for source_node in source_nodes:\n",
    "        for target_node in target_nodes:\n",
    "            neighbors_source = set(G.neighbors(source_node))\n",
    "            neighbors_target = set(G.neighbors(target_node))\n",
    "            common_neighbors = neighbors_source.intersection(neighbors_target)\n",
    "            cn[(source_node, target_node)] = len(common_neighbors)\n",
    "    return cn\n",
    "\n",
    "# Example usage\n",
    "G = nx.Graph()\n",
    "G=B\n",
    "source_nodes = [n for n in G.nodes if G.nodes[n]['bipartite'] == 0]\n",
    "target_nodes = [n for n in G.nodes if G.nodes[n]['bipartite'] == 1]\n",
    "cn = common_neighbor_index(G, source_nodes, target_nodes)\n",
    "\n",
    "# Compute similarity scores for each pair of nodes\n",
    "for source_node in source_nodes:\n",
    "    for target_node in target_nodes:\n",
    "        similarity = cn[(source_node, target_node)]\n",
    "        print(f\"Similarity between {source_node} and {target_node}: {similarity}\")\n",
    "source_nodes = [n for n in G.nodes if G.nodes[n]['bipartite'] == 0]\n",
    "target_nodes = [n for n in G.nodes if G.nodes[n]['bipartite'] == 1]\n",
    "cn = common_neighbor_index(G, source_nodes, target_nodes)\n",
    "\n",
    "# Compute similarity scores for each pair of nodes\n",
    "for source_node in source_nodes:\n",
    "    for target_node in target_nodes:\n",
    "        similarity = cn[(source_node, target_node)]\n",
    "        print(f\"Similarity between {source_node} and {target_node}: {similarity}\")"
   ]
  },
  {
   "cell_type": "code",
   "execution_count": 25,
   "metadata": {},
   "outputs": [
    {
     "ename": "ValueError",
     "evalue": "operands could not be broadcast together with remapped shapes [original->remapped]: (200,200)  and requested shape (100,100)",
     "output_type": "error",
     "traceback": [
      "\u001b[1;31m---------------------------------------------------------------------------\u001b[0m",
      "\u001b[1;31mValueError\u001b[0m                                Traceback (most recent call last)",
      "Cell \u001b[1;32mIn[25], line 32\u001b[0m\n\u001b[0;32m     30\u001b[0m source_nodes \u001b[39m=\u001b[39m [n \u001b[39mfor\u001b[39;00m n \u001b[39min\u001b[39;00m G\u001b[39m.\u001b[39mnodes \u001b[39mif\u001b[39;00m G\u001b[39m.\u001b[39mnodes[n][\u001b[39m'\u001b[39m\u001b[39mbipartite\u001b[39m\u001b[39m'\u001b[39m] \u001b[39m==\u001b[39m \u001b[39m0\u001b[39m]\n\u001b[0;32m     31\u001b[0m target_nodes \u001b[39m=\u001b[39m [n \u001b[39mfor\u001b[39;00m n \u001b[39min\u001b[39;00m G\u001b[39m.\u001b[39mnodes \u001b[39mif\u001b[39;00m G\u001b[39m.\u001b[39mnodes[n][\u001b[39m'\u001b[39m\u001b[39mbipartite\u001b[39m\u001b[39m'\u001b[39m] \u001b[39m==\u001b[39m \u001b[39m1\u001b[39m]\n\u001b[1;32m---> 32\u001b[0m katz \u001b[39m=\u001b[39m katz_index(G, alpha\u001b[39m=\u001b[39;49m\u001b[39m0.1\u001b[39;49m, source_nodes\u001b[39m=\u001b[39;49msource_nodes, target_nodes\u001b[39m=\u001b[39;49mtarget_nodes)\n\u001b[0;32m     34\u001b[0m \u001b[39m# Compute similarity scores for each pair of nodes\u001b[39;00m\n\u001b[0;32m     35\u001b[0m \u001b[39m# for source_node in source_nodes:\u001b[39;00m\n\u001b[0;32m     36\u001b[0m \u001b[39m#     for target_node in target_nodes:\u001b[39;00m\n\u001b[0;32m     37\u001b[0m \u001b[39m#         similarity = katz[(source_node, target_node)]\u001b[39;00m\n\u001b[0;32m     38\u001b[0m \u001b[39m#         print(f\"Similarity between {source_node} and {target_node}: {similarity}\")\u001b[39;00m\n",
      "Cell \u001b[1;32mIn[25], line 21\u001b[0m, in \u001b[0;36mkatz_index\u001b[1;34m(G, alpha, source_nodes, target_nodes)\u001b[0m\n\u001b[0;32m     19\u001b[0m n, m \u001b[39m=\u001b[39m A\u001b[39m.\u001b[39mshape\n\u001b[0;32m     20\u001b[0m I \u001b[39m=\u001b[39m np\u001b[39m.\u001b[39meye(n \u001b[39m+\u001b[39m m)\n\u001b[1;32m---> 21\u001b[0m S \u001b[39m=\u001b[39m np\u001b[39m.\u001b[39mlinalg\u001b[39m.\u001b[39minv(I \u001b[39m-\u001b[39;49m alpha \u001b[39m*\u001b[39;49m A) \u001b[39m-\u001b[39m I\n\u001b[0;32m     22\u001b[0m katz \u001b[39m=\u001b[39m {}\n\u001b[0;32m     23\u001b[0m \u001b[39mfor\u001b[39;00m i, source_node \u001b[39min\u001b[39;00m \u001b[39menumerate\u001b[39m(source_nodes):\n",
      "File \u001b[1;32mc:\\Users\\Lenovo\\AppData\\Local\\Programs\\Python\\Python311\\Lib\\site-packages\\scipy\\sparse\\_base.py:505\u001b[0m, in \u001b[0;36mspmatrix.__rsub__\u001b[1;34m(self, other)\u001b[0m\n\u001b[0;32m    502\u001b[0m     \u001b[39mraise\u001b[39;00m \u001b[39mNotImplementedError\u001b[39;00m(\u001b[39m'\u001b[39m\u001b[39msubtracting a sparse matrix from a \u001b[39m\u001b[39m'\u001b[39m\n\u001b[0;32m    503\u001b[0m                               \u001b[39m'\u001b[39m\u001b[39mnonzero scalar is not supported\u001b[39m\u001b[39m'\u001b[39m)\n\u001b[0;32m    504\u001b[0m \u001b[39melif\u001b[39;00m isdense(other):\n\u001b[1;32m--> 505\u001b[0m     other \u001b[39m=\u001b[39m np\u001b[39m.\u001b[39;49mbroadcast_to(other, \u001b[39mself\u001b[39;49m\u001b[39m.\u001b[39;49mshape)\n\u001b[0;32m    506\u001b[0m     \u001b[39mreturn\u001b[39;00m \u001b[39mself\u001b[39m\u001b[39m.\u001b[39m_rsub_dense(other)\n\u001b[0;32m    507\u001b[0m \u001b[39melse\u001b[39;00m:\n",
      "File \u001b[1;32m<__array_function__ internals>:200\u001b[0m, in \u001b[0;36mbroadcast_to\u001b[1;34m(*args, **kwargs)\u001b[0m\n",
      "File \u001b[1;32mc:\\Users\\Lenovo\\AppData\\Local\\Programs\\Python\\Python311\\Lib\\site-packages\\numpy\\lib\\stride_tricks.py:413\u001b[0m, in \u001b[0;36mbroadcast_to\u001b[1;34m(array, shape, subok)\u001b[0m\n\u001b[0;32m    367\u001b[0m \u001b[39m@array_function_dispatch\u001b[39m(_broadcast_to_dispatcher, module\u001b[39m=\u001b[39m\u001b[39m'\u001b[39m\u001b[39mnumpy\u001b[39m\u001b[39m'\u001b[39m)\n\u001b[0;32m    368\u001b[0m \u001b[39mdef\u001b[39;00m \u001b[39mbroadcast_to\u001b[39m(array, shape, subok\u001b[39m=\u001b[39m\u001b[39mFalse\u001b[39;00m):\n\u001b[0;32m    369\u001b[0m \u001b[39m    \u001b[39m\u001b[39m\"\"\"Broadcast an array to a new shape.\u001b[39;00m\n\u001b[0;32m    370\u001b[0m \n\u001b[0;32m    371\u001b[0m \u001b[39m    Parameters\u001b[39;00m\n\u001b[1;32m   (...)\u001b[0m\n\u001b[0;32m    411\u001b[0m \u001b[39m           [1, 2, 3]])\u001b[39;00m\n\u001b[0;32m    412\u001b[0m \u001b[39m    \"\"\"\u001b[39;00m\n\u001b[1;32m--> 413\u001b[0m     \u001b[39mreturn\u001b[39;00m _broadcast_to(array, shape, subok\u001b[39m=\u001b[39;49msubok, readonly\u001b[39m=\u001b[39;49m\u001b[39mTrue\u001b[39;49;00m)\n",
      "File \u001b[1;32mc:\\Users\\Lenovo\\AppData\\Local\\Programs\\Python\\Python311\\Lib\\site-packages\\numpy\\lib\\stride_tricks.py:349\u001b[0m, in \u001b[0;36m_broadcast_to\u001b[1;34m(array, shape, subok, readonly)\u001b[0m\n\u001b[0;32m    346\u001b[0m     \u001b[39mraise\u001b[39;00m \u001b[39mValueError\u001b[39;00m(\u001b[39m'\u001b[39m\u001b[39mall elements of broadcast shape must be non-\u001b[39m\u001b[39m'\u001b[39m\n\u001b[0;32m    347\u001b[0m                      \u001b[39m'\u001b[39m\u001b[39mnegative\u001b[39m\u001b[39m'\u001b[39m)\n\u001b[0;32m    348\u001b[0m extras \u001b[39m=\u001b[39m []\n\u001b[1;32m--> 349\u001b[0m it \u001b[39m=\u001b[39m np\u001b[39m.\u001b[39;49mnditer(\n\u001b[0;32m    350\u001b[0m     (array,), flags\u001b[39m=\u001b[39;49m[\u001b[39m'\u001b[39;49m\u001b[39mmulti_index\u001b[39;49m\u001b[39m'\u001b[39;49m, \u001b[39m'\u001b[39;49m\u001b[39mrefs_ok\u001b[39;49m\u001b[39m'\u001b[39;49m, \u001b[39m'\u001b[39;49m\u001b[39mzerosize_ok\u001b[39;49m\u001b[39m'\u001b[39;49m] \u001b[39m+\u001b[39;49m extras,\n\u001b[0;32m    351\u001b[0m     op_flags\u001b[39m=\u001b[39;49m[\u001b[39m'\u001b[39;49m\u001b[39mreadonly\u001b[39;49m\u001b[39m'\u001b[39;49m], itershape\u001b[39m=\u001b[39;49mshape, order\u001b[39m=\u001b[39;49m\u001b[39m'\u001b[39;49m\u001b[39mC\u001b[39;49m\u001b[39m'\u001b[39;49m)\n\u001b[0;32m    352\u001b[0m \u001b[39mwith\u001b[39;00m it:\n\u001b[0;32m    353\u001b[0m     \u001b[39m# never really has writebackifcopy semantics\u001b[39;00m\n\u001b[0;32m    354\u001b[0m     broadcast \u001b[39m=\u001b[39m it\u001b[39m.\u001b[39mitviews[\u001b[39m0\u001b[39m]\n",
      "\u001b[1;31mValueError\u001b[0m: operands could not be broadcast together with remapped shapes [original->remapped]: (200,200)  and requested shape (100,100)"
     ]
    }
   ],
   "source": [
    "def katz_index(G, alpha, source_nodes, target_nodes):\n",
    "    \"\"\"\n",
    "    Calculates the Katz index for all pairs of nodes in a bipartite graph.\n",
    "\n",
    "    Parameters:\n",
    "    G (networkx.Graph): the input bipartite graph\n",
    "    alpha (float): the damping factor\n",
    "    source_nodes (list): a list of nodes in the first partition\n",
    "    target_nodes (list): a list of nodes in the second partition\n",
    "\n",
    "    Returns:\n",
    "    katz (dict): a dictionary containing the Katz index for all pairs of nodes\n",
    "    \"\"\"\n",
    "    # Remove duplicates from the node lists\n",
    "    source_nodes = list(set(source_nodes))\n",
    "    target_nodes = list(set(target_nodes))\n",
    "    \n",
    "    A = nx.bipartite.matrix.biadjacency_matrix(G, row_order=source_nodes, column_order=target_nodes)\n",
    "    n, m = A.shape\n",
    "    I = np.eye(n + m)\n",
    "    S = np.linalg.inv(I - alpha * A) - I\n",
    "    katz = {}\n",
    "    for i, source_node in enumerate(source_nodes):\n",
    "        for j, target_node in enumerate(target_nodes):\n",
    "            katz[(source_node, target_node)] = np.sum(alpha**k * S[i,j] for k in range(1, np.inf))\n",
    "    return katz\n",
    "\n",
    "# Example usage\n",
    "G=C_sub\n",
    "source_nodes = [n for n in G.nodes if G.nodes[n]['bipartite'] == 0]\n",
    "target_nodes = [n for n in G.nodes if G.nodes[n]['bipartite'] == 1]\n",
    "katz = katz_index(G, alpha=0.1, source_nodes=source_nodes, target_nodes=target_nodes)\n",
    "\n",
    "# Compute similarity scores for each pair of nodes\n",
    "# for source_node in source_nodes:\n",
    "#     for target_node in target_nodes:\n",
    "#         similarity = katz[(source_node, target_node)]\n",
    "#         print(f\"Similarity between {source_node} and {target_node}: {similarity}\")"
   ]
  }
 ],
 "metadata": {
  "kernelspec": {
   "display_name": "Python 3",
   "language": "python",
   "name": "python3"
  },
  "language_info": {
   "codemirror_mode": {
    "name": "ipython",
    "version": 3
   },
   "file_extension": ".py",
   "mimetype": "text/x-python",
   "name": "python",
   "nbconvert_exporter": "python",
   "pygments_lexer": "ipython3",
   "version": "3.11.1"
  },
  "orig_nbformat": 4
 },
 "nbformat": 4,
 "nbformat_minor": 2
}
