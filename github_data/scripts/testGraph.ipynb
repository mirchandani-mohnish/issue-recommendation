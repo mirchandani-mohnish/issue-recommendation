{
 "cells": [
  {
   "cell_type": "code",
   "execution_count": 25,
   "metadata": {},
   "outputs": [],
   "source": [
    "import networkx as nx\n",
    "import random\n"
   ]
  },
  {
   "cell_type": "code",
   "execution_count": 26,
   "metadata": {},
   "outputs": [],
   "source": [
    "G = nx.read_gexf(\"./fullyConnGraph.gexf\")\n",
    "\n",
    "B = G\n",
    "\n",
    "users = [n for n, d in B.nodes(data=True) if d[\"bipartite\"] == 0]\n",
    "issues = [n for n, d in B.nodes(data=True) if d[\"bipartite\"] == 1]\n"
   ]
  },
  {
   "cell_type": "code",
   "execution_count": 27,
   "metadata": {},
   "outputs": [
    {
     "name": "stdout",
     "output_type": "stream",
     "text": [
      "1391375\n",
      "1390375\n"
     ]
    }
   ],
   "source": [
    "ogGph = nx.Graph()\n",
    "\n",
    "issues_subset = random.sample(issues, 1000)\n",
    "\n",
    "print(B.number_of_edges())\n",
    "for i in issues_subset:\n",
    "    for j in list(B.neighbors(i)):\n",
    "    \n",
    "        if B.nodes[j][\"bipartite\"] == 0:\n",
    "            ogGph.add_node(i, bipartite=1)\n",
    "            ogGph.add_node(j, bipartite=0)\n",
    "            ogGph.add_edge(i,j)\n",
    "            B.remove_edge(i,j)\n",
    "print(B.number_of_edges())\n",
    "\n"
   ]
  },
  {
   "cell_type": "code",
   "execution_count": 23,
   "metadata": {},
   "outputs": [],
   "source": [
    "nx.write_gexf(B, \"trainGph.gexf\")\n",
    "nx.write_gexf(ogGph, \"testGph.gexf\")\n"
   ]
  }
 ],
 "metadata": {
  "kernelspec": {
   "display_name": "Python 3",
   "language": "python",
   "name": "python3"
  },
  "language_info": {
   "codemirror_mode": {
    "name": "ipython",
    "version": 3
   },
   "file_extension": ".py",
   "mimetype": "text/x-python",
   "name": "python",
   "nbconvert_exporter": "python",
   "pygments_lexer": "ipython3",
   "version": "3.11.2"
  },
  "orig_nbformat": 4
 },
 "nbformat": 4,
 "nbformat_minor": 2
}
