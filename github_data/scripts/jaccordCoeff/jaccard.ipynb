{
 "cells": [
  {
   "cell_type": "code",
   "execution_count": 32,
   "metadata": {},
   "outputs": [],
   "source": [
    "import networkx as nx\n",
    "import random\n",
    "\n"
   ]
  },
  {
   "cell_type": "code",
   "execution_count": 33,
   "metadata": {},
   "outputs": [],
   "source": [
    "gph = nx.read_gexf(\"./contribConnected.gexf\")"
   ]
  },
  {
   "cell_type": "code",
   "execution_count": 34,
   "metadata": {},
   "outputs": [],
   "source": [
    "B = gph\n",
    "\n",
    "users = [n for n, d in B.nodes(data=True) if d[\"bipartite\"] == 0]\n",
    "issues = [n for n, d in B.nodes(data=True) if d[\"bipartite\"] == 1]"
   ]
  },
  {
   "cell_type": "code",
   "execution_count": 35,
   "metadata": {},
   "outputs": [],
   "source": [
    "def jaccard_coefficient(graph, node1, node2):\n",
    "    neighbors1 = set(graph.neighbors(node1))\n",
    "    neighbors2 = set(graph.neighbors(node2))\n",
    "    intersection = neighbors1.intersection(neighbors2)\n",
    "    union = neighbors1.union(neighbors2)\n",
    "    if len(union) == 0:\n",
    "        return 0\n",
    "    return len(intersection) / len(union)"
   ]
  },
  {
   "cell_type": "code",
   "execution_count": 36,
   "metadata": {},
   "outputs": [],
   "source": [
    "\n",
    "\n",
    "def jaccard_link_prediction(graph, threshold):\n",
    "    predicted_edges = []\n",
    "    count = 10000\n",
    "    userCount = 0\n",
    "    for node1 in users:\n",
    "        \n",
    "        userCount += 1\n",
    "        if(userCount%100 == 0):\n",
    "            print(userCount)\n",
    "        for node2 in issues:\n",
    "            \n",
    "            if node1 == node2 or graph.has_edge(node1, node2):\n",
    "                continue\n",
    "            \n",
    "            jaccard = jaccard_coefficient(graph, node1, node2)\n",
    "            if(jaccard >=threshold):\n",
    "                \n",
    "                predicted_edges.append((node1, node2, jaccard))\n",
    "                count -= 1\n",
    "                if(count == 0):\n",
    "                    print(node1,end=\"-------\")\n",
    "                    print(node2, end=\"-------\")\n",
    "                    print(jaccard)\n",
    "                    count = 10000\n",
    "                    \n",
    "    return sorted(predicted_edges, key=lambda x: x[2], reverse=True)\n"
   ]
  },
  {
   "cell_type": "code",
   "execution_count": 38,
   "metadata": {},
   "outputs": [],
   "source": [
    "def removeEdges(graph):\n",
    "    g = nx.Graph()\n",
    "    initial = graph.number_of_edges()\n",
    "    issuesList = random.sample(issues, 2000)\n",
    "    for i in issuesList:\n",
    "        for j in list(graph.neighbors(i)):\n",
    "            if graph.nodes[j][\"bipartite\"] == 0:\n",
    "                g.add_node(i, bipartite=1)\n",
    "                g.add_node(j, bipartite=0)\n",
    "                g.add_edge(i,j)\n",
    "                graph.remove_edge(i,j)\n",
    "    final = graph.number_of_edges()\n",
    "    print(initial - final)\n",
    "    return g,graph\n",
    "\n",
    "        "
   ]
  },
  {
   "cell_type": "code",
   "execution_count": 39,
   "metadata": {},
   "outputs": [
    {
     "name": "stdout",
     "output_type": "stream",
     "text": [
      "2000\n"
     ]
    }
   ],
   "source": [
    "G = B\n",
    "og, test = removeEdges(G)"
   ]
  },
  {
   "cell_type": "code",
   "execution_count": 40,
   "metadata": {},
   "outputs": [
    {
     "name": "stdout",
     "output_type": "stream",
     "text": [
      "100\n",
      "200\n",
      "300\n",
      "400\n",
      "500\n",
      "600\n",
      "700\n",
      "800\n",
      "900\n",
      "1000\n",
      "1100\n",
      "1200\n",
      "1300\n",
      "1400\n",
      "1500\n",
      "Maslina-------MDExOlB1bGxSZXF1ZXN0MzUxNzQ4Mjg=-------0.0625\n",
      "1600\n",
      "1700\n",
      "1800\n",
      "1900\n",
      "2000\n",
      "2100\n",
      "2200\n",
      "2300\n",
      "2400\n",
      "2500\n",
      "2600\n",
      "2700\n",
      "2800\n",
      "2900\n",
      "3000\n",
      "3100\n"
     ]
    }
   ],
   "source": [
    "pred_list = jaccard_link_prediction(test, 0.05)"
   ]
  },
  {
   "cell_type": "code",
   "execution_count": 41,
   "metadata": {},
   "outputs": [],
   "source": [
    "og_list = og.edges()\n",
    "og_list = list(og_list)"
   ]
  },
  {
   "cell_type": "code",
   "execution_count": 42,
   "metadata": {},
   "outputs": [],
   "source": [
    "for i in range(len(pred_list)):\n",
    "    pred_list[i] = pred_list[i][:2]\n",
    "# print(pred_list)"
   ]
  },
  {
   "cell_type": "code",
   "execution_count": null,
   "metadata": {},
   "outputs": [],
   "source": [
    "common_edges = []\n",
    "\n",
    "for edge1 in pred_list:\n",
    "    for edge2 in og_list:\n",
    "        sorted_edge1 = tuple(sorted(edge1))\n",
    "        sorted_edge2 = tuple(sorted(edge2))\n",
    "        if sorted_edge1 == sorted_edge2:\n",
    "            common_edges.append(edge1)\n",
    "            break\n",
    "\n",
    "\n"
   ]
  },
  {
   "cell_type": "code",
   "execution_count": 44,
   "metadata": {},
   "outputs": [
    {
     "name": "stdout",
     "output_type": "stream",
     "text": [
      "7\n",
      "('lapce', 'PR_kwDOBy2NM85JX6tb')\n",
      "('lapce', 'PR_kwDOBy2NM85JKB2s')\n",
      "('ntkme', 'PR_kwDOBFHeo85FsQoC')\n",
      "('ntkme', 'PR_kwDOAiEj5s5HPd6W')\n",
      "('login', 'MDExOlB1bGxSZXF1ZXN0OTk4MjkwMTA=')\n",
      "('login', 'MDExOlB1bGxSZXF1ZXN0MTI3MDE3ODAw')\n",
      "('login', 'MDExOlB1bGxSZXF1ZXN0MTIxMjM3Njc0')\n"
     ]
    }
   ],
   "source": [
    "print(len(common_edges))\n",
    "for i in common_edges:\n",
    "    print(i)"
   ]
  },
  {
   "cell_type": "code",
   "execution_count": 46,
   "metadata": {},
   "outputs": [
    {
     "name": "stdout",
     "output_type": "stream",
     "text": [
      "100\n",
      "200\n",
      "300\n",
      "400\n",
      "500\n",
      "600\n",
      "700\n",
      "800\n",
      "900\n",
      "1000\n",
      "1100\n",
      "1200\n",
      "1300\n",
      "1400\n",
      "1500\n",
      "1600\n",
      "1700\n",
      "1800\n",
      "1900\n",
      "2000\n",
      "2100\n",
      "2200\n",
      "2300\n",
      "2400\n",
      "2500\n",
      "2600\n",
      "2700\n",
      "2800\n",
      "2900\n",
      "3000\n",
      "3100\n",
      "2\n",
      "('lapce', 'PR_kwDOBy2NM85JX6tb')\n",
      "('lapce', 'PR_kwDOBy2NM85JKB2s')\n"
     ]
    }
   ],
   "source": [
    "# Changing Threshold to 0.1\n",
    "\n",
    "test1 = jaccard_link_prediction(test, 0.1)\n",
    "\n",
    "for i in range(len(test1)):\n",
    "    test1[i] = test1[i][:2]\n",
    "\n",
    "commonTest1 = []\n",
    "\n",
    "for edge1 in test1:\n",
    "    for edge2 in og_list:\n",
    "        sorted_edge1 = tuple(sorted(edge1))\n",
    "        sorted_edge2 = tuple(sorted(edge2))\n",
    "        if sorted_edge1 == sorted_edge2:\n",
    "            commonTest1.append(edge1)\n",
    "            break\n",
    "\n",
    "print(len(commonTest1))\n",
    "for i in commonTest1:\n",
    "    print(i)"
   ]
  },
  {
   "cell_type": "code",
   "execution_count": 47,
   "metadata": {},
   "outputs": [
    {
     "name": "stdout",
     "output_type": "stream",
     "text": [
      "100\n",
      "200\n",
      "300\n",
      "400\n",
      "500\n",
      "600\n",
      "700\n",
      "800\n",
      "900\n",
      "1000\n",
      "1100\n",
      "1200\n",
      "1300\n",
      "1400\n",
      "1500\n",
      "1600\n",
      "1700\n",
      "1800\n",
      "1900\n",
      "2000\n",
      "2100\n",
      "2200\n",
      "2300\n",
      "2400\n",
      "2500\n",
      "2600\n",
      "2700\n",
      "2800\n",
      "2900\n",
      "3000\n",
      "3100\n",
      "2\n",
      "('lapce', 'PR_kwDOBy2NM85JX6tb')\n",
      "('lapce', 'PR_kwDOBy2NM85JKB2s')\n"
     ]
    }
   ],
   "source": [
    "# Changing Threshold to 0.2\n",
    "\n",
    "test2 = jaccard_link_prediction(test, 0.2)\n",
    "\n",
    "for i in range(len(test2)):\n",
    "    test2[i] = test2[i][:2]\n",
    "\n",
    "commonTest2 = []\n",
    "\n",
    "for edge1 in test2:\n",
    "    for edge2 in og_list:\n",
    "        sorted_edge1 = tuple(sorted(edge1))\n",
    "        sorted_edge2 = tuple(sorted(edge2))\n",
    "        if sorted_edge1 == sorted_edge2:\n",
    "            commonTest2.append(edge1)\n",
    "            break\n",
    "\n",
    "print(len(commonTest2))\n",
    "for i in commonTest2:\n",
    "    print(i)"
   ]
  },
  {
   "cell_type": "code",
   "execution_count": 48,
   "metadata": {},
   "outputs": [
    {
     "name": "stdout",
     "output_type": "stream",
     "text": [
      "100\n",
      "CNjacob-------PR_kwDOAKJ_Hs5Jv_h_-------0.022727272727272728\n",
      "200\n",
      "300\n",
      "400\n",
      "ryojiro-------PR_kwDOC60iJ85KdgRL-------0.01694915254237288\n",
      "500\n",
      "600\n",
      "vursin-------PR_kwDOFCXpoc46Irxg-------0.013513513513513514\n",
      "700\n",
      "800\n",
      "900\n",
      "S34NW-------MDExOlB1bGxSZXF1ZXN0MTU2ODcxOTUy-------0.010638297872340425\n",
      "1000\n",
      "KillianKirilenko-------PR_kwDOA3k59s5KwvTs-------0.012658227848101266\n",
      "1100\n",
      "1200\n",
      "Superspheres-------MDExOlB1bGxSZXF1ZXN0NTQ1MDc3NjIw-------0.011363636363636364\n",
      "1300\n",
      "EdwardNashton-------MDExOlB1bGxSZXF1ZXN0Njc1Njk0NDk3-------0.027777777777777776\n",
      "1400\n",
      "1500\n",
      "CoZarctan-------MDExOlB1bGxSZXF1ZXN0NjkyNDQzMTM5-------0.01694915254237288\n",
      "1600\n",
      "1700\n",
      "1800\n",
      "1900\n",
      "2000\n",
      "gosimitz-------MDExOlB1bGxSZXF1ZXN0MTkyMzY0NDky-------0.015625\n",
      "2100\n",
      "2200\n",
      "2300\n",
      "2400\n",
      "2500\n",
      "BeatConnect-------PR_kwDOAMKNF85KH7iz-------0.02857142857142857\n",
      "2600\n",
      "2700\n",
      "2800\n",
      "2900\n",
      "josedelinux-------MDExOlB1bGxSZXF1ZXN0MTUzNDI5Mzg1-------0.012658227848101266\n",
      "3000\n",
      "3100\n",
      "19\n",
      "('lapce', 'PR_kwDOBy2NM85JX6tb')\n",
      "('lapce', 'PR_kwDOBy2NM85JKB2s')\n",
      "('ntkme', 'PR_kwDOBFHeo85FsQoC')\n",
      "('ntkme', 'PR_kwDOAiEj5s5HPd6W')\n",
      "('login', 'MDExOlB1bGxSZXF1ZXN0OTk4MjkwMTA=')\n",
      "('login', 'MDExOlB1bGxSZXF1ZXN0MTI3MDE3ODAw')\n",
      "('login', 'MDExOlB1bGxSZXF1ZXN0MTIxMjM3Njc0')\n",
      "('FarmBot', 'PR_kwDOAPHTvM453e0k')\n",
      "('FarmBot', 'PR_kwDOAPHTvM42MO82')\n",
      "('FarmBot', 'PR_kwDOAPHTvM4x3zO_')\n",
      "('FarmBot', 'PR_kwDOAPHTvM4xssyI')\n",
      "('FarmBot', 'PR_kwDOAPHTvM4xn40Q')\n",
      "('SS13-SCP13', 'MDExOlB1bGxSZXF1ZXN0MjM4OTgzNTM5')\n",
      "('kaina404', 'MDExOlB1bGxSZXF1ZXN0MjYzMTA4MTQ0')\n",
      "('KanohaShinobi', 'MDExOlB1bGxSZXF1ZXN0MzE4NTgzMzcx')\n",
      "('KanohaShinobi', 'MDExOlB1bGxSZXF1ZXN0MzE1Nzc0OTg2')\n",
      "('KanohaShinobi', 'MDExOlB1bGxSZXF1ZXN0Mjc3MjMwNjg2')\n",
      "('Tarmunora', 'MDExOlB1bGxSZXF1ZXN0Mzk0NTU3MjA2')\n",
      "('Tarmunora', 'MDExOlB1bGxSZXF1ZXN0MzgyMDk1NTQ3')\n"
     ]
    }
   ],
   "source": [
    "# Changing Threshold to 0.01\n",
    "\n",
    "test3 = jaccard_link_prediction(test, 0.01)\n",
    "\n",
    "for i in range(len(test3)):\n",
    "    test3[i] = test3[i][:2]\n",
    "\n",
    "commonTest3 = []\n",
    "\n",
    "for edge1 in test3:\n",
    "    for edge2 in og_list:\n",
    "        sorted_edge1 = tuple(sorted(edge1))\n",
    "        sorted_edge2 = tuple(sorted(edge2))\n",
    "        if sorted_edge1 == sorted_edge2:\n",
    "            commonTest3.append(edge1)\n",
    "            break\n",
    "\n",
    "print(len(commonTest3))\n",
    "for i in commonTest3:\n",
    "    print(i)"
   ]
  }
 ],
 "metadata": {
  "kernelspec": {
   "display_name": "Python 3.10.6 64-bit",
   "language": "python",
   "name": "python3"
  },
  "language_info": {
   "codemirror_mode": {
    "name": "ipython",
    "version": 3
   },
   "file_extension": ".py",
   "mimetype": "text/x-python",
   "name": "python",
   "nbconvert_exporter": "python",
   "pygments_lexer": "ipython3",
   "version": "3.10.6"
  },
  "orig_nbformat": 4,
  "vscode": {
   "interpreter": {
    "hash": "e7370f93d1d0cde622a1f8e1c04877d8463912d04d973331ad4851f04de6915a"
   }
  }
 },
 "nbformat": 4,
 "nbformat_minor": 2
}
