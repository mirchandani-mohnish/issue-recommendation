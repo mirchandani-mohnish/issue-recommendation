{
 "cells": [
  {
   "cell_type": "code",
   "execution_count": null,
   "metadata": {},
   "outputs": [],
   "source": [
    "import networkx as nx\n",
    "from itertools import combinations\n",
    "from sklearn.metrics.pairwise import cosine_similarity\n",
    "import numpy as np\n",
    "import fileDefinitions as fd\n",
    "import utils.helper_methods as helper_methods\n",
    "from networkx.algorithms import bipartite\n",
    "import time\n",
    "\n",
    "\n",
    "\n",
    "\n",
    "try:\n",
    "    gph = nx.read_gexf(fd.fullyConnGraphFile)\n",
    "    helper_methods.logData(\"graph file found at \" + str())\n",
    "except Exception as e:\n",
    "    helper_methods.logData(e)\n",
    "    gph = nx.Graph()\n",
    "    helper_methods.logData(\"new graph file generated\")"
   ]
  },
  {
   "cell_type": "markdown",
   "metadata": {},
   "source": [
    "## Backing Behind Algo\n",
    "- we first run through graph \n",
    "- for every user\n",
    "    - we see the issues i[n] connected to the user suppose u1\n",
    "    - for issue in i[n]\n",
    "        - traverse neighbours of issues\n",
    "        - add a weight of 1\n",
    "        [ for common neighbours, the weights would increment to more than 1 ]\n",
    "    - for every neighbour(user) user_neigh of this user based on contributions\n",
    "        - for every issue of user_neigh\n",
    "            - add a weight of 2 to issue\n",
    "    - for every neighbour(user) user_neigh of this user based on starred \n",
    "        - for every issue of user_neigh\n",
    "            - add a weight of 1 to issue and neighbours\n",
    "    - go through weights for the issues\n",
    "    - add issues with weight over k ( threshold ) into the array.\n",
    "        "
   ]
  },
  {
   "cell_type": "markdown",
   "metadata": {},
   "source": [
    "**Progressive** **Traversal** **Graph** weight **Bipartite** Prediction Algorithm"
   ]
  },
  {
   "cell_type": "code",
   "execution_count": null,
   "metadata": {},
   "outputs": [],
   "source": [
    "def getPredictionMatrix(gph):\n",
    "    predictionMatrix = []\n",
    "    for node in gph.nodes(data=True):\n",
    "        if(node['bipartite'] == 0):\n",
    "            predictionMatrix.append(\n",
    "                {\n",
    "                    \"nodeName\" : str(node[0]),\n",
    "                    \"predictedIssues\" : []\n",
    "                }\n",
    "            )\n",
    "    return predictionMatrix\n",
    "\n",
    "\n",
    "def getIssueWeights(gph,node,predictionMatrix):\n",
    "    return \"hi\"\n",
    "\n",
    "def getUserWeights(gph,node,predictionMatrix):\n",
    "    return \"hey\"\n",
    "\n",
    "\n",
    "\n",
    "def issuePrediction(gph):\n",
    "    predictionMatrix = getPredictionMatrix(gph)\n",
    "    for node in gph.nodes(data=True):\n",
    "        if(node['bipartite'] == 0):\n",
    "            getIssueWeights(gph,node,predictionMatrix) # for directly linked issues \n",
    "            getUserWeights(gph,node,predictionMatrix) # for 2nd degree issues \n",
    "            \n",
    "    return predictionMatrix\n",
    "    \n",
    "    # create a matrix for predicted issues \n",
    "    \n",
    "            \n",
    "            "
   ]
  },
  {
   "cell_type": "markdown",
   "metadata": {},
   "source": []
  }
 ],
 "metadata": {
  "kernelspec": {
   "display_name": "Python 3.10.6 64-bit",
   "language": "python",
   "name": "python3"
  },
  "language_info": {
   "name": "python",
   "version": "3.10.6"
  },
  "orig_nbformat": 4,
  "vscode": {
   "interpreter": {
    "hash": "e7370f93d1d0cde622a1f8e1c04877d8463912d04d973331ad4851f04de6915a"
   }
  }
 },
 "nbformat": 4,
 "nbformat_minor": 2
}
