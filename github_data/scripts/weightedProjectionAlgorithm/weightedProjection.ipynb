{
 "cells": [
  {
   "cell_type": "code",
   "execution_count": null,
   "metadata": {},
   "outputs": [],
   "source": [
    "import networkx as nx\n",
    "from itertools import combinations\n",
    "from sklearn.metrics.pairwise import cosine_similarity\n",
    "import numpy as np\n",
    "import fileDefinitions as fd\n",
    "import utils.helper_methods as helper_methods\n",
    "from networkx.algorithms import bipartite\n",
    "import matplotlib.pyplot as plt\n",
    "import time\n",
    "import random\n",
    "from networkx.algorithms import link_prediction\n",
    "from networkx.algorithms.assortativity import attribute_assortativity_coefficient\n",
    "import math"
   ]
  },
  {
   "cell_type": "code",
   "execution_count": null,
   "metadata": {},
   "outputs": [],
   "source": [
    "\n",
    "try:\n",
    "    gph = nx.read_gexf(\"../graphs/v3/contribConnected.gexf\")\n",
    "    #helper_methods.logData(\"graph file found at \" + str())\n",
    "    #print(\"graph file found at \" + str())\n",
    "    print(gph)\n",
    "except Exception as e:\n",
    "    helper_methods.logData(e)\n",
    "    gph = nx.Graph()\n",
    "    #helper_methods.logData(\"new graph file generated\")"
   ]
  },
  {
   "cell_type": "code",
   "execution_count": null,
   "metadata": {},
   "outputs": [],
   "source": [
    "B = gph\n",
    "\n",
    "# users = []\n",
    "# issues = []\n",
    "# for n in B:\n",
    "#     if(n == 0):\n",
    "#         users.append(n)\n",
    "#     else:\n",
    "#         issues.append(n)\n",
    "users = [n for n, d in B.nodes(data=True) if d[\"bipartite\"] == 0]\n",
    "issues = [n for n, d in B.nodes(data=True) if d[\"bipartite\"] == 1]\n"
   ]
  },
  {
   "cell_type": "code",
   "execution_count": null,
   "metadata": {},
   "outputs": [],
   "source": [
    "users_matrix = nx.bipartite.biadjacency_matrix(B, row_order=users)\n",
    "issues_matrix = nx.bipartite.biadjacency_matrix(B, row_order=issues)\n",
    "\n"
   ]
  },
  {
   "cell_type": "code",
   "execution_count": null,
   "metadata": {},
   "outputs": [],
   "source": [
    "\n"
   ]
  },
  {
   "cell_type": "code",
   "execution_count": null,
   "metadata": {},
   "outputs": [],
   "source": [
    "def weighted_projected_graph(B, nodes, weight_function=None):\n",
    "    # Create a new graph for the weighted projection\n",
    "    W = nx.Graph()\n",
    "\n",
    "    # Get the nodes from one bipartite node set\n",
    "    if nodes is None:\n",
    "        nodes = set(B)\n",
    "\n",
    "    # Get the weights for the nodes\n",
    "    if weight_function is None:\n",
    "        weight_function = lambda x, y, r: len(r)\n",
    "\n",
    "    # For each pair of nodes in the same bipartite node set\n",
    "    for u in nodes:\n",
    "        for v in nodes:\n",
    "            if u == v:\n",
    "                continue\n",
    "            neighbors_u = set(B[u])\n",
    "            neighbors_v = set(B[v])\n",
    "\n",
    "            # Find the shared neighbors of u and v\n",
    "            shared_neighbors = neighbors_u & neighbors_v\n",
    "\n",
    "            # Calculate the similarity probability\n",
    "            weight = weight_function(u, v, shared_neighbors)\n",
    "\n",
    "            # Add the weighted edge to the new graph\n",
    "            if weight > 0:\n",
    "                W.add_edge(u, v, weight=weight)\n",
    "\n",
    "    return W"
   ]
  },
  {
   "cell_type": "code",
   "execution_count": null,
   "metadata": {},
   "outputs": [],
   "source": [
    "def weighted_projected_graph(C_sub, usersC, issuesC):\n",
    "    X_nodes = users\n",
    "    Y_nodes = issues\n",
    "    P = bipartite.weighted_projected_graph(C_sub, X_nodes)\n",
    "    return P"
   ]
  },
  {
   "cell_type": "code",
   "execution_count": null,
   "metadata": {},
   "outputs": [],
   "source": [
    "# Define a weight function for the shared neighbors\n",
    "def weight_function(u, v, shared_neighbors):\n",
    "    return len(shared_neighbors)\n",
    "\n",
    "# Call the weighted_projected_graph function with the bipartite graph and the weight function\n",
    "# W = weighted_projected_graph(C_sub, nodes=C_sub.nodes, weight_function=weight_function)\n",
    "W = weighted_projected_graph(B, users, weight_function)\n",
    "\n",
    "# Print the weighted projected graph\n",
    "print(W.edges(data=True))"
   ]
  },
  {
   "cell_type": "code",
   "execution_count": null,
   "metadata": {},
   "outputs": [],
   "source": [
    "def removeEdges(graph):\n",
    "    g = nx.Graph()\n",
    "    initial = graph.number_of_edges()\n",
    "    issuesList = random.sample(issues, 2000)\n",
    "    for i in issuesList:\n",
    "        for j in list(graph.neighbors(i)):\n",
    "            if graph.nodes[j][\"bipartite\"] == 0:\n",
    "                g.add_node(i, bipartite=1)\n",
    "                g.add_node(j, bipartite=0)\n",
    "                g.add_edge(i,j)\n",
    "                graph.remove_edge(i,j)\n",
    "    final = graph.number_of_edges()\n",
    "    print(initial - final)\n",
    "    return g,graph"
   ]
  },
  {
   "cell_type": "code",
   "execution_count": null,
   "metadata": {},
   "outputs": [],
   "source": [
    "G = B\n",
    "og, test = removeEdges(G)"
   ]
  },
  {
   "cell_type": "code",
   "execution_count": null,
   "metadata": {},
   "outputs": [],
   "source": [
    "pred_graph = weighted_projected_graph(og)\n",
    "\n",
    "pred_list = pred_graph.edges()"
   ]
  },
  {
   "cell_type": "code",
   "execution_count": null,
   "metadata": {},
   "outputs": [],
   "source": [
    "common_edges = []\n",
    "\n",
    "for edge1 in pred_list:\n",
    "    for edge2 in og_list:\n",
    "        sorted_edge1 = tuple(sorted(edge1))\n",
    "        sorted_edge2 = tuple(sorted(edge2))\n",
    "        if sorted_edge1 == sorted_edge2:\n",
    "            common_edges.append(edge1)\n",
    "            break"
   ]
  },
  {
   "cell_type": "code",
   "execution_count": null,
   "metadata": {},
   "outputs": [],
   "source": []
  }
 ],
 "metadata": {
  "kernelspec": {
   "display_name": "Python 3.10.6 64-bit",
   "language": "python",
   "name": "python3"
  },
  "language_info": {
   "codemirror_mode": {
    "name": "ipython",
    "version": 3
   },
   "file_extension": ".py",
   "mimetype": "text/x-python",
   "name": "python",
   "nbconvert_exporter": "python",
   "pygments_lexer": "ipython3",
   "version": "3.10.6"
  },
  "orig_nbformat": 4,
  "vscode": {
   "interpreter": {
    "hash": "e7370f93d1d0cde622a1f8e1c04877d8463912d04d973331ad4851f04de6915a"
   }
  }
 },
 "nbformat": 4,
 "nbformat_minor": 2
}
