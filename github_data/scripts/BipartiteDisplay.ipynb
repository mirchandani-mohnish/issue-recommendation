{
 "cells": [
  {
   "cell_type": "code",
   "execution_count": 2,
   "metadata": {},
   "outputs": [],
   "source": [
    "\n",
    "import networkx as nx\n",
    "from itertools import combinations\n",
    "from sklearn.metrics.pairwise import cosine_similarity\n",
    "import numpy as np\n",
    "import fileDefinitions as fd\n",
    "import utils.helper_methods as helper_methods\n",
    "from networkx.algorithms import bipartite\n",
    "import time\n",
    "import matplotlib.pyplot as plt\n",
    "\n",
    "import pandas as pd\n",
    "import matplotlib.patches as mpatches\n",
    "import seaborn as sns\n",
    "import numpy as np\n",
    "plt.style.use('fivethirtyeight')\n",
    "\n",
    "## Network\n",
    "import pylab as plt \n",
    "from itertools import count \n",
    "from operator import itemgetter \n",
    "from networkx.drawing.nx_agraph import graphviz_layout \n",
    "import pylab"
   ]
  },
  {
   "cell_type": "code",
   "execution_count": 3,
   "metadata": {},
   "outputs": [
    {
     "name": "stdout",
     "output_type": "stream",
     "text": [
      "Graph with 11406 nodes and 95795 edges\n"
     ]
    }
   ],
   "source": [
    "\n",
    "try:\n",
    "    gph = nx.read_gexf(\"./finalConnectedGraph.gexf\")\n",
    "    #helper_methods.logData(\"graph file found at \" + str())\n",
    "    #print(\"graph file found at \" + str())\n",
    "    print(gph)\n",
    "except Exception as e:\n",
    "    helper_methods.logData(e)\n",
    "    gph = nx.Graph()\n",
    "    #helper_methods.logData(\"new graph file generated\")\n",
    "\n",
    "\n"
   ]
  },
  {
   "cell_type": "code",
   "execution_count": 6,
   "metadata": {},
   "outputs": [],
   "source": [
    "B = gph\n",
    "\n",
    "# users = []\n",
    "# issues = []\n",
    "# for n in B:\n",
    "#     if(n == 0):\n",
    "#         users.append(n)\n",
    "#     else:\n",
    "#         issues.append(n)\n",
    "users = [n for n, d in B.nodes(data=True) if d[\"bipartite\"] == 0]\n",
    "issues = [n for n, d in B.nodes(data=True) if d[\"bipartite\"] == 1]"
   ]
  },
  {
   "cell_type": "code",
   "execution_count": 7,
   "metadata": {},
   "outputs": [],
   "source": [
    "# Set the number of nodes and edges to extract\n",
    "C= B\n",
    "\n",
    "usersC = [n for n, d in C.nodes(data=True) if d[\"bipartite\"] == 0]\n",
    "issuesC = [n for n, d in C.nodes(data=True) if d[\"bipartite\"] == 1]"
   ]
  },
  {
   "cell_type": "code",
   "execution_count": 12,
   "metadata": {},
   "outputs": [
    {
     "name": "stdout",
     "output_type": "stream",
     "text": [
      "Set A:  {'bytes7bytes7', 'dart-lang', 'anujcontractor', 'tk103331', 'hbina', 'ntkme', 'lapce', 'ChristianKleineidam', 'lucalewin', 'jsoref', 'DJMcNab', 'rezaxdi', 'stuartmorgan', 'SirNiklax'}\n",
      "Set B:  {'PR_kwDOBy2NM85K9kR7', 'PR_kwDOBy2NM85I7Or7', 'PR_kwDOBy2NM85JSYCA', 'PR_kwDOBy2NM85KdiNI', 'PR_kwDOBy2NM85JX6tb', 'PR_kwDOAiEj5s5JN1-j', 'PR_kwDOBy2NM85I_fpj', 'PR_kwDOAiEj5s5J0-PA', 'PR_kwDOBy2NM85JlbVF', 'PR_kwDOBy2NM85JIfZE', 'PR_kwDOAiEj5s5ITe0E', 'PR_kwDOBy2NM85LAawJ', 'PR_kwDOBy2NM85I342w', 'PR_kwDOBy2NM85IvbF4', 'PR_kwDOBy2NM85IwBBx', 'PR_kwDOAiEj5s5Kzz-_', 'PR_kwDOAiEj5s5K4pqq', 'PR_kwDOBy2NM85K9bUt', 'PR_kwDOAiEj5s5J6Tvx', 'PR_kwDOBy2NM85LQJYb', 'PR_kwDOAiEj5s5Kizdg', 'PR_kwDOBy2NM85I9VzR', 'PR_kwDOBy2NM85IzT-T', 'PR_kwDOAiEj5s5JJcOU', 'PR_kwDOBy2NM85Jg1hg', 'PR_kwDOBy2NM85Jeo7e', 'PR_kwDOAiEj5s5Iv2_6', 'PR_kwDOBy2NM85JKB2s', 'PR_kwDOBy2NM85JIddY', 'PR_kwDOAiEj5s5I8Uyb', 'PR_kwDOBy2NM85I5ljj', 'PR_kwDOAiEj5s5JxS2s', 'PR_kwDOAiEj5s5IrRRF', 'PR_kwDOAiEj5s5JD2-k', 'PR_kwDOBy2NM85I_JC5', 'PR_kwDOAiEj5s5IyevW'}\n"
     ]
    }
   ],
   "source": [
    "C=B\n",
    "# Initialize sets for each partition\n",
    "setA = set()\n",
    "setB = set()\n",
    "setAll= set()\n",
    "count = 50\n",
    "\n",
    "# Iterate through the graph and populate sets for each partition\n",
    "for n in C.nodes(data = True):\n",
    "    setAll.add(str(n[0]))\n",
    "    \n",
    "    if(n[1]['bipartite'] == 0):\n",
    "        setA.add(str(n[0]))\n",
    "    else:\n",
    "        setB.add(str(n[0]))\n",
    "    count -= 1\n",
    "    if(count == 0):\n",
    "        break\n",
    "    \n",
    "\n",
    "# Print the sets for each partition\n",
    "print(\"Set A: \", setA)\n",
    "print(\"Set B: \", setB)"
   ]
  },
  {
   "cell_type": "code",
   "execution_count": 13,
   "metadata": {},
   "outputs": [
    {
     "ename": "MemoryError",
     "evalue": "Unable to allocate 993. MiB for an array with shape (11406, 11406) and data type float64",
     "output_type": "error",
     "traceback": [
      "\u001b[1;31m---------------------------------------------------------------------------\u001b[0m",
      "\u001b[1;31mMemoryError\u001b[0m                               Traceback (most recent call last)",
      "Cell \u001b[1;32mIn[13], line 8\u001b[0m\n\u001b[0;32m      5\u001b[0m colors \u001b[39m=\u001b[39m [degree[n] \u001b[39mfor\u001b[39;00m n \u001b[39min\u001b[39;00m nodes]\n\u001b[0;32m      6\u001b[0m \u001b[39m#size = [(degree[n]) for n in nodes]\u001b[39;00m\n\u001b[1;32m----> 8\u001b[0m pos \u001b[39m=\u001b[39m nx\u001b[39m.\u001b[39;49mkamada_kawai_layout(C)\n\u001b[0;32m      9\u001b[0m \u001b[39m#pos = nx.spring_layout(G, k = 0.2)\u001b[39;00m\n\u001b[0;32m     10\u001b[0m cmap \u001b[39m=\u001b[39m plt\u001b[39m.\u001b[39mcm\u001b[39m.\u001b[39mviridis_r\n",
      "File \u001b[1;32mc:\\Users\\Lenovo\\AppData\\Local\\Programs\\Python\\Python311\\Lib\\site-packages\\networkx\\drawing\\layout.py:710\u001b[0m, in \u001b[0;36mkamada_kawai_layout\u001b[1;34m(G, dist, pos, weight, scale, center, dim)\u001b[0m\n\u001b[0;32m    707\u001b[0m         pos \u001b[39m=\u001b[39m {n: pt \u001b[39mfor\u001b[39;00m n, pt \u001b[39min\u001b[39;00m \u001b[39mzip\u001b[39m(G, np\u001b[39m.\u001b[39mlinspace(\u001b[39m0\u001b[39m, \u001b[39m1\u001b[39m, \u001b[39mlen\u001b[39m(G)))}\n\u001b[0;32m    708\u001b[0m pos_arr \u001b[39m=\u001b[39m np\u001b[39m.\u001b[39marray([pos[n] \u001b[39mfor\u001b[39;00m n \u001b[39min\u001b[39;00m G])\n\u001b[1;32m--> 710\u001b[0m pos \u001b[39m=\u001b[39m _kamada_kawai_solve(dist_mtx, pos_arr, dim)\n\u001b[0;32m    712\u001b[0m pos \u001b[39m=\u001b[39m rescale_layout(pos, scale\u001b[39m=\u001b[39mscale) \u001b[39m+\u001b[39m center\n\u001b[0;32m    713\u001b[0m \u001b[39mreturn\u001b[39;00m \u001b[39mdict\u001b[39m(\u001b[39mzip\u001b[39m(G, pos))\n",
      "File \u001b[1;32mc:\\Users\\Lenovo\\AppData\\Local\\Programs\\Python\\Python311\\Lib\\site-packages\\networkx\\drawing\\layout.py:728\u001b[0m, in \u001b[0;36m_kamada_kawai_solve\u001b[1;34m(dist_mtx, pos_arr, dim)\u001b[0m\n\u001b[0;32m    725\u001b[0m meanwt \u001b[39m=\u001b[39m \u001b[39m1e-3\u001b[39m\n\u001b[0;32m    726\u001b[0m costargs \u001b[39m=\u001b[39m (np, \u001b[39m1\u001b[39m \u001b[39m/\u001b[39m (dist_mtx \u001b[39m+\u001b[39m np\u001b[39m.\u001b[39meye(dist_mtx\u001b[39m.\u001b[39mshape[\u001b[39m0\u001b[39m]) \u001b[39m*\u001b[39m \u001b[39m1e-3\u001b[39m), meanwt, dim)\n\u001b[1;32m--> 728\u001b[0m optresult \u001b[39m=\u001b[39m sp\u001b[39m.\u001b[39;49moptimize\u001b[39m.\u001b[39;49mminimize(\n\u001b[0;32m    729\u001b[0m     _kamada_kawai_costfn,\n\u001b[0;32m    730\u001b[0m     pos_arr\u001b[39m.\u001b[39;49mravel(),\n\u001b[0;32m    731\u001b[0m     method\u001b[39m=\u001b[39;49m\u001b[39m\"\u001b[39;49m\u001b[39mL-BFGS-B\u001b[39;49m\u001b[39m\"\u001b[39;49m,\n\u001b[0;32m    732\u001b[0m     args\u001b[39m=\u001b[39;49mcostargs,\n\u001b[0;32m    733\u001b[0m     jac\u001b[39m=\u001b[39;49m\u001b[39mTrue\u001b[39;49;00m,\n\u001b[0;32m    734\u001b[0m )\n\u001b[0;32m    736\u001b[0m \u001b[39mreturn\u001b[39;00m optresult\u001b[39m.\u001b[39mx\u001b[39m.\u001b[39mreshape((\u001b[39m-\u001b[39m\u001b[39m1\u001b[39m, dim))\n",
      "File \u001b[1;32mc:\\Users\\Lenovo\\AppData\\Local\\Programs\\Python\\Python311\\Lib\\site-packages\\scipy\\optimize\\_minimize.py:696\u001b[0m, in \u001b[0;36mminimize\u001b[1;34m(fun, x0, args, method, jac, hess, hessp, bounds, constraints, tol, callback, options)\u001b[0m\n\u001b[0;32m    693\u001b[0m     res \u001b[39m=\u001b[39m _minimize_newtoncg(fun, x0, args, jac, hess, hessp, callback,\n\u001b[0;32m    694\u001b[0m                              \u001b[39m*\u001b[39m\u001b[39m*\u001b[39moptions)\n\u001b[0;32m    695\u001b[0m \u001b[39melif\u001b[39;00m meth \u001b[39m==\u001b[39m \u001b[39m'\u001b[39m\u001b[39ml-bfgs-b\u001b[39m\u001b[39m'\u001b[39m:\n\u001b[1;32m--> 696\u001b[0m     res \u001b[39m=\u001b[39m _minimize_lbfgsb(fun, x0, args, jac, bounds,\n\u001b[0;32m    697\u001b[0m                            callback\u001b[39m=\u001b[39;49mcallback, \u001b[39m*\u001b[39;49m\u001b[39m*\u001b[39;49moptions)\n\u001b[0;32m    698\u001b[0m \u001b[39melif\u001b[39;00m meth \u001b[39m==\u001b[39m \u001b[39m'\u001b[39m\u001b[39mtnc\u001b[39m\u001b[39m'\u001b[39m:\n\u001b[0;32m    699\u001b[0m     res \u001b[39m=\u001b[39m _minimize_tnc(fun, x0, args, jac, bounds, callback\u001b[39m=\u001b[39mcallback,\n\u001b[0;32m    700\u001b[0m                         \u001b[39m*\u001b[39m\u001b[39m*\u001b[39moptions)\n",
      "File \u001b[1;32mc:\\Users\\Lenovo\\AppData\\Local\\Programs\\Python\\Python311\\Lib\\site-packages\\scipy\\optimize\\_lbfgsb_py.py:359\u001b[0m, in \u001b[0;36m_minimize_lbfgsb\u001b[1;34m(fun, x0, args, jac, bounds, disp, maxcor, ftol, gtol, eps, maxfun, maxiter, iprint, callback, maxls, finite_diff_rel_step, **unknown_options)\u001b[0m\n\u001b[0;32m    353\u001b[0m task_str \u001b[39m=\u001b[39m task\u001b[39m.\u001b[39mtobytes()\n\u001b[0;32m    354\u001b[0m \u001b[39mif\u001b[39;00m task_str\u001b[39m.\u001b[39mstartswith(\u001b[39mb\u001b[39m\u001b[39m'\u001b[39m\u001b[39mFG\u001b[39m\u001b[39m'\u001b[39m):\n\u001b[0;32m    355\u001b[0m     \u001b[39m# The minimization routine wants f and g at the current x.\u001b[39;00m\n\u001b[0;32m    356\u001b[0m     \u001b[39m# Note that interruptions due to maxfun are postponed\u001b[39;00m\n\u001b[0;32m    357\u001b[0m     \u001b[39m# until the completion of the current minimization iteration.\u001b[39;00m\n\u001b[0;32m    358\u001b[0m     \u001b[39m# Overwrite f and g:\u001b[39;00m\n\u001b[1;32m--> 359\u001b[0m     f, g \u001b[39m=\u001b[39m func_and_grad(x)\n\u001b[0;32m    360\u001b[0m \u001b[39melif\u001b[39;00m task_str\u001b[39m.\u001b[39mstartswith(\u001b[39mb\u001b[39m\u001b[39m'\u001b[39m\u001b[39mNEW_X\u001b[39m\u001b[39m'\u001b[39m):\n\u001b[0;32m    361\u001b[0m     \u001b[39m# new iteration\u001b[39;00m\n\u001b[0;32m    362\u001b[0m     n_iterations \u001b[39m+\u001b[39m\u001b[39m=\u001b[39m \u001b[39m1\u001b[39m\n",
      "File \u001b[1;32mc:\\Users\\Lenovo\\AppData\\Local\\Programs\\Python\\Python311\\Lib\\site-packages\\scipy\\optimize\\_differentiable_functions.py:285\u001b[0m, in \u001b[0;36mScalarFunction.fun_and_grad\u001b[1;34m(self, x)\u001b[0m\n\u001b[0;32m    283\u001b[0m \u001b[39mif\u001b[39;00m \u001b[39mnot\u001b[39;00m np\u001b[39m.\u001b[39marray_equal(x, \u001b[39mself\u001b[39m\u001b[39m.\u001b[39mx):\n\u001b[0;32m    284\u001b[0m     \u001b[39mself\u001b[39m\u001b[39m.\u001b[39m_update_x_impl(x)\n\u001b[1;32m--> 285\u001b[0m \u001b[39mself\u001b[39;49m\u001b[39m.\u001b[39;49m_update_fun()\n\u001b[0;32m    286\u001b[0m \u001b[39mself\u001b[39m\u001b[39m.\u001b[39m_update_grad()\n\u001b[0;32m    287\u001b[0m \u001b[39mreturn\u001b[39;00m \u001b[39mself\u001b[39m\u001b[39m.\u001b[39mf, \u001b[39mself\u001b[39m\u001b[39m.\u001b[39mg\n",
      "File \u001b[1;32mc:\\Users\\Lenovo\\AppData\\Local\\Programs\\Python\\Python311\\Lib\\site-packages\\scipy\\optimize\\_differentiable_functions.py:251\u001b[0m, in \u001b[0;36mScalarFunction._update_fun\u001b[1;34m(self)\u001b[0m\n\u001b[0;32m    249\u001b[0m \u001b[39mdef\u001b[39;00m \u001b[39m_update_fun\u001b[39m(\u001b[39mself\u001b[39m):\n\u001b[0;32m    250\u001b[0m     \u001b[39mif\u001b[39;00m \u001b[39mnot\u001b[39;00m \u001b[39mself\u001b[39m\u001b[39m.\u001b[39mf_updated:\n\u001b[1;32m--> 251\u001b[0m         \u001b[39mself\u001b[39;49m\u001b[39m.\u001b[39;49m_update_fun_impl()\n\u001b[0;32m    252\u001b[0m         \u001b[39mself\u001b[39m\u001b[39m.\u001b[39mf_updated \u001b[39m=\u001b[39m \u001b[39mTrue\u001b[39;00m\n",
      "File \u001b[1;32mc:\\Users\\Lenovo\\AppData\\Local\\Programs\\Python\\Python311\\Lib\\site-packages\\scipy\\optimize\\_differentiable_functions.py:155\u001b[0m, in \u001b[0;36mScalarFunction.__init__.<locals>.update_fun\u001b[1;34m()\u001b[0m\n\u001b[0;32m    154\u001b[0m \u001b[39mdef\u001b[39;00m \u001b[39mupdate_fun\u001b[39m():\n\u001b[1;32m--> 155\u001b[0m     \u001b[39mself\u001b[39m\u001b[39m.\u001b[39mf \u001b[39m=\u001b[39m fun_wrapped(\u001b[39mself\u001b[39;49m\u001b[39m.\u001b[39;49mx)\n",
      "File \u001b[1;32mc:\\Users\\Lenovo\\AppData\\Local\\Programs\\Python\\Python311\\Lib\\site-packages\\scipy\\optimize\\_differentiable_functions.py:137\u001b[0m, in \u001b[0;36mScalarFunction.__init__.<locals>.fun_wrapped\u001b[1;34m(x)\u001b[0m\n\u001b[0;32m    133\u001b[0m \u001b[39mself\u001b[39m\u001b[39m.\u001b[39mnfev \u001b[39m+\u001b[39m\u001b[39m=\u001b[39m \u001b[39m1\u001b[39m\n\u001b[0;32m    134\u001b[0m \u001b[39m# Send a copy because the user may overwrite it.\u001b[39;00m\n\u001b[0;32m    135\u001b[0m \u001b[39m# Overwriting results in undefined behaviour because\u001b[39;00m\n\u001b[0;32m    136\u001b[0m \u001b[39m# fun(self.x) will change self.x, with the two no longer linked.\u001b[39;00m\n\u001b[1;32m--> 137\u001b[0m fx \u001b[39m=\u001b[39m fun(np\u001b[39m.\u001b[39;49mcopy(x), \u001b[39m*\u001b[39;49margs)\n\u001b[0;32m    138\u001b[0m \u001b[39m# Make sure the function returns a true scalar\u001b[39;00m\n\u001b[0;32m    139\u001b[0m \u001b[39mif\u001b[39;00m \u001b[39mnot\u001b[39;00m np\u001b[39m.\u001b[39misscalar(fx):\n",
      "File \u001b[1;32mc:\\Users\\Lenovo\\AppData\\Local\\Programs\\Python\\Python311\\Lib\\site-packages\\scipy\\optimize\\_optimize.py:76\u001b[0m, in \u001b[0;36mMemoizeJac.__call__\u001b[1;34m(self, x, *args)\u001b[0m\n\u001b[0;32m     74\u001b[0m \u001b[39mdef\u001b[39;00m \u001b[39m__call__\u001b[39m(\u001b[39mself\u001b[39m, x, \u001b[39m*\u001b[39margs):\n\u001b[0;32m     75\u001b[0m \u001b[39m    \u001b[39m\u001b[39m\"\"\" returns the function value \"\"\"\u001b[39;00m\n\u001b[1;32m---> 76\u001b[0m     \u001b[39mself\u001b[39;49m\u001b[39m.\u001b[39;49m_compute_if_needed(x, \u001b[39m*\u001b[39;49margs)\n\u001b[0;32m     77\u001b[0m     \u001b[39mreturn\u001b[39;00m \u001b[39mself\u001b[39m\u001b[39m.\u001b[39m_value\n",
      "File \u001b[1;32mc:\\Users\\Lenovo\\AppData\\Local\\Programs\\Python\\Python311\\Lib\\site-packages\\scipy\\optimize\\_optimize.py:70\u001b[0m, in \u001b[0;36mMemoizeJac._compute_if_needed\u001b[1;34m(self, x, *args)\u001b[0m\n\u001b[0;32m     68\u001b[0m \u001b[39mif\u001b[39;00m \u001b[39mnot\u001b[39;00m np\u001b[39m.\u001b[39mall(x \u001b[39m==\u001b[39m \u001b[39mself\u001b[39m\u001b[39m.\u001b[39mx) \u001b[39mor\u001b[39;00m \u001b[39mself\u001b[39m\u001b[39m.\u001b[39m_value \u001b[39mis\u001b[39;00m \u001b[39mNone\u001b[39;00m \u001b[39mor\u001b[39;00m \u001b[39mself\u001b[39m\u001b[39m.\u001b[39mjac \u001b[39mis\u001b[39;00m \u001b[39mNone\u001b[39;00m:\n\u001b[0;32m     69\u001b[0m     \u001b[39mself\u001b[39m\u001b[39m.\u001b[39mx \u001b[39m=\u001b[39m np\u001b[39m.\u001b[39masarray(x)\u001b[39m.\u001b[39mcopy()\n\u001b[1;32m---> 70\u001b[0m     fg \u001b[39m=\u001b[39m \u001b[39mself\u001b[39;49m\u001b[39m.\u001b[39;49mfun(x, \u001b[39m*\u001b[39;49margs)\n\u001b[0;32m     71\u001b[0m     \u001b[39mself\u001b[39m\u001b[39m.\u001b[39mjac \u001b[39m=\u001b[39m fg[\u001b[39m1\u001b[39m]\n\u001b[0;32m     72\u001b[0m     \u001b[39mself\u001b[39m\u001b[39m.\u001b[39m_value \u001b[39m=\u001b[39m fg[\u001b[39m0\u001b[39m]\n",
      "File \u001b[1;32mc:\\Users\\Lenovo\\AppData\\Local\\Programs\\Python\\Python311\\Lib\\site-packages\\networkx\\drawing\\layout.py:748\u001b[0m, in \u001b[0;36m_kamada_kawai_costfn\u001b[1;34m(pos_vec, np, invdist, meanweight, dim)\u001b[0m\n\u001b[0;32m    745\u001b[0m nodesep \u001b[39m=\u001b[39m np\u001b[39m.\u001b[39mlinalg\u001b[39m.\u001b[39mnorm(delta, axis\u001b[39m=\u001b[39m\u001b[39m-\u001b[39m\u001b[39m1\u001b[39m)\n\u001b[0;32m    746\u001b[0m direction \u001b[39m=\u001b[39m np\u001b[39m.\u001b[39meinsum(\u001b[39m\"\u001b[39m\u001b[39mijk,ij->ijk\u001b[39m\u001b[39m\"\u001b[39m, delta, \u001b[39m1\u001b[39m \u001b[39m/\u001b[39m (nodesep \u001b[39m+\u001b[39m np\u001b[39m.\u001b[39meye(nNodes) \u001b[39m*\u001b[39m \u001b[39m1e-3\u001b[39m))\n\u001b[1;32m--> 748\u001b[0m offset \u001b[39m=\u001b[39m nodesep \u001b[39m*\u001b[39;49m invdist \u001b[39m-\u001b[39;49m \u001b[39m1.0\u001b[39;49m\n\u001b[0;32m    749\u001b[0m offset[np\u001b[39m.\u001b[39mdiag_indices(nNodes)] \u001b[39m=\u001b[39m \u001b[39m0\u001b[39m\n\u001b[0;32m    751\u001b[0m cost \u001b[39m=\u001b[39m \u001b[39m0.5\u001b[39m \u001b[39m*\u001b[39m np\u001b[39m.\u001b[39msum(offset\u001b[39m*\u001b[39m\u001b[39m*\u001b[39m\u001b[39m2\u001b[39m)\n",
      "\u001b[1;31mMemoryError\u001b[0m: Unable to allocate 993. MiB for an array with shape (11406, 11406) and data type float64"
     ]
    }
   ],
   "source": [
    "#pd.set_option('precision',10)\n",
    "\n",
    "nodes = C.nodes()\n",
    "degree = C.degree()\n",
    "colors = [degree[n] for n in nodes]\n",
    "#size = [(degree[n]) for n in nodes]\n",
    "\n",
    "pos = nx.kamada_kawai_layout(C)\n",
    "#pos = nx.spring_layout(G, k = 0.2)\n",
    "cmap = plt.cm.viridis_r\n",
    "cmap = plt.cm.Greys\n",
    "\n",
    "vmin = min(colors)\n",
    "vmax = max(colors)\n",
    "\n",
    "fig = plt.figure(figsize = (15,9), dpi=100)\n",
    "\n",
    "nx.draw(C,pos,alpha = 0.8, nodelist = nodes, node_color = 'w', node_size = 10, with_labels= False,font_size = 6, width = 0.2, cmap = cmap, edge_color ='yellow')\n",
    "fig.set_facecolor('#0B243B')\n",
    "\n",
    "plt.legend()\n",
    "plt.show()"
   ]
  }
 ],
 "metadata": {
  "kernelspec": {
   "display_name": "Python 3",
   "language": "python",
   "name": "python3"
  },
  "language_info": {
   "codemirror_mode": {
    "name": "ipython",
    "version": 3
   },
   "file_extension": ".py",
   "mimetype": "text/x-python",
   "name": "python",
   "nbconvert_exporter": "python",
   "pygments_lexer": "ipython3",
   "version": "3.11.1"
  },
  "orig_nbformat": 4
 },
 "nbformat": 4,
 "nbformat_minor": 2
}
