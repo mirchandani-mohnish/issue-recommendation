{
 "cells": [
  {
   "cell_type": "code",
   "execution_count": 8,
   "metadata": {},
   "outputs": [],
   "source": [
    "import numpy as np\n",
    "import networkx as nx\n",
    "import random"
   ]
  },
  {
   "cell_type": "code",
   "execution_count": 9,
   "metadata": {},
   "outputs": [],
   "source": [
    "gph = nx.read_gexf(\"./contribConnected.gexf\")"
   ]
  },
  {
   "cell_type": "code",
   "execution_count": 10,
   "metadata": {},
   "outputs": [],
   "source": [
    "B= gph\n",
    "\n",
    "\n",
    "users = [n for n, d in B.nodes(data=True) if d[\"bipartite\"] == 0]\n",
    "issues = [n for n, d in B.nodes(data=True) if d[\"bipartite\"] == 1]"
   ]
  },
  {
   "cell_type": "code",
   "execution_count": 11,
   "metadata": {},
   "outputs": [],
   "source": [
    "# Define the Adamic-Adar similarity function\n",
    "def adamic_adar(u, v, G):\n",
    "    neighbors = list(nx.common_neighbors(G, u, v))\n",
    "    score = 0\n",
    "    for w in neighbors:\n",
    "        degree = G.degree(w)\n",
    "        if degree != 0:\n",
    "            score += 1 / np.log(degree)\n",
    "    return score"
   ]
  },
  {
   "cell_type": "code",
   "execution_count": 12,
   "metadata": {},
   "outputs": [],
   "source": [
    "# Calculate Adamic-Adar similarity scores for all pairs of nodes\n",
    "def adamicAdar(g):\n",
    "    similarity_scores = {}\n",
    "    for u in users:\n",
    "        for v in issues:\n",
    "            if not g.has_edge(u, v):\n",
    "                score = adamic_adar(u, v, B)\n",
    "                similarity_scores[(u, v)] = score\n",
    "\n",
    "    # Sort the similarity scores in descending order\n",
    "    sorted_scores = sorted(similarity_scores.items(), key=lambda x: x[1], reverse=True)\n",
    "    return sorted_scores"
   ]
  },
  {
   "cell_type": "code",
   "execution_count": 16,
   "metadata": {},
   "outputs": [
    {
     "name": "stdout",
     "output_type": "stream",
     "text": [
      "2000\n"
     ]
    }
   ],
   "source": [
    "def removeEdges(graph, n):\n",
    "    g = nx.Graph()\n",
    "    initial = graph.number_of_edges()\n",
    "    issuesList = random.sample(issues, n)\n",
    "    for i in issuesList:\n",
    "        for j in list(graph.neighbors(i)):\n",
    "            if graph.nodes[j][\"bipartite\"] == 0:\n",
    "                g.add_node(i, bipartite=1)\n",
    "                g.add_node(j, bipartite=0)\n",
    "                g.add_edge(i,j)\n",
    "                graph.remove_edge(i,j)\n",
    "    final = graph.number_of_edges()\n",
    "    print(initial - final)\n",
    "    return g,graph\n",
    "\n",
    "X = gph.copy()\n",
    "train, test = removeEdges(X,2000)"
   ]
  },
  {
   "cell_type": "code",
   "execution_count": null,
   "metadata": {},
   "outputs": [],
   "source": [
    "predicted = adamicAdar(test)"
   ]
  },
  {
   "cell_type": "code",
   "execution_count": null,
   "metadata": {},
   "outputs": [],
   "source": [
    "og_list = train.edges()\n",
    "og_list = list(og_list)\n",
    "\n",
    "# print(og_list)\n",
    "common_edges = []\n",
    "\n",
    "for edge1 in predicted:\n",
    "    for edge2 in og_list:\n",
    "        # print(\"-------------\")\n",
    "        \n",
    "        sorted_edge1 = tuple(sorted(edge1))\n",
    "        sorted_edge2 = tuple(sorted(edge2))\n",
    "        # print(sorted_edge1)\n",
    "        # print(sorted_edge2)\n",
    "        if sorted_edge1 == sorted_edge2:\n",
    "            # print(edge1)\n",
    "            # print(edge2)\n",
    "            # print(str(sorted_edge1) + \"--------\" + str(sorted_edge2))\n",
    "            common_edges.append(edge1)\n",
    "            break\n",
    "\n",
    "print(len(common_edges))\n",
    "for i in common_edges:\n",
    "    print(i)\n",
    "\n"
   ]
  }
 ],
 "metadata": {
  "kernelspec": {
   "display_name": "Python 3",
   "language": "python",
   "name": "python3"
  },
  "language_info": {
   "codemirror_mode": {
    "name": "ipython",
    "version": 3
   },
   "file_extension": ".py",
   "mimetype": "text/x-python",
   "name": "python",
   "nbconvert_exporter": "python",
   "pygments_lexer": "ipython3",
   "version": "3.11.2"
  },
  "orig_nbformat": 4
 },
 "nbformat": 4,
 "nbformat_minor": 2
}
