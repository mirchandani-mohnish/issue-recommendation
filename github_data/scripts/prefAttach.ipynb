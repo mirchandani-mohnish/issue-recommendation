{
 "cells": [
  {
   "cell_type": "code",
   "execution_count": 1,
   "metadata": {},
   "outputs": [],
   "source": [
    "import networkx as nx\n",
    "import random\n"
   ]
  },
  {
   "cell_type": "code",
   "execution_count": 2,
   "metadata": {},
   "outputs": [
    {
     "name": "stdout",
     "output_type": "stream",
     "text": [
      "Graph with 11406 nodes and 286773 edges\n"
     ]
    }
   ],
   "source": [
    "gph = nx.read_gexf(\"./contribConnected.gexf\")\n",
    "print(gph)\n",
    "# gph.number_of_edges()"
   ]
  },
  {
   "cell_type": "code",
   "execution_count": 3,
   "metadata": {},
   "outputs": [],
   "source": [
    "B = gph\n",
    "\n",
    "users = [n for n, d in B.nodes(data=True) if d[\"bipartite\"] == 0]\n",
    "issues = [n for n, d in B.nodes(data=True) if d[\"bipartite\"] == 1]"
   ]
  },
  {
   "cell_type": "code",
   "execution_count": 4,
   "metadata": {},
   "outputs": [
    {
     "name": "stdout",
     "output_type": "stream",
     "text": [
      "2000\n"
     ]
    }
   ],
   "source": [
    "def removeEdges(graph):\n",
    "    g = nx.Graph()\n",
    "    initial = graph.number_of_edges()\n",
    "    issuesList = random.sample(issues, 2000)\n",
    "    for i in issuesList:\n",
    "        for j in list(graph.neighbors(i)):\n",
    "            if graph.nodes[j][\"bipartite\"] == 0:\n",
    "                g.add_node(i, bipartite=1)\n",
    "                g.add_node(j, bipartite=0)\n",
    "                g.add_edge(i,j)\n",
    "                graph.remove_edge(i,j)\n",
    "    final = graph.number_of_edges()\n",
    "    print(initial - final)\n",
    "    return g,graph\n",
    "\n",
    "G = B\n",
    "og, test = removeEdges(G)"
   ]
  },
  {
   "cell_type": "code",
   "execution_count": 5,
   "metadata": {},
   "outputs": [],
   "source": [
    "issue_nodes = [n for n in test.nodes() if test.nodes[n]['bipartite'] == 0]\n",
    "user_nodes = [n for n in test.nodes() if test.nodes[n]['bipartite'] == 1]"
   ]
  },
  {
   "cell_type": "code",
   "execution_count": 6,
   "metadata": {},
   "outputs": [],
   "source": [
    "def preferential_attachment(G, issue, user):\n",
    "    issue_neighbors = set(G.neighbors(issue))\n",
    "    user_neighbors = set(G.neighbors(user))\n",
    "    return len(issue_neighbors) * len(user_neighbors)"
   ]
  },
  {
   "cell_type": "code",
   "execution_count": 11,
   "metadata": {},
   "outputs": [],
   "source": [
    "def prefAttach(gph, threshold):\n",
    "    predicted = []\n",
    "    for issue in issue_nodes:\n",
    "        for user in user_nodes:\n",
    "            if gph.has_edge(user, issue):\n",
    "                continue\n",
    "            score = preferential_attachment(gph, issue, user)\n",
    "            if (score>=threshold):\n",
    "                predicted.append((issue, user, score))\n",
    "    return sorted(predicted, key=lambda x: x[2], reverse=True)\n",
    "            # print(f\"Preferential attachment score for issue {issue} and user {user}: {score}\")"
   ]
  },
  {
   "cell_type": "code",
   "execution_count": 17,
   "metadata": {},
   "outputs": [],
   "source": [
    "pred_list = prefAttach(test, 100000)"
   ]
  },
  {
   "cell_type": "code",
   "execution_count": 18,
   "metadata": {},
   "outputs": [
    {
     "name": "stdout",
     "output_type": "stream",
     "text": [
      "('devonestes', 'PR_kwDOAiEj5s5JN1-j', 1466210)\n",
      "('sonic182', 'PR_kwDOCJHJec4wRF9I', 100116)\n",
      "29597\n"
     ]
    }
   ],
   "source": [
    "og_list = og.edges()\n",
    "og_list = list(og_list)"
   ]
  },
  {
   "cell_type": "code",
   "execution_count": 19,
   "metadata": {},
   "outputs": [
    {
     "name": "stdout",
     "output_type": "stream",
     "text": [
      "29597\n",
      "2000\n",
      "2\n",
      "('oohnoitz', 'PR_kwDOAPU_ic5LQVFb')\n",
      "('ChristianKleineidam', 'PR_kwDOAiEj5s5K4pqq')\n"
     ]
    }
   ],
   "source": [
    "for i in range(len(pred_list)):\n",
    "    pred_list[i] = pred_list[i][:2]\n",
    "\n",
    "print(len(pred_list))\n",
    "print(len(og_list))\n",
    "common = []\n",
    "\n",
    "for edge1 in pred_list:\n",
    "    for edge2 in og_list:\n",
    "        sorted_edge1 = tuple(sorted(edge1))\n",
    "        sorted_edge2 = tuple(sorted(edge2))\n",
    "        if sorted_edge1 == sorted_edge2:\n",
    "            common.append(edge1)\n",
    "            break\n",
    "\n",
    "print(len(common))\n",
    "for i in common:\n",
    "    print(i)"
   ]
  },
  {
   "cell_type": "code",
   "execution_count": 21,
   "metadata": {},
   "outputs": [
    {
     "name": "stdout",
     "output_type": "stream",
     "text": [
      "3\n",
      "('oohnoitz', 'PR_kwDOAPU_ic5LQVFb')\n",
      "('ChristianKleineidam', 'PR_kwDOAiEj5s5K4pqq')\n",
      "('gerhard', 'PR_kwDOAucecs5KRiTF')\n"
     ]
    }
   ],
   "source": [
    "# changing threshold\n",
    "\n",
    "pred_list2 = prefAttach(test, 50000)\n",
    "\n",
    "for i in range(len(pred_list2)):\n",
    "    pred_list2[i] = pred_list2[i][:2]\n",
    "\n",
    "common2 = []\n",
    "\n",
    "for edge1 in pred_list2:\n",
    "    for edge2 in og_list:\n",
    "        sorted_edge1 = tuple(sorted(edge1))\n",
    "        sorted_edge2 = tuple(sorted(edge2))\n",
    "        if sorted_edge1 == sorted_edge2:\n",
    "            common2.append(edge1)\n",
    "            break\n",
    "\n",
    "print(len(common2))\n",
    "for i in common2:\n",
    "    print(i)"
   ]
  },
  {
   "cell_type": "code",
   "execution_count": 22,
   "metadata": {},
   "outputs": [
    {
     "name": "stdout",
     "output_type": "stream",
     "text": [
      "3\n",
      "('oohnoitz', 'PR_kwDOAPU_ic5LQVFb')\n",
      "('ChristianKleineidam', 'PR_kwDOAiEj5s5K4pqq')\n",
      "('gerhard', 'PR_kwDOAucecs5KRiTF')\n"
     ]
    }
   ],
   "source": [
    "# changing threshold\n",
    "\n",
    "pred_list3 = prefAttach(test, 25000)\n",
    "\n",
    "for i in range(len(pred_list3)):\n",
    "    pred_list3[i] = pred_list3[i][:2]\n",
    "\n",
    "common3 = []\n",
    "\n",
    "for edge1 in pred_list3:\n",
    "    for edge2 in og_list:\n",
    "        sorted_edge1 = tuple(sorted(edge1))\n",
    "        sorted_edge2 = tuple(sorted(edge2))\n",
    "        if sorted_edge1 == sorted_edge2:\n",
    "            common3.append(edge1)\n",
    "            break\n",
    "\n",
    "print(len(common3))\n",
    "for i in common3:\n",
    "    print(i)"
   ]
  }
 ],
 "metadata": {
  "kernelspec": {
   "display_name": "Python 3",
   "language": "python",
   "name": "python3"
  },
  "language_info": {
   "codemirror_mode": {
    "name": "ipython",
    "version": 3
   },
   "file_extension": ".py",
   "mimetype": "text/x-python",
   "name": "python",
   "nbconvert_exporter": "python",
   "pygments_lexer": "ipython3",
   "version": "3.11.2"
  },
  "orig_nbformat": 4
 },
 "nbformat": 4,
 "nbformat_minor": 2
}
