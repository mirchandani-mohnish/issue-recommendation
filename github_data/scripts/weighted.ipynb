{
 "cells": [
  {
   "cell_type": "code",
   "execution_count": null,
   "metadata": {},
   "outputs": [],
   "source": [
    "import networkx as nx\n",
    "import random "
   ]
  },
  {
   "cell_type": "code",
   "execution_count": null,
   "metadata": {},
   "outputs": [],
   "source": [
    "gph = nx.read_gexf(\"./contribConnected.gexf\")"
   ]
  },
  {
   "cell_type": "code",
   "execution_count": null,
   "metadata": {},
   "outputs": [],
   "source": [
    "B = gph\n",
    "\n",
    "users = [n for n, d in B.nodes(data=True) if d[\"bipartite\"] == 0]\n",
    "issues = [n for n, d in B.nodes(data=True) if d[\"bipartite\"] == 1]"
   ]
  },
  {
   "cell_type": "code",
   "execution_count": null,
   "metadata": {},
   "outputs": [],
   "source": [
    "def weighted_projected_graph(B, nodesU,nodesI, weight_function=None):\n",
    "    # Create a new graph for the weighted projection\n",
    "    W = nx.Graph()\n",
    "\n",
    "    # Get the nodes from one bipartite node set\n",
    "    # if nodes is None:\n",
    "    #     nodes = set(B)\n",
    "\n",
    "    # Get the weights for the nodes\n",
    "    if weight_function is None:\n",
    "        weight_function = lambda x, y, r: len(r)\n",
    "\n",
    "    # For each pair of nodes in the same bipartite node set\n",
    "    for u in nodesU:\n",
    "        for v in nodesI:\n",
    "            # if u == v:\n",
    "            #     continue\n",
    "            neighbors_u = set(B[u])\n",
    "            neighbors_v = set(B[v])\n",
    "\n",
    "            # Find the shared neighbors of u and v\n",
    "            shared_neighbors = neighbors_u & neighbors_v\n",
    "\n",
    "            # Calculate the similarity probability\n",
    "            weight = weight_function(u, v, shared_neighbors)\n",
    "\n",
    "            # Add the weighted edge to the new graph\n",
    "            if weight > 0:\n",
    "                W.add_edge(u, v, weight=weight)\n",
    "\n",
    "    return W"
   ]
  },
  {
   "cell_type": "code",
   "execution_count": null,
   "metadata": {},
   "outputs": [],
   "source": [
    "# Define a weight function for the shared neighbors\n",
    "def weight_function(u, v, shared_neighbors):\n",
    "    return len(shared_neighbors)\n",
    "\n",
    "# Call the weighted_projected_graph function with the bipartite graph and the weight function\n",
    "# W = weighted_projected_graph(C_sub, nodes=C_sub.nodes, weight_function=weight_function)\n",
    "W = weighted_projected_graph(B, users,issues, weight_function=weight_function)\n",
    "\n",
    "# Print the weighted projected graph\n",
    "# print(W.edges(data=True))"
   ]
  },
  {
   "cell_type": "code",
   "execution_count": null,
   "metadata": {},
   "outputs": [],
   "source": [
    "for i in W.edges(data=True):\n",
    "    print(i)"
   ]
  },
  {
   "cell_type": "code",
   "execution_count": null,
   "metadata": {},
   "outputs": [],
   "source": [
    "max_weight = max(nx.get_edge_attributes(W, 'weight').values())\n",
    "\n",
    "print(max_weight)\n"
   ]
  },
  {
   "cell_type": "code",
   "execution_count": null,
   "metadata": {},
   "outputs": [],
   "source": [
    "for u, v, weight in W.edges(data='weight'):\n",
    "    W[u][v]['weight'] = weight / max_weight\n"
   ]
  },
  {
   "cell_type": "code",
   "execution_count": null,
   "metadata": {},
   "outputs": [],
   "source": [
    "sorted_edges = sorted(W.edges(data=True), key=lambda x: x[2]['weight'], reverse=True)\n"
   ]
  },
  {
   "cell_type": "code",
   "execution_count": null,
   "metadata": {},
   "outputs": [],
   "source": [
    "for u,v,data in sorted_edges:\n",
    "    print(u + \"--------------->\" + v +  \"------\", data)"
   ]
  }
 ],
 "metadata": {
  "kernelspec": {
   "display_name": "Python 3",
   "language": "python",
   "name": "python3"
  },
  "language_info": {
   "codemirror_mode": {
    "name": "ipython",
    "version": 3
   },
   "file_extension": ".py",
   "mimetype": "text/x-python",
   "name": "python",
   "nbconvert_exporter": "python",
   "pygments_lexer": "ipython3",
   "version": "3.11.2"
  },
  "orig_nbformat": 4
 },
 "nbformat": 4,
 "nbformat_minor": 2
}
