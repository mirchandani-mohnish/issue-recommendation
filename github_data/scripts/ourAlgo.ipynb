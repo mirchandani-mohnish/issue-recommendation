{
 "cells": [
  {
   "cell_type": "code",
   "execution_count": 271,
   "metadata": {},
   "outputs": [],
   "source": [
    "import random\n",
    "import networkx as nx\n",
    "import math"
   ]
  },
  {
   "cell_type": "code",
   "execution_count": 272,
   "metadata": {},
   "outputs": [
    {
     "name": "stdout",
     "output_type": "stream",
     "text": [
      "graph file found at \n",
      "Graph with 500 nodes and 2502 edges\n"
     ]
    }
   ],
   "source": [
    "try:\n",
    "    gph = nx.read_gexf(\"./microGraph.gexf\")\n",
    "    print(\"graph file found at \" + str())\n",
    "    print(gph)\n",
    "\n",
    "except Exception as e: # if any error\n",
    "    print(e)\n",
    "    gph = nx.Graph()"
   ]
  },
  {
   "cell_type": "code",
   "execution_count": 273,
   "metadata": {},
   "outputs": [],
   "source": [
    "values = {}\n",
    "contributions = set() # all nodes with type contribution\n",
    "starred = set() # all nodes with type starred repo\n"
   ]
  },
  {
   "cell_type": "code",
   "execution_count": 274,
   "metadata": {},
   "outputs": [],
   "source": [
    "for n in gph.nodes(data = True):\n",
    "    if n[1]['bipartite'] == 0:\n",
    "        values[n[0]] = 1\n",
    "    else:\n",
    "        values[n[0]] = 2\n",
    "\n",
    "for n in gph.edges(data = True):\n",
    "    if 'contributions' in n[2]:\n",
    "        contributions.add(n[0])\n",
    "        contributions.add(n[1])\n",
    "    else:\n",
    "        starred.add(n[0])\n",
    "        starred.add(n[1])"
   ]
  },
  {
   "cell_type": "code",
   "execution_count": 275,
   "metadata": {},
   "outputs": [],
   "source": [
    "threshold = 3\n",
    "\n",
    "def algo(gph):\n",
    "    predicted = []\n",
    "\n",
    "    for node in gph.nodes():\n",
    "\n",
    "        if values[node] == 1: # if it is user\n",
    "            current_user = node\n",
    "            weight = {} # to store weights of issues\n",
    "            prediction = []\n",
    "            for nodes in gph.neighbors(current_user):\n",
    "                if values[nodes] == 2: # issues connected to users\n",
    "                    issues = nodes\n",
    "                    for issue_neigh in gph.neighbors(issues): # neighbours of issues connected to users\n",
    "                        if values[issue_neigh] == 2:\n",
    "                            if issue_neigh in weight:\n",
    "                                weight[issue_neigh] += 1\n",
    "                            else:\n",
    "                                weight[issue_neigh] = 1\n",
    "                else: # users connected to users\n",
    "                    user = nodes\n",
    "                    if user in contributions: # if user is connected via contribution\n",
    "                        for issue_neigh in gph.neighbors(user): # issues that are neighbours of users connected to cuurent user \n",
    "                            if values[issue_neigh] == 2:\n",
    "                                if issue_neigh in weight:\n",
    "                                    weight[issue_neigh] += 2\n",
    "                                else:\n",
    "                                    weight[issue_neigh] = 2\n",
    "                    else: # if user is connected via starred repo\n",
    "                        for issue_neigh in gph.neighbors(user): # issues that are neighbours of users connected to cuurent user\n",
    "                            if values[issue_neigh] == 2:\n",
    "                                if issue_neigh in weight:\n",
    "                                    weight[issue_neigh] += 1\n",
    "                                else:\n",
    "                                    weight[issue_neigh] = 1\n",
    "            \n",
    "            Issues = list(weight.keys())\n",
    "            Weights = list(weight.values())\n",
    "\n",
    "            # print(Issues)\n",
    "            # print(Weights)\n",
    "\n",
    "            # print(current_user, end = \" --> \")\n",
    "            # Probability = Element Weight / Sum Of All Weights\n",
    "            \n",
    "            # for i in Issues:\n",
    "            #     for j in Weights:\n",
    "            #         if (i != None and j!= None):\n",
    "\n",
    "            sorted_prediction = sorted(weight.items(), key = lambda x:x[1], reverse=True)\n",
    "            predicted_issue = sorted_prediction[0][0]\n",
    "            # predicted_issue = random.choices(Issues, Weights, k = 1)[0]\n",
    "            # print(predicted_issue) # k is the number of outputs\n",
    "            \n",
    "            predicted.append([current_user, predicted_issue])\n",
    "    \n",
    "    return predicted\n"
   ]
  },
  {
   "cell_type": "code",
   "execution_count": 276,
   "metadata": {},
   "outputs": [],
   "source": [
    "B= gph\n",
    "\n",
    "\n",
    "users = [n for n, d in B.nodes(data=True) if d[\"bipartite\"] == 0]\n",
    "issues = [n for n, d in B.nodes(data=True) if d[\"bipartite\"] == 1]\n",
    "\n",
    "n = len(issues)"
   ]
  },
  {
   "cell_type": "code",
   "execution_count": 277,
   "metadata": {},
   "outputs": [
    {
     "name": "stdout",
     "output_type": "stream",
     "text": [
      "10\n"
     ]
    }
   ],
   "source": [
    "def removeEdges(graph):\n",
    "    g = nx.Graph()\n",
    "    initial = graph.number_of_edges()\n",
    "    issuesList = random.sample(issues, 10)\n",
    "    for i in issuesList:\n",
    "        for j in list(graph.neighbors(i)):\n",
    "            if graph.nodes[j][\"bipartite\"] == 0:\n",
    "                g.add_node(i, bipartite=1)\n",
    "                g.add_node(j, bipartite=0)\n",
    "                g.add_edge(i,j)\n",
    "                graph.remove_edge(i,j)\n",
    "    final = graph.number_of_edges()\n",
    "    print(initial - final)\n",
    "    return g,graph\n",
    "\n",
    "train, test = removeEdges(B)"
   ]
  },
  {
   "cell_type": "code",
   "execution_count": 278,
   "metadata": {},
   "outputs": [
    {
     "ename": "IndexError",
     "evalue": "list index out of range",
     "output_type": "error",
     "traceback": [
      "\u001b[1;31m---------------------------------------------------------------------------\u001b[0m",
      "\u001b[1;31mIndexError\u001b[0m                                Traceback (most recent call last)",
      "Cell \u001b[1;32mIn[278], line 1\u001b[0m\n\u001b[1;32m----> 1\u001b[0m predicted \u001b[39m=\u001b[39m algo(test)\n",
      "Cell \u001b[1;32mIn[275], line 52\u001b[0m, in \u001b[0;36malgo\u001b[1;34m(gph)\u001b[0m\n\u001b[0;32m     41\u001b[0m \u001b[39m# print(Issues)\u001b[39;00m\n\u001b[0;32m     42\u001b[0m \u001b[39m# print(Weights)\u001b[39;00m\n\u001b[0;32m     43\u001b[0m \n\u001b[1;32m   (...)\u001b[0m\n\u001b[0;32m     48\u001b[0m \u001b[39m#     for j in Weights:\u001b[39;00m\n\u001b[0;32m     49\u001b[0m \u001b[39m#         if (i != None and j!= None):\u001b[39;00m\n\u001b[0;32m     51\u001b[0m sorted_prediction \u001b[39m=\u001b[39m \u001b[39msorted\u001b[39m(weight\u001b[39m.\u001b[39mitems(), key \u001b[39m=\u001b[39m \u001b[39mlambda\u001b[39;00m x:x[\u001b[39m1\u001b[39m], reverse\u001b[39m=\u001b[39m\u001b[39mTrue\u001b[39;00m)\n\u001b[1;32m---> 52\u001b[0m predicted_issue \u001b[39m=\u001b[39m sorted_prediction[\u001b[39m0\u001b[39;49m][\u001b[39m0\u001b[39m]\n\u001b[0;32m     53\u001b[0m \u001b[39m# predicted_issue = random.choices(Issues, Weights, k = 1)[0]\u001b[39;00m\n\u001b[0;32m     54\u001b[0m \u001b[39m# print(predicted_issue) # k is the number of outputs\u001b[39;00m\n\u001b[0;32m     56\u001b[0m predicted\u001b[39m.\u001b[39mappend([current_user, predicted_issue])\n",
      "\u001b[1;31mIndexError\u001b[0m: list index out of range"
     ]
    }
   ],
   "source": [
    "predicted = algo(test)\n",
    "\n",
    "   "
   ]
  },
  {
   "cell_type": "code",
   "execution_count": null,
   "metadata": {},
   "outputs": [
    {
     "name": "stdout",
     "output_type": "stream",
     "text": [
      "[('PR_kwDOCmABf85CSdka', '0xZOne'), ('MDExOlB1bGxSZXF1ZXN0MzI1ODI1MjU2', 'apomalyn'), ('PR_kwDOBy2NM85I5ljj', 'hbina'), ('hbina', 'PR_kwDOBy2NM85I342w'), ('MDExOlB1bGxSZXF1ZXN0MzYwNjEwMzIw', 'brianegan'), ('PR_kwDOAiEj5s5IyevW', 'dart-lang'), ('MDExOlB1bGxSZXF1ZXN0MjY2OTgzMjY3', 'hutcwp'), ('PR_kwDODBDVB85KB3_p', 'firebase'), ('PR_kwDOCmABf85FQ_fS', 'JunhuaLin'), ('MDExOlB1bGxSZXF1ZXN0MzYyNTE3MzQ4', 'htynkn')]\n",
      "0\n"
     ]
    }
   ],
   "source": [
    "og_list = train.edges()\n",
    "og_list = list(og_list)\n",
    "\n",
    "print(og_list)\n",
    "common_edges = []\n",
    "\n",
    "for edge1 in predicted:\n",
    "    for edge2 in og_list:\n",
    "        sorted_edge1 = tuple(sorted(edge1))\n",
    "        sorted_edge2 = tuple(sorted(edge2))\n",
    "        if sorted_edge1 == sorted_edge2:\n",
    "            common_edges.append(edge1)\n",
    "            break\n",
    "\n",
    "print(len(common_edges))\n",
    "for i in common_edges:\n",
    "    print(i)\n"
   ]
  }
 ],
 "metadata": {
  "kernelspec": {
   "display_name": "Python 3",
   "language": "python",
   "name": "python3"
  },
  "language_info": {
   "codemirror_mode": {
    "name": "ipython",
    "version": 3
   },
   "file_extension": ".py",
   "mimetype": "text/x-python",
   "name": "python",
   "nbconvert_exporter": "python",
   "pygments_lexer": "ipython3",
   "version": "3.11.2"
  },
  "orig_nbformat": 4
 },
 "nbformat": 4,
 "nbformat_minor": 2
}
