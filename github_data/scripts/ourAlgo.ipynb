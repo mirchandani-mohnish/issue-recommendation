{
 "cells": [
  {
   "cell_type": "code",
   "execution_count": 574,
   "metadata": {},
   "outputs": [],
   "source": [
    "import random\n",
    "import networkx as nx\n",
    "import math"
   ]
  },
  {
   "cell_type": "code",
   "execution_count": 575,
   "metadata": {},
   "outputs": [
    {
     "name": "stdout",
     "output_type": "stream",
     "text": [
      "graph file found at \n",
      "Graph with 11406 nodes and 286773 edges\n"
     ]
    }
   ],
   "source": [
    "try:\n",
    "    gph = nx.read_gexf(\"./contribConnected.gexf\")\n",
    "    print(\"graph file found at \" + str())\n",
    "    print(gph)\n",
    "\n",
    "except Exception as e: # if any error\n",
    "    print(e)\n",
    "    gph = nx.Graph()"
   ]
  },
  {
   "cell_type": "code",
   "execution_count": 576,
   "metadata": {},
   "outputs": [],
   "source": [
    "values = {}\n",
    "contributions = set() # all nodes with type contribution\n",
    "starred = set() # all nodes with type starred repo\n"
   ]
  },
  {
   "cell_type": "code",
   "execution_count": 577,
   "metadata": {},
   "outputs": [],
   "source": [
    "\n",
    "\n",
    "def algo(gph):\n",
    "    values = {}\n",
    "    contributions = set() # all nodes with type contribution\n",
    "    starred = set() # all nodes with type starred repo\n",
    "\n",
    "    for n in gph.nodes(data = True):\n",
    "        if n[1]['bipartite'] == 0:\n",
    "            values[n[0]] = 1\n",
    "        else:\n",
    "            values[n[0]] = 2\n",
    "\n",
    "    for n in gph.edges(data = True):\n",
    "        if 'contributions' in n[2]:\n",
    "            contributions.add(n[0])\n",
    "            contributions.add(n[1])\n",
    "        else:\n",
    "            starred.add(n[0])\n",
    "            starred.add(n[1])\n",
    "\n",
    "    # users -> 1\n",
    "    # issues -> 2\n",
    "    # contribution -> 3\n",
    "    # starred -> 4\n",
    "\n",
    "    threshold = 3\n",
    "    predicted = []\n",
    "\n",
    "    for node in gph.nodes():\n",
    "\n",
    "        if values[node] == 1: # if it is user\n",
    "            current_user = node\n",
    "            weight = {} # to store weights of issues\n",
    "            prediction = []\n",
    "            for nodes in gph.neighbors(current_user):\n",
    "                if values[nodes] == 2: # issues connected to users\n",
    "                    issues = nodes\n",
    "                    for issue_neigh in gph.neighbors(issues): # neighbours of issues connected to users\n",
    "                        if values[issue_neigh] == 2:\n",
    "                            if issue_neigh in weight:\n",
    "                                weight[issue_neigh] += 1\n",
    "                            else:\n",
    "                                weight[issue_neigh] = 1\n",
    "                else: # users connected to users\n",
    "                    user = nodes\n",
    "                    if user in contributions: # if user is connected via contribution\n",
    "                        for issue_neigh in gph.neighbors(user): # issues that are neighbours of users connected to cuurent user \n",
    "                            if values[issue_neigh] == 2:\n",
    "                                if issue_neigh in weight:\n",
    "                                    weight[issue_neigh] += 2\n",
    "                                else:\n",
    "                                    weight[issue_neigh] = 2\n",
    "                    else: # if user is connected via starred repo\n",
    "                        for issue_neigh in gph.neighbors(user): # issues that are neighbours of users connected to cuurent user\n",
    "                            if values[issue_neigh] == 2:\n",
    "                                if issue_neigh in weight:\n",
    "                                    weight[issue_neigh] += 1\n",
    "                                else:\n",
    "                                    weight[issue_neigh] = 1\n",
    "            \n",
    "            Issues = list(weight.keys())\n",
    "            Weights = list(weight.values())\n",
    "\n",
    "            # print(current_user, end = \" --> \")\n",
    "            # Probability = Element Weight / Sum Of All Weights\n",
    "            # predicted_issue = random.choices(Issues, Weights, k = 1)[0]\n",
    "            # print(predicted_issue) # k is the number of outputs\n",
    "            sorted_prediction = sorted(weight.items(), key=lambda x: x[1], reverse=True)\n",
    "            # print(sorted_prediction)\n",
    "            for x in range(0,len(sorted_prediction)):\n",
    "                if(sorted_prediction[x][1] > 1):\n",
    "                    predicted_issue = sorted_prediction[x][0]\n",
    "                    predicted.append([current_user, predicted_issue])\n",
    "    return predicted\n",
    "\n"
   ]
  },
  {
   "cell_type": "code",
   "execution_count": 578,
   "metadata": {},
   "outputs": [],
   "source": [
    "B= gph\n",
    "\n",
    "\n",
    "users = [n for n, d in B.nodes(data=True) if d[\"bipartite\"] == 0]\n",
    "issues = [n for n, d in B.nodes(data=True) if d[\"bipartite\"] == 1]\n",
    "\n",
    "n = len(issues)"
   ]
  },
  {
   "cell_type": "code",
   "execution_count": 579,
   "metadata": {},
   "outputs": [
    {
     "name": "stdout",
     "output_type": "stream",
     "text": [
      "2000\n"
     ]
    }
   ],
   "source": [
    "def removeEdges(graph, n):\n",
    "    g = nx.Graph()\n",
    "    initial = graph.number_of_edges()\n",
    "    issuesList = random.sample(issues, n)\n",
    "    for i in issuesList:\n",
    "        for j in list(graph.neighbors(i)):\n",
    "            if graph.nodes[j][\"bipartite\"] == 0:\n",
    "                g.add_node(i, bipartite=1)\n",
    "                g.add_node(j, bipartite=0)\n",
    "                g.add_edge(i,j)\n",
    "                graph.remove_edge(i,j)\n",
    "    final = graph.number_of_edges()\n",
    "    print(initial - final)\n",
    "    return g,graph\n",
    "\n",
    "B = gph.copy()\n",
    "train, test = removeEdges(B,2000)"
   ]
  },
  {
   "cell_type": "code",
   "execution_count": 580,
   "metadata": {},
   "outputs": [],
   "source": [
    "predicted = algo(test)"
   ]
  },
  {
   "cell_type": "code",
   "execution_count": 581,
   "metadata": {},
   "outputs": [
    {
     "name": "stdout",
     "output_type": "stream",
     "text": [
      "8\n",
      "['lapce', 'PR_kwDOBy2NM85LQJYb']\n",
      "['login', 'MDExOlB1bGxSZXF1ZXN0NjIyMTY2OTU=']\n",
      "['login', 'MDExOlB1bGxSZXF1ZXN0NTkzMDE2MTQ=']\n",
      "['kaina404', 'MDExOlB1bGxSZXF1ZXN0Mjc4NTA4Mjc0']\n",
      "['kaina404', 'MDExOlB1bGxSZXF1ZXN0Mjc2NTQyNjA4']\n",
      "['SandPoot', 'PR_kwDOA7lyys5KeDbQ']\n",
      "['SS13-SCP13', 'MDExOlB1bGxSZXF1ZXN0MjQxMDA4NTQz']\n",
      "['FarmBot', 'PR_kwDOAPHTvM5LJ4Ko']\n"
     ]
    }
   ],
   "source": [
    "og_list = train.edges()\n",
    "og_list = list(og_list)\n",
    "\n",
    "# print(og_list)\n",
    "common_edges = []\n",
    "\n",
    "for edge1 in predicted:\n",
    "    for edge2 in og_list:\n",
    "        # print(\"-------------\")\n",
    "        \n",
    "        sorted_edge1 = tuple(sorted(edge1))\n",
    "        sorted_edge2 = tuple(sorted(edge2))\n",
    "        # print(sorted_edge1)\n",
    "        # print(sorted_edge2)\n",
    "        if sorted_edge1 == sorted_edge2:\n",
    "            # print(edge1)\n",
    "            # print(edge2)\n",
    "            # print(str(sorted_edge1) + \"--------\" + str(sorted_edge2))\n",
    "            common_edges.append(edge1)\n",
    "            break\n",
    "\n",
    "print(len(common_edges))\n",
    "for i in common_edges:\n",
    "    print(i)\n"
   ]
  }
 ],
 "metadata": {
  "kernelspec": {
   "display_name": "Python 3",
   "language": "python",
   "name": "python3"
  },
  "language_info": {
   "codemirror_mode": {
    "name": "ipython",
    "version": 3
   },
   "file_extension": ".py",
   "mimetype": "text/x-python",
   "name": "python",
   "nbconvert_exporter": "python",
   "pygments_lexer": "ipython3",
   "version": "3.11.2"
  },
  "orig_nbformat": 4
 },
 "nbformat": 4,
 "nbformat_minor": 2
}
